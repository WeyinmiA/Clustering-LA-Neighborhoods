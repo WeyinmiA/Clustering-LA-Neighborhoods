{
 "cells": [
  {
   "cell_type": "markdown",
   "metadata": {},
   "source": [
    "# Segmenting and Clustering Neighborhoods in Los Angeles"
   ]
  },
  {
   "cell_type": "markdown",
   "metadata": {},
   "source": [
    "This project aims to survey and explore neighborhoods in Los Angeles (LA), California. LA is a big place, so to narrow down the scope of this investigation a bit, let's only consider zip codes that have a [sectional center facility](https://en.wikipedia.org/wiki/ZIP_Code#Structure_and_allocation) of 900 i.e. zip codes starting with 900!\n",
    "\n",
    "After the data has been loaded and preprocessed, a call to the Foursquare API will be made to explore and segment the neighborhoods in LA. Foursquare's **explore** function will be utilized to get the most common venue categories in each neighborhood, and then this feature will be used to group the neighborhoods into clusters. The clustering algorithm of choice to complete this task will be the *k*-means. Finally, the Folium library will be used to visualize the neighborhoods and their emerging clusters."
   ]
  },
  {
   "cell_type": "markdown",
   "metadata": {},
   "source": [
    "## Table of Contents \n",
    "\n",
    "1. **Loading and Preprocessing Datasets**\n",
    "\n",
    "2. **Exploring the neighborhoods in LA**\n",
    "\n",
    "3. **Analyzing the neighborhoods in LA**\n",
    "\n",
    "4. **Clustering the neighborhoods in LA**\n",
    "\n",
    "5. **Examining the clusters**\n"
   ]
  },
  {
   "cell_type": "code",
   "execution_count": 1,
   "metadata": {},
   "outputs": [
    {
     "name": "stdout",
     "output_type": "stream",
     "text": [
      "Collecting beautifulsoup4\n",
      "\u001b[?25l  Downloading https://files.pythonhosted.org/packages/66/25/ff030e2437265616a1e9b25ccc864e0371a0bc3adb7c5a404fd661c6f4f6/beautifulsoup4-4.9.1-py3-none-any.whl (115kB)\n",
      "\u001b[K     |████████████████████████████████| 122kB 16.8MB/s eta 0:00:01    |████████████████████████████▌   | 102kB 16.8MB/s eta 0:00:01\n",
      "\u001b[?25hCollecting soupsieve>1.2 (from beautifulsoup4)\n",
      "  Downloading https://files.pythonhosted.org/packages/6f/8f/457f4a5390eeae1cc3aeab89deb7724c965be841ffca6cfca9197482e470/soupsieve-2.0.1-py3-none-any.whl\n",
      "Installing collected packages: soupsieve, beautifulsoup4\n",
      "Successfully installed beautifulsoup4-4.9.1 soupsieve-2.0.1\n",
      "Collecting package metadata (current_repodata.json): done\n",
      "Solving environment: failed with initial frozen solve. Retrying with flexible solve.\n",
      "Collecting package metadata (repodata.json): done\n",
      "Solving environment: done\n",
      "\n",
      "## Package Plan ##\n",
      "\n",
      "  environment location: /home/jupyterlab/conda/envs/python\n",
      "\n",
      "  added / updated specs:\n",
      "    - folium=0.5.0\n",
      "\n",
      "\n",
      "The following packages will be downloaded:\n",
      "\n",
      "    package                    |            build\n",
      "    ---------------------------|-----------------\n",
      "    altair-4.1.0               |             py_1         614 KB  conda-forge\n",
      "    branca-0.4.1               |             py_0          26 KB  conda-forge\n",
      "    brotlipy-0.7.0             |py36h8c4c3a4_1000         346 KB  conda-forge\n",
      "    chardet-3.0.4              |py36h9f0ad1d_1006         188 KB  conda-forge\n",
      "    cryptography-2.9.2         |   py36h45558ae_0         613 KB  conda-forge\n",
      "    folium-0.5.0               |             py_0          45 KB  conda-forge\n",
      "    pandas-1.0.4               |   py36h830a2c2_0        10.1 MB  conda-forge\n",
      "    pysocks-1.7.1              |   py36h9f0ad1d_1          27 KB  conda-forge\n",
      "    toolz-0.10.0               |             py_0          46 KB  conda-forge\n",
      "    vincent-0.4.4              |             py_1          28 KB  conda-forge\n",
      "    ------------------------------------------------------------\n",
      "                                           Total:        12.0 MB\n",
      "\n",
      "The following NEW packages will be INSTALLED:\n",
      "\n",
      "  altair             conda-forge/noarch::altair-4.1.0-py_1\n",
      "  attrs              conda-forge/noarch::attrs-19.3.0-py_0\n",
      "  branca             conda-forge/noarch::branca-0.4.1-py_0\n",
      "  brotlipy           conda-forge/linux-64::brotlipy-0.7.0-py36h8c4c3a4_1000\n",
      "  chardet            conda-forge/linux-64::chardet-3.0.4-py36h9f0ad1d_1006\n",
      "  cryptography       conda-forge/linux-64::cryptography-2.9.2-py36h45558ae_0\n",
      "  entrypoints        conda-forge/linux-64::entrypoints-0.3-py36h9f0ad1d_1001\n",
      "  folium             conda-forge/noarch::folium-0.5.0-py_0\n",
      "  idna               conda-forge/noarch::idna-2.9-py_1\n",
      "  importlib_metadata conda-forge/noarch::importlib_metadata-1.6.0-0\n",
      "  jinja2             conda-forge/noarch::jinja2-2.11.2-pyh9f0ad1d_0\n",
      "  jsonschema         conda-forge/linux-64::jsonschema-3.2.0-py36h9f0ad1d_1\n",
      "  markupsafe         conda-forge/linux-64::markupsafe-1.1.1-py36h8c4c3a4_1\n",
      "  pandas             conda-forge/linux-64::pandas-1.0.4-py36h830a2c2_0\n",
      "  pyopenssl          conda-forge/noarch::pyopenssl-19.1.0-py_1\n",
      "  pyrsistent         conda-forge/linux-64::pyrsistent-0.16.0-py36h8c4c3a4_0\n",
      "  pysocks            conda-forge/linux-64::pysocks-1.7.1-py36h9f0ad1d_1\n",
      "  pytz               conda-forge/noarch::pytz-2020.1-pyh9f0ad1d_0\n",
      "  requests           conda-forge/noarch::requests-2.23.0-pyh8c360ce_2\n",
      "  toolz              conda-forge/noarch::toolz-0.10.0-py_0\n",
      "  urllib3            conda-forge/noarch::urllib3-1.25.9-py_0\n",
      "  vincent            conda-forge/noarch::vincent-0.4.4-py_1\n",
      "\n",
      "\n",
      "\n",
      "Downloading and Extracting Packages\n",
      "pysocks-1.7.1        | 27 KB     | ##################################### | 100% \n",
      "toolz-0.10.0         | 46 KB     | ##################################### | 100% \n",
      "chardet-3.0.4        | 188 KB    | ##################################### | 100% \n",
      "pandas-1.0.4         | 10.1 MB   | ##################################### | 100% \n",
      "folium-0.5.0         | 45 KB     | ##################################### | 100% \n",
      "branca-0.4.1         | 26 KB     | ##################################### | 100% \n",
      "cryptography-2.9.2   | 613 KB    | ##################################### | 100% \n",
      "brotlipy-0.7.0       | 346 KB    | ##################################### | 100% \n",
      "altair-4.1.0         | 614 KB    | ##################################### | 100% \n",
      "vincent-0.4.4        | 28 KB     | ##################################### | 100% \n",
      "Preparing transaction: done\n",
      "Verifying transaction: done\n",
      "Executing transaction: done\n",
      "Collecting package metadata (current_repodata.json): done\n",
      "Solving environment: done\n",
      "\n",
      "## Package Plan ##\n",
      "\n",
      "  environment location: /home/jupyterlab/conda/envs/python\n",
      "\n",
      "  added / updated specs:\n",
      "    - geopy\n",
      "\n",
      "\n",
      "The following packages will be downloaded:\n",
      "\n",
      "    package                    |            build\n",
      "    ---------------------------|-----------------\n",
      "    geographiclib-1.50         |             py_0          34 KB  conda-forge\n",
      "    geopy-1.22.0               |     pyh9f0ad1d_0          63 KB  conda-forge\n",
      "    ------------------------------------------------------------\n",
      "                                           Total:          97 KB\n",
      "\n",
      "The following NEW packages will be INSTALLED:\n",
      "\n",
      "  geographiclib      conda-forge/noarch::geographiclib-1.50-py_0\n",
      "  geopy              conda-forge/noarch::geopy-1.22.0-pyh9f0ad1d_0\n",
      "\n",
      "\n",
      "\n",
      "Downloading and Extracting Packages\n",
      "geopy-1.22.0         | 63 KB     | ##################################### | 100% \n",
      "geographiclib-1.50   | 34 KB     | ##################################### | 100% \n",
      "Preparing transaction: done\n",
      "Verifying transaction: done\n",
      "Executing transaction: done\n",
      "Libraries successfully installed!\n"
     ]
    }
   ],
   "source": [
    "import requests # library to handle requests\n",
    "!pip install beautifulsoup4\n",
    "from bs4 import BeautifulSoup # library for web scraping\n",
    "import pandas as pd # library to process data as dataframes\n",
    "import numpy as np # library to handle data in a vectorized manner\n",
    "\n",
    "!conda install -c conda-forge folium=0.5.0 --yes\n",
    "import folium # map rendering library\n",
    "\n",
    "!conda install -c conda-forge geopy --yes\n",
    "from geopy.geocoders import Nominatim # convert an address into latitude and longitude values\n",
    "\n",
    "from pandas.io.json import json_normalize # tranform JSON file into a pandas dataframe\n",
    "\n",
    "# Matplotlib and associated plotting modules\n",
    "import matplotlib.cm as cm\n",
    "import matplotlib.colors as colors\n",
    "import matplotlib.pyplot as plt\n",
    "\n",
    "# import k-means from clustering stage\n",
    "from sklearn.cluster import KMeans\n",
    "print(\"Libraries successfully installed!\")"
   ]
  },
  {
   "cell_type": "markdown",
   "metadata": {},
   "source": [
    "## 1. Loading and Preprocessing Datasets"
   ]
  },
  {
   "cell_type": "code",
   "execution_count": 2,
   "metadata": {},
   "outputs": [
    {
     "data": {
      "text/html": [
       "<div>\n",
       "<style scoped>\n",
       "    .dataframe tbody tr th:only-of-type {\n",
       "        vertical-align: middle;\n",
       "    }\n",
       "\n",
       "    .dataframe tbody tr th {\n",
       "        vertical-align: top;\n",
       "    }\n",
       "\n",
       "    .dataframe thead th {\n",
       "        text-align: right;\n",
       "    }\n",
       "</style>\n",
       "<table border=\"1\" class=\"dataframe\">\n",
       "  <thead>\n",
       "    <tr style=\"text-align: right;\">\n",
       "      <th></th>\n",
       "      <th>STR_NM</th>\n",
       "      <th>STR_SFX_CD</th>\n",
       "      <th>ZIP_CD</th>\n",
       "      <th>LAT</th>\n",
       "      <th>LON</th>\n",
       "    </tr>\n",
       "  </thead>\n",
       "  <tbody>\n",
       "    <tr>\n",
       "      <th>0</th>\n",
       "      <td>IVAR</td>\n",
       "      <td>AVE</td>\n",
       "      <td>90028</td>\n",
       "      <td>34.10369</td>\n",
       "      <td>-118.32831</td>\n",
       "    </tr>\n",
       "    <tr>\n",
       "      <th>1</th>\n",
       "      <td>BELFORD</td>\n",
       "      <td>AVE</td>\n",
       "      <td>90045</td>\n",
       "      <td>33.95675</td>\n",
       "      <td>-118.38381</td>\n",
       "    </tr>\n",
       "    <tr>\n",
       "      <th>2</th>\n",
       "      <td>MAUBERT</td>\n",
       "      <td>AVE</td>\n",
       "      <td>90027</td>\n",
       "      <td>34.09890</td>\n",
       "      <td>-118.29008</td>\n",
       "    </tr>\n",
       "    <tr>\n",
       "      <th>3</th>\n",
       "      <td>BELFORD</td>\n",
       "      <td>AVE</td>\n",
       "      <td>90045</td>\n",
       "      <td>33.95675</td>\n",
       "      <td>-118.38381</td>\n",
       "    </tr>\n",
       "    <tr>\n",
       "      <th>4</th>\n",
       "      <td>CHEREMOYA</td>\n",
       "      <td>AVE</td>\n",
       "      <td>90068</td>\n",
       "      <td>34.10839</td>\n",
       "      <td>-118.32073</td>\n",
       "    </tr>\n",
       "    <tr>\n",
       "      <th>5</th>\n",
       "      <td>CRESTA</td>\n",
       "      <td>DR</td>\n",
       "      <td>90035</td>\n",
       "      <td>34.04616</td>\n",
       "      <td>-118.38767</td>\n",
       "    </tr>\n",
       "    <tr>\n",
       "      <th>6</th>\n",
       "      <td>FORTUNA</td>\n",
       "      <td>ST</td>\n",
       "      <td>90011</td>\n",
       "      <td>33.99288</td>\n",
       "      <td>-118.24543</td>\n",
       "    </tr>\n",
       "    <tr>\n",
       "      <th>7</th>\n",
       "      <td>CRESCENT</td>\n",
       "      <td>DR</td>\n",
       "      <td>90046</td>\n",
       "      <td>34.11356</td>\n",
       "      <td>-118.38027</td>\n",
       "    </tr>\n",
       "    <tr>\n",
       "      <th>8</th>\n",
       "      <td>LINDBROOK</td>\n",
       "      <td>DR</td>\n",
       "      <td>90024</td>\n",
       "      <td>34.05968</td>\n",
       "      <td>-118.44521</td>\n",
       "    </tr>\n",
       "    <tr>\n",
       "      <th>9</th>\n",
       "      <td>BLUE JAY</td>\n",
       "      <td>WAY</td>\n",
       "      <td>90069</td>\n",
       "      <td>34.09843</td>\n",
       "      <td>-118.38705</td>\n",
       "    </tr>\n",
       "  </tbody>\n",
       "</table>\n",
       "</div>"
      ],
      "text/plain": [
       "      STR_NM STR_SFX_CD  ZIP_CD       LAT        LON\n",
       "0       IVAR        AVE   90028  34.10369 -118.32831\n",
       "1    BELFORD        AVE   90045  33.95675 -118.38381\n",
       "2    MAUBERT        AVE   90027  34.09890 -118.29008\n",
       "3    BELFORD        AVE   90045  33.95675 -118.38381\n",
       "4  CHEREMOYA        AVE   90068  34.10839 -118.32073\n",
       "5     CRESTA         DR   90035  34.04616 -118.38767\n",
       "6    FORTUNA         ST   90011  33.99288 -118.24543\n",
       "7   CRESCENT         DR   90046  34.11356 -118.38027\n",
       "8  LINDBROOK         DR   90024  34.05968 -118.44521\n",
       "9   BLUE JAY        WAY   90069  34.09843 -118.38705"
      ]
     },
     "execution_count": 2,
     "metadata": {},
     "output_type": "execute_result"
    }
   ],
   "source": [
    "la_data = pd.read_csv('Addresses_in_the_City_of_LA.csv')\n",
    "la_data.head(10)"
   ]
  },
  {
   "cell_type": "code",
   "execution_count": 3,
   "metadata": {},
   "outputs": [
    {
     "data": {
      "text/plain": [
       "(576727, 5)"
      ]
     },
     "execution_count": 3,
     "metadata": {},
     "output_type": "execute_result"
    }
   ],
   "source": [
    "la_data.shape"
   ]
  },
  {
   "cell_type": "markdown",
   "metadata": {},
   "source": [
    "We only want the zip codes that start with 900, so we will need to filter our dataframe based on the 'ZIP_CD' column. First we will check what the type of the values in ZIP_CD. If it is of type int **we will convert it to a string object in order to take advantage of the readily available string methods.**"
   ]
  },
  {
   "cell_type": "code",
   "execution_count": 4,
   "metadata": {},
   "outputs": [
    {
     "data": {
      "text/plain": [
       "dtype('int64')"
      ]
     },
     "execution_count": 4,
     "metadata": {},
     "output_type": "execute_result"
    }
   ],
   "source": [
    "la_data.ZIP_CD.dtypes"
   ]
  },
  {
   "cell_type": "markdown",
   "metadata": {},
   "source": [
    "As suspected it is of type int, so lets now convert it to a string object."
   ]
  },
  {
   "cell_type": "code",
   "execution_count": 5,
   "metadata": {},
   "outputs": [
    {
     "data": {
      "text/plain": [
       "dtype('O')"
      ]
     },
     "execution_count": 5,
     "metadata": {},
     "output_type": "execute_result"
    }
   ],
   "source": [
    "la_data.ZIP_CD = la_data.ZIP_CD.astype('str')\n",
    "la_data.ZIP_CD.dtypes"
   ]
  },
  {
   "cell_type": "code",
   "execution_count": 6,
   "metadata": {},
   "outputs": [],
   "source": [
    "la_data = la_data[la_data['ZIP_CD'].str.startswith('900')]"
   ]
  },
  {
   "cell_type": "code",
   "execution_count": 7,
   "metadata": {},
   "outputs": [
    {
     "data": {
      "text/html": [
       "<div>\n",
       "<style scoped>\n",
       "    .dataframe tbody tr th:only-of-type {\n",
       "        vertical-align: middle;\n",
       "    }\n",
       "\n",
       "    .dataframe tbody tr th {\n",
       "        vertical-align: top;\n",
       "    }\n",
       "\n",
       "    .dataframe thead th {\n",
       "        text-align: right;\n",
       "    }\n",
       "</style>\n",
       "<table border=\"1\" class=\"dataframe\">\n",
       "  <thead>\n",
       "    <tr style=\"text-align: right;\">\n",
       "      <th></th>\n",
       "      <th>STR_NM</th>\n",
       "      <th>STR_SFX_CD</th>\n",
       "      <th>ZIP_CD</th>\n",
       "      <th>LAT</th>\n",
       "      <th>LON</th>\n",
       "    </tr>\n",
       "  </thead>\n",
       "  <tbody>\n",
       "    <tr>\n",
       "      <th>0</th>\n",
       "      <td>IVAR</td>\n",
       "      <td>AVE</td>\n",
       "      <td>90028</td>\n",
       "      <td>34.10369</td>\n",
       "      <td>-118.32831</td>\n",
       "    </tr>\n",
       "    <tr>\n",
       "      <th>1</th>\n",
       "      <td>BELFORD</td>\n",
       "      <td>AVE</td>\n",
       "      <td>90045</td>\n",
       "      <td>33.95675</td>\n",
       "      <td>-118.38381</td>\n",
       "    </tr>\n",
       "    <tr>\n",
       "      <th>2</th>\n",
       "      <td>MAUBERT</td>\n",
       "      <td>AVE</td>\n",
       "      <td>90027</td>\n",
       "      <td>34.09890</td>\n",
       "      <td>-118.29008</td>\n",
       "    </tr>\n",
       "    <tr>\n",
       "      <th>3</th>\n",
       "      <td>BELFORD</td>\n",
       "      <td>AVE</td>\n",
       "      <td>90045</td>\n",
       "      <td>33.95675</td>\n",
       "      <td>-118.38381</td>\n",
       "    </tr>\n",
       "    <tr>\n",
       "      <th>4</th>\n",
       "      <td>CHEREMOYA</td>\n",
       "      <td>AVE</td>\n",
       "      <td>90068</td>\n",
       "      <td>34.10839</td>\n",
       "      <td>-118.32073</td>\n",
       "    </tr>\n",
       "  </tbody>\n",
       "</table>\n",
       "</div>"
      ],
      "text/plain": [
       "      STR_NM STR_SFX_CD ZIP_CD       LAT        LON\n",
       "0       IVAR        AVE  90028  34.10369 -118.32831\n",
       "1    BELFORD        AVE  90045  33.95675 -118.38381\n",
       "2    MAUBERT        AVE  90027  34.09890 -118.29008\n",
       "3    BELFORD        AVE  90045  33.95675 -118.38381\n",
       "4  CHEREMOYA        AVE  90068  34.10839 -118.32073"
      ]
     },
     "execution_count": 7,
     "metadata": {},
     "output_type": "execute_result"
    }
   ],
   "source": [
    "la_data.head()"
   ]
  },
  {
   "cell_type": "code",
   "execution_count": 8,
   "metadata": {},
   "outputs": [
    {
     "data": {
      "text/plain": [
       "(563853, 5)"
      ]
     },
     "execution_count": 8,
     "metadata": {},
     "output_type": "execute_result"
    }
   ],
   "source": [
    "la_data.shape"
   ]
  },
  {
   "cell_type": "markdown",
   "metadata": {},
   "source": [
    "Before we move forward, let's clean our dataset a bit and combine the STR_NM and STR_SFX_CD columns to get a better representation of the street names."
   ]
  },
  {
   "cell_type": "code",
   "execution_count": 9,
   "metadata": {},
   "outputs": [
    {
     "data": {
      "text/plain": [
       "0         IVAR AVE\n",
       "1      BELFORD AVE\n",
       "2      MAUBERT AVE\n",
       "3      BELFORD AVE\n",
       "4    CHEREMOYA AVE\n",
       "dtype: object"
      ]
     },
     "execution_count": 9,
     "metadata": {},
     "output_type": "execute_result"
    }
   ],
   "source": [
    "la_street = la_data.STR_NM + ' ' + la_data.STR_SFX_CD\n",
    "la_street.head()"
   ]
  },
  {
   "cell_type": "code",
   "execution_count": 10,
   "metadata": {},
   "outputs": [
    {
     "data": {
      "text/html": [
       "<div>\n",
       "<style scoped>\n",
       "    .dataframe tbody tr th:only-of-type {\n",
       "        vertical-align: middle;\n",
       "    }\n",
       "\n",
       "    .dataframe tbody tr th {\n",
       "        vertical-align: top;\n",
       "    }\n",
       "\n",
       "    .dataframe thead th {\n",
       "        text-align: right;\n",
       "    }\n",
       "</style>\n",
       "<table border=\"1\" class=\"dataframe\">\n",
       "  <thead>\n",
       "    <tr style=\"text-align: right;\">\n",
       "      <th></th>\n",
       "      <th>STREET</th>\n",
       "      <th>ZIP_CD</th>\n",
       "      <th>LAT</th>\n",
       "      <th>LON</th>\n",
       "    </tr>\n",
       "  </thead>\n",
       "  <tbody>\n",
       "    <tr>\n",
       "      <th>0</th>\n",
       "      <td>IVAR AVE</td>\n",
       "      <td>90028</td>\n",
       "      <td>34.10369</td>\n",
       "      <td>-118.32831</td>\n",
       "    </tr>\n",
       "    <tr>\n",
       "      <th>1</th>\n",
       "      <td>BELFORD AVE</td>\n",
       "      <td>90045</td>\n",
       "      <td>33.95675</td>\n",
       "      <td>-118.38381</td>\n",
       "    </tr>\n",
       "    <tr>\n",
       "      <th>2</th>\n",
       "      <td>MAUBERT AVE</td>\n",
       "      <td>90027</td>\n",
       "      <td>34.09890</td>\n",
       "      <td>-118.29008</td>\n",
       "    </tr>\n",
       "    <tr>\n",
       "      <th>3</th>\n",
       "      <td>BELFORD AVE</td>\n",
       "      <td>90045</td>\n",
       "      <td>33.95675</td>\n",
       "      <td>-118.38381</td>\n",
       "    </tr>\n",
       "    <tr>\n",
       "      <th>4</th>\n",
       "      <td>CHEREMOYA AVE</td>\n",
       "      <td>90068</td>\n",
       "      <td>34.10839</td>\n",
       "      <td>-118.32073</td>\n",
       "    </tr>\n",
       "  </tbody>\n",
       "</table>\n",
       "</div>"
      ],
      "text/plain": [
       "          STREET ZIP_CD       LAT        LON\n",
       "0       IVAR AVE  90028  34.10369 -118.32831\n",
       "1    BELFORD AVE  90045  33.95675 -118.38381\n",
       "2    MAUBERT AVE  90027  34.09890 -118.29008\n",
       "3    BELFORD AVE  90045  33.95675 -118.38381\n",
       "4  CHEREMOYA AVE  90068  34.10839 -118.32073"
      ]
     },
     "execution_count": 10,
     "metadata": {},
     "output_type": "execute_result"
    }
   ],
   "source": [
    "# Let's add our improved street column back in and remove the old ones.\n",
    "la_data.insert(2,'STREET',la_street)\n",
    "la_data.drop(['STR_NM','STR_SFX_CD'], axis=1, inplace = True)\n",
    "la_data.head()"
   ]
  },
  {
   "cell_type": "markdown",
   "metadata": {},
   "source": [
    "There is still a lot of data left, so let's look at our unique zip codes."
   ]
  },
  {
   "cell_type": "code",
   "execution_count": 11,
   "metadata": {},
   "outputs": [
    {
     "data": {
      "text/plain": [
       "array(['90028', '90045', '90027', '90068', '90035', '90011', '90046',\n",
       "       '90024', '90069', '90094', '90065', '90003', '90015', '90026',\n",
       "       '90033', '90034', '90038', '90014', '90041', '90037', '90044',\n",
       "       '90025', '90039', '90004', '90049', '90031', '90001', '90032',\n",
       "       '90077', '90042', '90029', '90016', '90012', '90061', '90036',\n",
       "       '90048', '90019', '90057', '90020', '90005', '90006', '90067',\n",
       "       '90017', '90071', '90063', '90007', '90059', '90064', '90013',\n",
       "       '90018', '90062', '90023', '90021', '90066', '90089', '90058',\n",
       "       '90008', '90043', '90047', '90002', '90010', '90056', '90073'],\n",
       "      dtype=object)"
      ]
     },
     "execution_count": 11,
     "metadata": {},
     "output_type": "execute_result"
    }
   ],
   "source": [
    "la_data.ZIP_CD.unique()"
   ]
  },
  {
   "cell_type": "markdown",
   "metadata": {},
   "source": [
    "Let's count them.."
   ]
  },
  {
   "cell_type": "code",
   "execution_count": 12,
   "metadata": {},
   "outputs": [
    {
     "data": {
      "text/plain": [
       "63"
      ]
     },
     "execution_count": 12,
     "metadata": {},
     "output_type": "execute_result"
    }
   ],
   "source": [
    "len(la_data.ZIP_CD.unique())"
   ]
  },
  {
   "cell_type": "markdown",
   "metadata": {},
   "source": [
    "So there are 63 unique zip codes. Let's look at the unique street names below."
   ]
  },
  {
   "cell_type": "code",
   "execution_count": 13,
   "metadata": {},
   "outputs": [
    {
     "data": {
      "text/plain": [
       "array(['IVAR AVE', 'BELFORD AVE', 'MAUBERT AVE', ..., 'HAGER AVE',\n",
       "       'TROJAN WAY', 'MT HOLLYWOOD DR'], dtype=object)"
      ]
     },
     "execution_count": 13,
     "metadata": {},
     "output_type": "execute_result"
    }
   ],
   "source": [
    "la_data.STREET.unique()"
   ]
  },
  {
   "cell_type": "markdown",
   "metadata": {},
   "source": [
    "Now let's count them."
   ]
  },
  {
   "cell_type": "code",
   "execution_count": 14,
   "metadata": {},
   "outputs": [
    {
     "data": {
      "text/plain": [
       "4518"
      ]
     },
     "execution_count": 14,
     "metadata": {},
     "output_type": "execute_result"
    }
   ],
   "source": [
    "len(la_data.STREET.unique())"
   ]
  },
  {
   "cell_type": "markdown",
   "metadata": {},
   "source": [
    "So now we know that our df which has about **560K rows, is distributed between 63 unique zip codes and 4518 unique streets.**\n",
    "\n",
    "A problem with the dataset above is that it does not contain the name of the neighborhoods the streets are located in. To fix this, I found a [website](https://www.unitedstateszipcodes.org/) that could match a given zip code to its neighborhood. Instead of manually looking these up and noting down the conversions, let's try to automate this boring task by searching and scraping the data from the website using code. The programming tools of choice will be the Python libraries Requests and BeautifulSoup."
   ]
  },
  {
   "cell_type": "code",
   "execution_count": 15,
   "metadata": {},
   "outputs": [],
   "source": [
    "# Make a get request to get the webpage\n",
    "zip_response = requests.get(\"https://www.unitedstateszipcodes.org/90007/\")\n",
    "zip_content = zip_response.content\n",
    "# Initialize the parser, and pass in the content we grabbed earlier.\n",
    "zip_parser = BeautifulSoup(zip_content, 'html.parser')"
   ]
  },
  {
   "cell_type": "code",
   "execution_count": 16,
   "metadata": {},
   "outputs": [],
   "source": [
    "# The selector below will target tr elements\n",
    "# We will then continue to extract the data we need.\n",
    "table = zip_parser.select('.table tbody tr')"
   ]
  },
  {
   "cell_type": "markdown",
   "metadata": {},
   "source": [
    "Whenever a Web server receives an API request, it always returns a status code to provide information about what happened with the request. Let's now view the status code to confirm if the request was successful or not."
   ]
  },
  {
   "cell_type": "code",
   "execution_count": 17,
   "metadata": {},
   "outputs": [
    {
     "data": {
      "text/plain": [
       "403"
      ]
     },
     "execution_count": 17,
     "metadata": {},
     "output_type": "execute_result"
    }
   ],
   "source": [
    "zip_response.status_code"
   ]
  },
  {
   "cell_type": "markdown",
   "metadata": {},
   "source": [
    "The resource you're trying to access is forbidden; you don't have the right permissions to see it."
   ]
  },
  {
   "cell_type": "markdown",
   "metadata": {},
   "source": [
    "**A status code of 403 means the resource we're trying to access is forbidden! This means that we don't have the right permissions to see it! As such, web scraping can't be used here. Luckily, there aren't so many zip codes to consider, so a manual approach will be utilized to get the neighborhoods that match each zip code!** \n",
    "\n",
    "Let's have a quick look at the different zip codes again."
   ]
  },
  {
   "cell_type": "code",
   "execution_count": 18,
   "metadata": {},
   "outputs": [
    {
     "data": {
      "text/plain": [
       "array(['90028', '90045', '90027', '90068', '90035', '90011', '90046',\n",
       "       '90024', '90069', '90094', '90065', '90003', '90015', '90026',\n",
       "       '90033', '90034', '90038', '90014', '90041', '90037', '90044',\n",
       "       '90025', '90039', '90004', '90049', '90031', '90001', '90032',\n",
       "       '90077', '90042', '90029', '90016', '90012', '90061', '90036',\n",
       "       '90048', '90019', '90057', '90020', '90005', '90006', '90067',\n",
       "       '90017', '90071', '90063', '90007', '90059', '90064', '90013',\n",
       "       '90018', '90062', '90023', '90021', '90066', '90089', '90058',\n",
       "       '90008', '90043', '90047', '90002', '90010', '90056', '90073'],\n",
       "      dtype=object)"
      ]
     },
     "execution_count": 18,
     "metadata": {},
     "output_type": "execute_result"
    }
   ],
   "source": [
    "la_data.ZIP_CD.unique()"
   ]
  },
  {
   "cell_type": "markdown",
   "metadata": {},
   "source": [
    "As can be seen above, the zip codes are in a random order, but for the purpose of assigning each a neighborhood, the process might be simpler if the zip codes are arranged in a logical order. So let's sort the dataframe by the zip codes (in ascending order)"
   ]
  },
  {
   "cell_type": "code",
   "execution_count": 19,
   "metadata": {},
   "outputs": [],
   "source": [
    "la_data.sort_values(by = 'ZIP_CD', inplace = True)"
   ]
  },
  {
   "cell_type": "code",
   "execution_count": 20,
   "metadata": {},
   "outputs": [
    {
     "data": {
      "text/html": [
       "<div>\n",
       "<style scoped>\n",
       "    .dataframe tbody tr th:only-of-type {\n",
       "        vertical-align: middle;\n",
       "    }\n",
       "\n",
       "    .dataframe tbody tr th {\n",
       "        vertical-align: top;\n",
       "    }\n",
       "\n",
       "    .dataframe thead th {\n",
       "        text-align: right;\n",
       "    }\n",
       "</style>\n",
       "<table border=\"1\" class=\"dataframe\">\n",
       "  <thead>\n",
       "    <tr style=\"text-align: right;\">\n",
       "      <th></th>\n",
       "      <th>STREET</th>\n",
       "      <th>ZIP_CD</th>\n",
       "      <th>LAT</th>\n",
       "      <th>LON</th>\n",
       "    </tr>\n",
       "  </thead>\n",
       "  <tbody>\n",
       "    <tr>\n",
       "      <th>482392</th>\n",
       "      <td>76TH ST</td>\n",
       "      <td>90001</td>\n",
       "      <td>33.97104</td>\n",
       "      <td>-118.25788</td>\n",
       "    </tr>\n",
       "    <tr>\n",
       "      <th>570173</th>\n",
       "      <td>76TH PL</td>\n",
       "      <td>90001</td>\n",
       "      <td>33.97009</td>\n",
       "      <td>-118.26357</td>\n",
       "    </tr>\n",
       "    <tr>\n",
       "      <th>570174</th>\n",
       "      <td>83RD ST</td>\n",
       "      <td>90001</td>\n",
       "      <td>33.96362</td>\n",
       "      <td>-118.25964</td>\n",
       "    </tr>\n",
       "    <tr>\n",
       "      <th>199167</th>\n",
       "      <td>WADSWORTH AVE</td>\n",
       "      <td>90001</td>\n",
       "      <td>33.96904</td>\n",
       "      <td>-118.25845</td>\n",
       "    </tr>\n",
       "    <tr>\n",
       "      <th>570178</th>\n",
       "      <td>76TH PL</td>\n",
       "      <td>90001</td>\n",
       "      <td>33.97011</td>\n",
       "      <td>-118.25989</td>\n",
       "    </tr>\n",
       "    <tr>\n",
       "      <th>256866</th>\n",
       "      <td>85TH ST</td>\n",
       "      <td>90001</td>\n",
       "      <td>33.96088</td>\n",
       "      <td>-118.25895</td>\n",
       "    </tr>\n",
       "    <tr>\n",
       "      <th>539457</th>\n",
       "      <td>77TH ST</td>\n",
       "      <td>90001</td>\n",
       "      <td>33.96925</td>\n",
       "      <td>-118.26177</td>\n",
       "    </tr>\n",
       "  </tbody>\n",
       "</table>\n",
       "</div>"
      ],
      "text/plain": [
       "               STREET ZIP_CD       LAT        LON\n",
       "482392        76TH ST  90001  33.97104 -118.25788\n",
       "570173        76TH PL  90001  33.97009 -118.26357\n",
       "570174        83RD ST  90001  33.96362 -118.25964\n",
       "199167  WADSWORTH AVE  90001  33.96904 -118.25845\n",
       "570178        76TH PL  90001  33.97011 -118.25989\n",
       "256866        85TH ST  90001  33.96088 -118.25895\n",
       "539457        77TH ST  90001  33.96925 -118.26177"
      ]
     },
     "execution_count": 20,
     "metadata": {},
     "output_type": "execute_result"
    }
   ],
   "source": [
    "la_data.head(7)"
   ]
  },
  {
   "cell_type": "markdown",
   "metadata": {},
   "source": [
    "Let's check out our unique zip codes again.."
   ]
  },
  {
   "cell_type": "code",
   "execution_count": 21,
   "metadata": {},
   "outputs": [
    {
     "data": {
      "text/plain": [
       "array(['90001', '90002', '90003', '90004', '90005', '90006', '90007',\n",
       "       '90008', '90010', '90011', '90012', '90013', '90014', '90015',\n",
       "       '90016', '90017', '90018', '90019', '90020', '90021', '90023',\n",
       "       '90024', '90025', '90026', '90027', '90028', '90029', '90031',\n",
       "       '90032', '90033', '90034', '90035', '90036', '90037', '90038',\n",
       "       '90039', '90041', '90042', '90043', '90044', '90045', '90046',\n",
       "       '90047', '90048', '90049', '90056', '90057', '90058', '90059',\n",
       "       '90061', '90062', '90063', '90064', '90065', '90066', '90067',\n",
       "       '90068', '90069', '90071', '90073', '90077', '90089', '90094'],\n",
       "      dtype=object)"
      ]
     },
     "execution_count": 21,
     "metadata": {},
     "output_type": "execute_result"
    }
   ],
   "source": [
    "la_data.ZIP_CD.unique()"
   ]
  },
  {
   "cell_type": "markdown",
   "metadata": {},
   "source": [
    "As expected the unique zip codes are now ordered logically. Let's convert this into a list of zip codes then create a list of neighborhoods too."
   ]
  },
  {
   "cell_type": "code",
   "execution_count": 22,
   "metadata": {},
   "outputs": [
    {
     "data": {
      "text/plain": [
       "['90001', '90002', '90003', '90004', '90005']"
      ]
     },
     "execution_count": 22,
     "metadata": {},
     "output_type": "execute_result"
    }
   ],
   "source": [
    "zip_list = list(la_data.ZIP_CD.unique())\n",
    "zip_list[:5] # inspect first 5 elements"
   ]
  },
  {
   "cell_type": "code",
   "execution_count": 23,
   "metadata": {},
   "outputs": [],
   "source": [
    "neigh_list = ['Los Angeles','Watts, Southeast Los Angeles','Southeast Los Angeles','Koreatown','Koreatown',\n",
    "              'Pico-Union, Koreatown','Los Angeles','Crenshaw','Koreatown','Southeast Los Angeles','Chinatown',\n",
    "              'Wholesale District, Downtown Los Angeles','Gallery Row, Fashion District, Downtown Los Angeles',\n",
    "              'South park, Downtown Los Angeles', 'West Adams',np.nan,np.nan,'Mid-Wilshire','Koreatown',\n",
    "              'Wholesale District, Downtown Los Angeles','Boyle Heights','Westwood','West Los Angeles',\n",
    "              'Echo Park','Griffith Park',np.nan,'East Hollywood','Lincoln Heights, Northeast Los Angeles',\n",
    "              'El Sereno, Northeast Los Angeles','Arroyo Seco, Boyle Heights','Palms','West Los Angeles',\n",
    "              'Mid-Wilshire',np.nan,np.nan,'Atwater Village, Northeast Los Angeles',\n",
    "              'Eagle Rock, Northeast Los Angeles','Highland Park, Northeast Los Angeles','Los Angeles',\n",
    "              'Los Angeles','Playa Del Rey','Hollywood Hills',np.nan,'Mid-Wilshire','Brentwood','Los Angeles',\n",
    "              np.nan,np.nan,'Los Angeles','Los Angeles',np.nan,'East Los Angeles',\n",
    "              'Century City, West Los Angeles','Mount Washington, Glassell Park, Northeast Los Angeles',\n",
    "              'Mar Vista','Century City, West Los Angeles','Hollywood Hills','Beverly Crest',\n",
    "              'Financial District, Downtown Los Angeles','Brentwood','Bel Air','Los Angeles','Playa Del Rey']\n",
    "\n",
    "#Fun facts: USC is in the wide area of 90007 and the USC Marshall School of Business is in 90089! "
   ]
  },
  {
   "cell_type": "markdown",
   "metadata": {},
   "source": [
    "Let's check out the size of the neighborhood list to confirm that it has 63 values to match the number of zip codes."
   ]
  },
  {
   "cell_type": "code",
   "execution_count": 24,
   "metadata": {},
   "outputs": [
    {
     "data": {
      "text/plain": [
       "63"
      ]
     },
     "execution_count": 24,
     "metadata": {},
     "output_type": "execute_result"
    }
   ],
   "source": [
    "len(neigh_list)"
   ]
  },
  {
   "cell_type": "markdown",
   "metadata": {},
   "source": [
    "Okay good! Just as we expected. Let's examine our dataframe one more time before updating it with the neighborhoods."
   ]
  },
  {
   "cell_type": "code",
   "execution_count": 25,
   "metadata": {},
   "outputs": [
    {
     "data": {
      "text/html": [
       "<div>\n",
       "<style scoped>\n",
       "    .dataframe tbody tr th:only-of-type {\n",
       "        vertical-align: middle;\n",
       "    }\n",
       "\n",
       "    .dataframe tbody tr th {\n",
       "        vertical-align: top;\n",
       "    }\n",
       "\n",
       "    .dataframe thead th {\n",
       "        text-align: right;\n",
       "    }\n",
       "</style>\n",
       "<table border=\"1\" class=\"dataframe\">\n",
       "  <thead>\n",
       "    <tr style=\"text-align: right;\">\n",
       "      <th></th>\n",
       "      <th>STREET</th>\n",
       "      <th>ZIP_CD</th>\n",
       "      <th>LAT</th>\n",
       "      <th>LON</th>\n",
       "    </tr>\n",
       "  </thead>\n",
       "  <tbody>\n",
       "    <tr>\n",
       "      <th>482392</th>\n",
       "      <td>76TH ST</td>\n",
       "      <td>90001</td>\n",
       "      <td>33.97104</td>\n",
       "      <td>-118.25788</td>\n",
       "    </tr>\n",
       "    <tr>\n",
       "      <th>570173</th>\n",
       "      <td>76TH PL</td>\n",
       "      <td>90001</td>\n",
       "      <td>33.97009</td>\n",
       "      <td>-118.26357</td>\n",
       "    </tr>\n",
       "    <tr>\n",
       "      <th>570174</th>\n",
       "      <td>83RD ST</td>\n",
       "      <td>90001</td>\n",
       "      <td>33.96362</td>\n",
       "      <td>-118.25964</td>\n",
       "    </tr>\n",
       "    <tr>\n",
       "      <th>199167</th>\n",
       "      <td>WADSWORTH AVE</td>\n",
       "      <td>90001</td>\n",
       "      <td>33.96904</td>\n",
       "      <td>-118.25845</td>\n",
       "    </tr>\n",
       "    <tr>\n",
       "      <th>570178</th>\n",
       "      <td>76TH PL</td>\n",
       "      <td>90001</td>\n",
       "      <td>33.97011</td>\n",
       "      <td>-118.25989</td>\n",
       "    </tr>\n",
       "  </tbody>\n",
       "</table>\n",
       "</div>"
      ],
      "text/plain": [
       "               STREET ZIP_CD       LAT        LON\n",
       "482392        76TH ST  90001  33.97104 -118.25788\n",
       "570173        76TH PL  90001  33.97009 -118.26357\n",
       "570174        83RD ST  90001  33.96362 -118.25964\n",
       "199167  WADSWORTH AVE  90001  33.96904 -118.25845\n",
       "570178        76TH PL  90001  33.97011 -118.25989"
      ]
     },
     "execution_count": 25,
     "metadata": {},
     "output_type": "execute_result"
    }
   ],
   "source": [
    "la_data.head()"
   ]
  },
  {
   "cell_type": "markdown",
   "metadata": {},
   "source": [
    "But before that,"
   ]
  },
  {
   "cell_type": "markdown",
   "metadata": {},
   "source": [
    "It was established earlier that we have **63 unique zip codes and 4518 unique streets**. However if you look at the dataframe, a single zip code may appear multiple times. Let's quickly examine the top 5 occurring zip codes to illustrate this point further."
   ]
  },
  {
   "cell_type": "code",
   "execution_count": 26,
   "metadata": {},
   "outputs": [
    {
     "data": {
      "text/plain": [
       "90011    24839\n",
       "90026    21166\n",
       "90003    19089\n",
       "90019    18853\n",
       "90065    17765\n",
       "Name: ZIP_CD, dtype: int64"
      ]
     },
     "execution_count": 26,
     "metadata": {},
     "output_type": "execute_result"
    }
   ],
   "source": [
    "la_data.ZIP_CD.value_counts().head()"
   ]
  },
  {
   "cell_type": "markdown",
   "metadata": {},
   "source": [
    "As can be seen above, the top occurring zip code is 90011 which occurs almost 25K times! Considering there are only 3942 unique streets in this dataframe, that might mean many of the rows have similar values. Let's explore this further by seeing how many unique streets are present for the zip code 90011. "
   ]
  },
  {
   "cell_type": "code",
   "execution_count": 27,
   "metadata": {},
   "outputs": [
    {
     "data": {
      "text/html": [
       "<div>\n",
       "<style scoped>\n",
       "    .dataframe tbody tr th:only-of-type {\n",
       "        vertical-align: middle;\n",
       "    }\n",
       "\n",
       "    .dataframe tbody tr th {\n",
       "        vertical-align: top;\n",
       "    }\n",
       "\n",
       "    .dataframe thead th {\n",
       "        text-align: right;\n",
       "    }\n",
       "</style>\n",
       "<table border=\"1\" class=\"dataframe\">\n",
       "  <thead>\n",
       "    <tr style=\"text-align: right;\">\n",
       "      <th></th>\n",
       "      <th>STREET</th>\n",
       "      <th>ZIP_CD</th>\n",
       "      <th>LAT</th>\n",
       "      <th>LON</th>\n",
       "    </tr>\n",
       "  </thead>\n",
       "  <tbody>\n",
       "    <tr>\n",
       "      <th>161631</th>\n",
       "      <td>47TH ST</td>\n",
       "      <td>90011</td>\n",
       "      <td>34.00125</td>\n",
       "      <td>-118.25154</td>\n",
       "    </tr>\n",
       "    <tr>\n",
       "      <th>347737</th>\n",
       "      <td>JEFFERSON BLVD</td>\n",
       "      <td>90011</td>\n",
       "      <td>34.01629</td>\n",
       "      <td>-118.26781</td>\n",
       "    </tr>\n",
       "    <tr>\n",
       "      <th>241458</th>\n",
       "      <td>LATHAM ST</td>\n",
       "      <td>90011</td>\n",
       "      <td>33.99421</td>\n",
       "      <td>-118.25129</td>\n",
       "    </tr>\n",
       "    <tr>\n",
       "      <th>263559</th>\n",
       "      <td>22ND ST</td>\n",
       "      <td>90011</td>\n",
       "      <td>34.01732</td>\n",
       "      <td>-118.24484</td>\n",
       "    </tr>\n",
       "    <tr>\n",
       "      <th>444555</th>\n",
       "      <td>29TH ST</td>\n",
       "      <td>90011</td>\n",
       "      <td>34.02213</td>\n",
       "      <td>-118.26903</td>\n",
       "    </tr>\n",
       "  </tbody>\n",
       "</table>\n",
       "</div>"
      ],
      "text/plain": [
       "                STREET ZIP_CD       LAT        LON\n",
       "161631         47TH ST  90011  34.00125 -118.25154\n",
       "347737  JEFFERSON BLVD  90011  34.01629 -118.26781\n",
       "241458       LATHAM ST  90011  33.99421 -118.25129\n",
       "263559         22ND ST  90011  34.01732 -118.24484\n",
       "444555         29TH ST  90011  34.02213 -118.26903"
      ]
     },
     "execution_count": 27,
     "metadata": {},
     "output_type": "execute_result"
    }
   ],
   "source": [
    "top_freq_zip_subset = la_data[la_data['ZIP_CD']=='90011'] # create a df that is a subset of the 90011 zip code\n",
    "top_freq_zip_subset.head() # check new df"
   ]
  },
  {
   "cell_type": "code",
   "execution_count": 28,
   "metadata": {},
   "outputs": [
    {
     "data": {
      "text/plain": [
       "24839"
      ]
     },
     "execution_count": 28,
     "metadata": {},
     "output_type": "execute_result"
    }
   ],
   "source": [
    "len(top_freq_zip_subset.index) # confirm it has 24839 rows"
   ]
  },
  {
   "cell_type": "markdown",
   "metadata": {},
   "source": [
    "Okay let's find out how many unique streets there are.."
   ]
  },
  {
   "cell_type": "code",
   "execution_count": 29,
   "metadata": {},
   "outputs": [
    {
     "data": {
      "text/plain": [
       "90"
      ]
     },
     "execution_count": 29,
     "metadata": {},
     "output_type": "execute_result"
    }
   ],
   "source": [
    "len(top_freq_zip_subset.STREET.unique())"
   ]
  },
  {
   "cell_type": "markdown",
   "metadata": {},
   "source": [
    "90 unique streets! There are 90 unique streets for almost 25,000 occurrences of the 90011 zip code. To refine the dataset, such as to present neighborhood data as opposed to just street data, **we will choose the rows of the highest occurring streets per neighborhood.** \n",
    "\n",
    "This will help in the later stages of analysis, as we will want to use the latitude and longitude values for our records to visualize our neighborhoods on a map of LA. The problem with the way the dataframe is set up right now is that for the same neighborhood and zip code, we are getting multiple latitude and longitude values because of the different streets in a neighborhood."
   ]
  },
  {
   "cell_type": "markdown",
   "metadata": {},
   "source": [
    "Before performing this operation on the entire dataset, let's first examine how this would look for the subset of the 90011 zip code. First let's look at the top 5 most frequent streets."
   ]
  },
  {
   "cell_type": "code",
   "execution_count": 30,
   "metadata": {},
   "outputs": [
    {
     "data": {
      "text/plain": [
       "CENTRAL AVE     871\n",
       "VERNON AVE      604\n",
       "SAN PEDRO ST    584\n",
       "47TH ST         580\n",
       "49TH ST         576\n",
       "48TH ST         575\n",
       "23RD ST         565\n",
       "25TH ST         551\n",
       "51ST ST         543\n",
       "33RD ST         540\n",
       "Name: STREET, dtype: int64"
      ]
     },
     "execution_count": 30,
     "metadata": {},
     "output_type": "execute_result"
    }
   ],
   "source": [
    "top_freq_zip_subset.STREET.value_counts().head(10)"
   ]
  },
  {
   "cell_type": "markdown",
   "metadata": {},
   "source": [
    "Now let's choose the highest occurring street."
   ]
  },
  {
   "cell_type": "code",
   "execution_count": 31,
   "metadata": {},
   "outputs": [
    {
     "data": {
      "text/plain": [
       "'CENTRAL AVE'"
      ]
     },
     "execution_count": 31,
     "metadata": {},
     "output_type": "execute_result"
    }
   ],
   "source": [
    "top_street_90011 = top_freq_zip_subset.STREET.value_counts().head(1).index[0]\n",
    "top_street_90011"
   ]
  },
  {
   "cell_type": "markdown",
   "metadata": {},
   "source": [
    "The next step will now be to perform this operation for all 63 zip codes! Let's quickly reinspect our df first."
   ]
  },
  {
   "cell_type": "code",
   "execution_count": 32,
   "metadata": {},
   "outputs": [
    {
     "data": {
      "text/plain": [
       "(563853, 4)"
      ]
     },
     "execution_count": 32,
     "metadata": {},
     "output_type": "execute_result"
    }
   ],
   "source": [
    "la_data.shape"
   ]
  },
  {
   "cell_type": "code",
   "execution_count": 33,
   "metadata": {},
   "outputs": [
    {
     "data": {
      "text/html": [
       "<div>\n",
       "<style scoped>\n",
       "    .dataframe tbody tr th:only-of-type {\n",
       "        vertical-align: middle;\n",
       "    }\n",
       "\n",
       "    .dataframe tbody tr th {\n",
       "        vertical-align: top;\n",
       "    }\n",
       "\n",
       "    .dataframe thead th {\n",
       "        text-align: right;\n",
       "    }\n",
       "</style>\n",
       "<table border=\"1\" class=\"dataframe\">\n",
       "  <thead>\n",
       "    <tr style=\"text-align: right;\">\n",
       "      <th></th>\n",
       "      <th>STREET</th>\n",
       "      <th>ZIP_CD</th>\n",
       "      <th>LAT</th>\n",
       "      <th>LON</th>\n",
       "    </tr>\n",
       "  </thead>\n",
       "  <tbody>\n",
       "    <tr>\n",
       "      <th>482392</th>\n",
       "      <td>76TH ST</td>\n",
       "      <td>90001</td>\n",
       "      <td>33.97104</td>\n",
       "      <td>-118.25788</td>\n",
       "    </tr>\n",
       "    <tr>\n",
       "      <th>570173</th>\n",
       "      <td>76TH PL</td>\n",
       "      <td>90001</td>\n",
       "      <td>33.97009</td>\n",
       "      <td>-118.26357</td>\n",
       "    </tr>\n",
       "    <tr>\n",
       "      <th>570174</th>\n",
       "      <td>83RD ST</td>\n",
       "      <td>90001</td>\n",
       "      <td>33.96362</td>\n",
       "      <td>-118.25964</td>\n",
       "    </tr>\n",
       "    <tr>\n",
       "      <th>199167</th>\n",
       "      <td>WADSWORTH AVE</td>\n",
       "      <td>90001</td>\n",
       "      <td>33.96904</td>\n",
       "      <td>-118.25845</td>\n",
       "    </tr>\n",
       "    <tr>\n",
       "      <th>570178</th>\n",
       "      <td>76TH PL</td>\n",
       "      <td>90001</td>\n",
       "      <td>33.97011</td>\n",
       "      <td>-118.25989</td>\n",
       "    </tr>\n",
       "  </tbody>\n",
       "</table>\n",
       "</div>"
      ],
      "text/plain": [
       "               STREET ZIP_CD       LAT        LON\n",
       "482392        76TH ST  90001  33.97104 -118.25788\n",
       "570173        76TH PL  90001  33.97009 -118.26357\n",
       "570174        83RD ST  90001  33.96362 -118.25964\n",
       "199167  WADSWORTH AVE  90001  33.96904 -118.25845\n",
       "570178        76TH PL  90001  33.97011 -118.25989"
      ]
     },
     "execution_count": 33,
     "metadata": {},
     "output_type": "execute_result"
    }
   ],
   "source": [
    "la_data.head()"
   ]
  },
  {
   "cell_type": "code",
   "execution_count": 34,
   "metadata": {},
   "outputs": [
    {
     "data": {
      "text/plain": [
       "ZIP_CD\n",
       "90001              79TH ST\n",
       "90002             107TH ST\n",
       "90003              MAIN ST\n",
       "90004         BEVERLY BLVD\n",
       "90005               8TH ST\n",
       "               ...        \n",
       "90071            GRAND AVE\n",
       "90073        BARRINGTON PL\n",
       "90077    BEVERLY GLEN BLVD\n",
       "90089         WEST 34TH ST\n",
       "90094       BLUFF CREEK DR\n",
       "Length: 63, dtype: object"
      ]
     },
     "execution_count": 34,
     "metadata": {},
     "output_type": "execute_result"
    }
   ],
   "source": [
    "grouped_data = la_data.groupby('ZIP_CD').apply(lambda df: df.STREET.value_counts().head(1).index[0])\n",
    "grouped_data"
   ]
  },
  {
   "cell_type": "code",
   "execution_count": 35,
   "metadata": {},
   "outputs": [
    {
     "data": {
      "text/html": [
       "<div>\n",
       "<style scoped>\n",
       "    .dataframe tbody tr th:only-of-type {\n",
       "        vertical-align: middle;\n",
       "    }\n",
       "\n",
       "    .dataframe tbody tr th {\n",
       "        vertical-align: top;\n",
       "    }\n",
       "\n",
       "    .dataframe thead th {\n",
       "        text-align: right;\n",
       "    }\n",
       "</style>\n",
       "<table border=\"1\" class=\"dataframe\">\n",
       "  <thead>\n",
       "    <tr style=\"text-align: right;\">\n",
       "      <th></th>\n",
       "      <th>ZIP_CD</th>\n",
       "      <th>0</th>\n",
       "    </tr>\n",
       "  </thead>\n",
       "  <tbody>\n",
       "    <tr>\n",
       "      <th>0</th>\n",
       "      <td>90001</td>\n",
       "      <td>79TH ST</td>\n",
       "    </tr>\n",
       "    <tr>\n",
       "      <th>1</th>\n",
       "      <td>90002</td>\n",
       "      <td>107TH ST</td>\n",
       "    </tr>\n",
       "    <tr>\n",
       "      <th>2</th>\n",
       "      <td>90003</td>\n",
       "      <td>MAIN ST</td>\n",
       "    </tr>\n",
       "    <tr>\n",
       "      <th>3</th>\n",
       "      <td>90004</td>\n",
       "      <td>BEVERLY BLVD</td>\n",
       "    </tr>\n",
       "    <tr>\n",
       "      <th>4</th>\n",
       "      <td>90005</td>\n",
       "      <td>8TH ST</td>\n",
       "    </tr>\n",
       "    <tr>\n",
       "      <th>...</th>\n",
       "      <td>...</td>\n",
       "      <td>...</td>\n",
       "    </tr>\n",
       "    <tr>\n",
       "      <th>58</th>\n",
       "      <td>90071</td>\n",
       "      <td>GRAND AVE</td>\n",
       "    </tr>\n",
       "    <tr>\n",
       "      <th>59</th>\n",
       "      <td>90073</td>\n",
       "      <td>BARRINGTON PL</td>\n",
       "    </tr>\n",
       "    <tr>\n",
       "      <th>60</th>\n",
       "      <td>90077</td>\n",
       "      <td>BEVERLY GLEN BLVD</td>\n",
       "    </tr>\n",
       "    <tr>\n",
       "      <th>61</th>\n",
       "      <td>90089</td>\n",
       "      <td>WEST 34TH ST</td>\n",
       "    </tr>\n",
       "    <tr>\n",
       "      <th>62</th>\n",
       "      <td>90094</td>\n",
       "      <td>BLUFF CREEK DR</td>\n",
       "    </tr>\n",
       "  </tbody>\n",
       "</table>\n",
       "<p>63 rows × 2 columns</p>\n",
       "</div>"
      ],
      "text/plain": [
       "   ZIP_CD                  0\n",
       "0   90001            79TH ST\n",
       "1   90002           107TH ST\n",
       "2   90003            MAIN ST\n",
       "3   90004       BEVERLY BLVD\n",
       "4   90005             8TH ST\n",
       "..    ...                ...\n",
       "58  90071          GRAND AVE\n",
       "59  90073      BARRINGTON PL\n",
       "60  90077  BEVERLY GLEN BLVD\n",
       "61  90089       WEST 34TH ST\n",
       "62  90094     BLUFF CREEK DR\n",
       "\n",
       "[63 rows x 2 columns]"
      ]
     },
     "execution_count": 35,
     "metadata": {},
     "output_type": "execute_result"
    }
   ],
   "source": [
    "grouped_data = grouped_data.reset_index()\n",
    "grouped_data"
   ]
  },
  {
   "cell_type": "code",
   "execution_count": 36,
   "metadata": {},
   "outputs": [
    {
     "data": {
      "text/html": [
       "<div>\n",
       "<style scoped>\n",
       "    .dataframe tbody tr th:only-of-type {\n",
       "        vertical-align: middle;\n",
       "    }\n",
       "\n",
       "    .dataframe tbody tr th {\n",
       "        vertical-align: top;\n",
       "    }\n",
       "\n",
       "    .dataframe thead th {\n",
       "        text-align: right;\n",
       "    }\n",
       "</style>\n",
       "<table border=\"1\" class=\"dataframe\">\n",
       "  <thead>\n",
       "    <tr style=\"text-align: right;\">\n",
       "      <th></th>\n",
       "      <th>ZIP_CD</th>\n",
       "      <th>Top Street</th>\n",
       "    </tr>\n",
       "  </thead>\n",
       "  <tbody>\n",
       "    <tr>\n",
       "      <th>0</th>\n",
       "      <td>90001</td>\n",
       "      <td>79TH ST</td>\n",
       "    </tr>\n",
       "    <tr>\n",
       "      <th>1</th>\n",
       "      <td>90002</td>\n",
       "      <td>107TH ST</td>\n",
       "    </tr>\n",
       "    <tr>\n",
       "      <th>2</th>\n",
       "      <td>90003</td>\n",
       "      <td>MAIN ST</td>\n",
       "    </tr>\n",
       "    <tr>\n",
       "      <th>3</th>\n",
       "      <td>90004</td>\n",
       "      <td>BEVERLY BLVD</td>\n",
       "    </tr>\n",
       "    <tr>\n",
       "      <th>4</th>\n",
       "      <td>90005</td>\n",
       "      <td>8TH ST</td>\n",
       "    </tr>\n",
       "    <tr>\n",
       "      <th>...</th>\n",
       "      <td>...</td>\n",
       "      <td>...</td>\n",
       "    </tr>\n",
       "    <tr>\n",
       "      <th>58</th>\n",
       "      <td>90071</td>\n",
       "      <td>GRAND AVE</td>\n",
       "    </tr>\n",
       "    <tr>\n",
       "      <th>59</th>\n",
       "      <td>90073</td>\n",
       "      <td>BARRINGTON PL</td>\n",
       "    </tr>\n",
       "    <tr>\n",
       "      <th>60</th>\n",
       "      <td>90077</td>\n",
       "      <td>BEVERLY GLEN BLVD</td>\n",
       "    </tr>\n",
       "    <tr>\n",
       "      <th>61</th>\n",
       "      <td>90089</td>\n",
       "      <td>WEST 34TH ST</td>\n",
       "    </tr>\n",
       "    <tr>\n",
       "      <th>62</th>\n",
       "      <td>90094</td>\n",
       "      <td>BLUFF CREEK DR</td>\n",
       "    </tr>\n",
       "  </tbody>\n",
       "</table>\n",
       "<p>63 rows × 2 columns</p>\n",
       "</div>"
      ],
      "text/plain": [
       "   ZIP_CD         Top Street\n",
       "0   90001            79TH ST\n",
       "1   90002           107TH ST\n",
       "2   90003            MAIN ST\n",
       "3   90004       BEVERLY BLVD\n",
       "4   90005             8TH ST\n",
       "..    ...                ...\n",
       "58  90071          GRAND AVE\n",
       "59  90073      BARRINGTON PL\n",
       "60  90077  BEVERLY GLEN BLVD\n",
       "61  90089       WEST 34TH ST\n",
       "62  90094     BLUFF CREEK DR\n",
       "\n",
       "[63 rows x 2 columns]"
      ]
     },
     "execution_count": 36,
     "metadata": {},
     "output_type": "execute_result"
    }
   ],
   "source": [
    "grouped_data = grouped_data.rename(columns = {0:'Top Street'})\n",
    "grouped_data"
   ]
  },
  {
   "cell_type": "code",
   "execution_count": 37,
   "metadata": {},
   "outputs": [
    {
     "data": {
      "text/plain": [
       "['79TH ST', '107TH ST', 'MAIN ST', 'BEVERLY BLVD', '8TH ST']"
      ]
     },
     "execution_count": 37,
     "metadata": {},
     "output_type": "execute_result"
    }
   ],
   "source": [
    "# Let's extract the top streets\n",
    "top_streets = list(grouped_data['Top Street'])\n",
    "top_streets[:5]"
   ]
  },
  {
   "cell_type": "markdown",
   "metadata": {},
   "source": [
    "Let's now get latitude and longitude values for our zip codes!"
   ]
  },
  {
   "cell_type": "code",
   "execution_count": 38,
   "metadata": {},
   "outputs": [
    {
     "data": {
      "text/html": [
       "<div>\n",
       "<style scoped>\n",
       "    .dataframe tbody tr th:only-of-type {\n",
       "        vertical-align: middle;\n",
       "    }\n",
       "\n",
       "    .dataframe tbody tr th {\n",
       "        vertical-align: top;\n",
       "    }\n",
       "\n",
       "    .dataframe thead th {\n",
       "        text-align: right;\n",
       "    }\n",
       "</style>\n",
       "<table border=\"1\" class=\"dataframe\">\n",
       "  <thead>\n",
       "    <tr style=\"text-align: right;\">\n",
       "      <th></th>\n",
       "      <th>LAT</th>\n",
       "      <th>LON</th>\n",
       "    </tr>\n",
       "    <tr>\n",
       "      <th>ZIP_CD</th>\n",
       "      <th></th>\n",
       "      <th></th>\n",
       "    </tr>\n",
       "  </thead>\n",
       "  <tbody>\n",
       "    <tr>\n",
       "      <th>90001</th>\n",
       "      <td>33.968964</td>\n",
       "      <td>-118.260627</td>\n",
       "    </tr>\n",
       "    <tr>\n",
       "      <th>90002</th>\n",
       "      <td>33.946941</td>\n",
       "      <td>-118.247758</td>\n",
       "    </tr>\n",
       "    <tr>\n",
       "      <th>90003</th>\n",
       "      <td>33.964656</td>\n",
       "      <td>-118.273691</td>\n",
       "    </tr>\n",
       "    <tr>\n",
       "      <th>90004</th>\n",
       "      <td>34.076803</td>\n",
       "      <td>-118.306626</td>\n",
       "    </tr>\n",
       "    <tr>\n",
       "      <th>90005</th>\n",
       "      <td>34.058886</td>\n",
       "      <td>-118.305659</td>\n",
       "    </tr>\n",
       "    <tr>\n",
       "      <th>...</th>\n",
       "      <td>...</td>\n",
       "      <td>...</td>\n",
       "    </tr>\n",
       "    <tr>\n",
       "      <th>90071</th>\n",
       "      <td>34.051729</td>\n",
       "      <td>-118.254762</td>\n",
       "    </tr>\n",
       "    <tr>\n",
       "      <th>90073</th>\n",
       "      <td>34.061280</td>\n",
       "      <td>-118.466185</td>\n",
       "    </tr>\n",
       "    <tr>\n",
       "      <th>90077</th>\n",
       "      <td>34.104810</td>\n",
       "      <td>-118.449336</td>\n",
       "    </tr>\n",
       "    <tr>\n",
       "      <th>90089</th>\n",
       "      <td>34.021459</td>\n",
       "      <td>-118.286037</td>\n",
       "    </tr>\n",
       "    <tr>\n",
       "      <th>90094</th>\n",
       "      <td>33.974596</td>\n",
       "      <td>-118.419265</td>\n",
       "    </tr>\n",
       "  </tbody>\n",
       "</table>\n",
       "<p>63 rows × 2 columns</p>\n",
       "</div>"
      ],
      "text/plain": [
       "              LAT         LON\n",
       "ZIP_CD                       \n",
       "90001   33.968964 -118.260627\n",
       "90002   33.946941 -118.247758\n",
       "90003   33.964656 -118.273691\n",
       "90004   34.076803 -118.306626\n",
       "90005   34.058886 -118.305659\n",
       "...           ...         ...\n",
       "90071   34.051729 -118.254762\n",
       "90073   34.061280 -118.466185\n",
       "90077   34.104810 -118.449336\n",
       "90089   34.021459 -118.286037\n",
       "90094   33.974596 -118.419265\n",
       "\n",
       "[63 rows x 2 columns]"
      ]
     },
     "execution_count": 38,
     "metadata": {},
     "output_type": "execute_result"
    }
   ],
   "source": [
    "grouped_lat_lon = la_data.groupby('ZIP_CD').agg({'LAT': 'mean','LON': 'mean'})\n",
    "grouped_lat_lon"
   ]
  },
  {
   "cell_type": "code",
   "execution_count": 39,
   "metadata": {},
   "outputs": [],
   "source": [
    "# Let's extract the longitudes and latitudes\n",
    "latitudes = list(grouped_lat_lon['LAT'])\n",
    "longitudes = list(grouped_lat_lon['LON'])"
   ]
  },
  {
   "cell_type": "code",
   "execution_count": 40,
   "metadata": {},
   "outputs": [
    {
     "data": {
      "text/html": [
       "<div>\n",
       "<style scoped>\n",
       "    .dataframe tbody tr th:only-of-type {\n",
       "        vertical-align: middle;\n",
       "    }\n",
       "\n",
       "    .dataframe tbody tr th {\n",
       "        vertical-align: top;\n",
       "    }\n",
       "\n",
       "    .dataframe thead th {\n",
       "        text-align: right;\n",
       "    }\n",
       "</style>\n",
       "<table border=\"1\" class=\"dataframe\">\n",
       "  <thead>\n",
       "    <tr style=\"text-align: right;\">\n",
       "      <th></th>\n",
       "      <th>Zip Code</th>\n",
       "      <th>Neighborhood</th>\n",
       "      <th>Street</th>\n",
       "      <th>Latitude</th>\n",
       "      <th>Longitude</th>\n",
       "    </tr>\n",
       "  </thead>\n",
       "  <tbody>\n",
       "    <tr>\n",
       "      <th>0</th>\n",
       "      <td>90001</td>\n",
       "      <td>Los Angeles</td>\n",
       "      <td>79TH ST</td>\n",
       "      <td>33.968964</td>\n",
       "      <td>-118.260627</td>\n",
       "    </tr>\n",
       "    <tr>\n",
       "      <th>1</th>\n",
       "      <td>90002</td>\n",
       "      <td>Watts, Southeast Los Angeles</td>\n",
       "      <td>107TH ST</td>\n",
       "      <td>33.946941</td>\n",
       "      <td>-118.247758</td>\n",
       "    </tr>\n",
       "    <tr>\n",
       "      <th>2</th>\n",
       "      <td>90003</td>\n",
       "      <td>Southeast Los Angeles</td>\n",
       "      <td>MAIN ST</td>\n",
       "      <td>33.964656</td>\n",
       "      <td>-118.273691</td>\n",
       "    </tr>\n",
       "    <tr>\n",
       "      <th>3</th>\n",
       "      <td>90004</td>\n",
       "      <td>Koreatown</td>\n",
       "      <td>BEVERLY BLVD</td>\n",
       "      <td>34.076803</td>\n",
       "      <td>-118.306626</td>\n",
       "    </tr>\n",
       "    <tr>\n",
       "      <th>4</th>\n",
       "      <td>90005</td>\n",
       "      <td>Koreatown</td>\n",
       "      <td>8TH ST</td>\n",
       "      <td>34.058886</td>\n",
       "      <td>-118.305659</td>\n",
       "    </tr>\n",
       "  </tbody>\n",
       "</table>\n",
       "</div>"
      ],
      "text/plain": [
       "  Zip Code                  Neighborhood        Street   Latitude   Longitude\n",
       "0    90001                   Los Angeles       79TH ST  33.968964 -118.260627\n",
       "1    90002  Watts, Southeast Los Angeles      107TH ST  33.946941 -118.247758\n",
       "2    90003         Southeast Los Angeles       MAIN ST  33.964656 -118.273691\n",
       "3    90004                     Koreatown  BEVERLY BLVD  34.076803 -118.306626\n",
       "4    90005                     Koreatown        8TH ST  34.058886 -118.305659"
      ]
     },
     "execution_count": 40,
     "metadata": {},
     "output_type": "execute_result"
    }
   ],
   "source": [
    "la_subset = pd.DataFrame(list(zip(zip_list,neigh_list,top_streets,latitudes,longitudes)), \n",
    "                         columns=['Zip Code','Neighborhood','Street','Latitude','Longitude'])\n",
    "la_subset.head()"
   ]
  },
  {
   "cell_type": "markdown",
   "metadata": {},
   "source": [
    "Before we proceed, let's remove all rows that don't have a neighborhood in them since these won't be helpful for the analysis."
   ]
  },
  {
   "cell_type": "code",
   "execution_count": 41,
   "metadata": {},
   "outputs": [
    {
     "data": {
      "text/plain": [
       "(54, 5)"
      ]
     },
     "execution_count": 41,
     "metadata": {},
     "output_type": "execute_result"
    }
   ],
   "source": [
    "la_subset.dropna(subset=[\"Neighborhood\"], axis=0, inplace=True)\n",
    "la_subset.shape"
   ]
  },
  {
   "cell_type": "markdown",
   "metadata": {},
   "source": [
    "9 rows were removed. Now let's proceed.."
   ]
  },
  {
   "cell_type": "markdown",
   "metadata": {},
   "source": [
    "## 2. Exploring the neighborhoods in LA"
   ]
  },
  {
   "cell_type": "markdown",
   "metadata": {},
   "source": [
    "#### Use geopy library to get the latitude and longitude values of LA."
   ]
  },
  {
   "cell_type": "markdown",
   "metadata": {},
   "source": [
    "In order to define an instance of the geocoder, we need to define a user_agent. We will name our agent <em>la_explorer</em>, as shown below."
   ]
  },
  {
   "cell_type": "code",
   "execution_count": 42,
   "metadata": {},
   "outputs": [
    {
     "name": "stdout",
     "output_type": "stream",
     "text": [
      "The geograpical coordinates of LA are 34.0536909, -118.2427666.\n"
     ]
    }
   ],
   "source": [
    "address = 'Los Angeles, California'\n",
    "\n",
    "geolocator = Nominatim(user_agent=\"la_explorer\")\n",
    "location = geolocator.geocode(address)\n",
    "latitude = location.latitude\n",
    "longitude = location.longitude\n",
    "print('The geograpical coordinates of LA are {}, {}.'.format(latitude, longitude))"
   ]
  },
  {
   "cell_type": "markdown",
   "metadata": {},
   "source": [
    "#### Create a map of LA with the neighborhoods superimposed on top."
   ]
  },
  {
   "cell_type": "code",
   "execution_count": 43,
   "metadata": {},
   "outputs": [
    {
     "data": {
      "text/html": [
       "<div style=\"width:100%;\"><div style=\"position:relative;width:100%;height:0;padding-bottom:60%;\"><span style=\"color:#565656\">Make this Notebook Trusted to load map: File -> Trust Notebook</span><iframe src=\"about:blank\" style=\"position:absolute;width:100%;height:100%;left:0;top:0;border:none !important;\" data-html=PCFET0NUWVBFIGh0bWw+CjxoZWFkPiAgICAKICAgIDxtZXRhIGh0dHAtZXF1aXY9ImNvbnRlbnQtdHlwZSIgY29udGVudD0idGV4dC9odG1sOyBjaGFyc2V0PVVURi04IiAvPgogICAgPHNjcmlwdD5MX1BSRUZFUl9DQU5WQVMgPSBmYWxzZTsgTF9OT19UT1VDSCA9IGZhbHNlOyBMX0RJU0FCTEVfM0QgPSBmYWxzZTs8L3NjcmlwdD4KICAgIDxzY3JpcHQgc3JjPSJodHRwczovL2Nkbi5qc2RlbGl2ci5uZXQvbnBtL2xlYWZsZXRAMS4yLjAvZGlzdC9sZWFmbGV0LmpzIj48L3NjcmlwdD4KICAgIDxzY3JpcHQgc3JjPSJodHRwczovL2FqYXguZ29vZ2xlYXBpcy5jb20vYWpheC9saWJzL2pxdWVyeS8xLjExLjEvanF1ZXJ5Lm1pbi5qcyI+PC9zY3JpcHQ+CiAgICA8c2NyaXB0IHNyYz0iaHR0cHM6Ly9tYXhjZG4uYm9vdHN0cmFwY2RuLmNvbS9ib290c3RyYXAvMy4yLjAvanMvYm9vdHN0cmFwLm1pbi5qcyI+PC9zY3JpcHQ+CiAgICA8c2NyaXB0IHNyYz0iaHR0cHM6Ly9jZG5qcy5jbG91ZGZsYXJlLmNvbS9hamF4L2xpYnMvTGVhZmxldC5hd2Vzb21lLW1hcmtlcnMvMi4wLjIvbGVhZmxldC5hd2Vzb21lLW1hcmtlcnMuanMiPjwvc2NyaXB0PgogICAgPGxpbmsgcmVsPSJzdHlsZXNoZWV0IiBocmVmPSJodHRwczovL2Nkbi5qc2RlbGl2ci5uZXQvbnBtL2xlYWZsZXRAMS4yLjAvZGlzdC9sZWFmbGV0LmNzcyIvPgogICAgPGxpbmsgcmVsPSJzdHlsZXNoZWV0IiBocmVmPSJodHRwczovL21heGNkbi5ib290c3RyYXBjZG4uY29tL2Jvb3RzdHJhcC8zLjIuMC9jc3MvYm9vdHN0cmFwLm1pbi5jc3MiLz4KICAgIDxsaW5rIHJlbD0ic3R5bGVzaGVldCIgaHJlZj0iaHR0cHM6Ly9tYXhjZG4uYm9vdHN0cmFwY2RuLmNvbS9ib290c3RyYXAvMy4yLjAvY3NzL2Jvb3RzdHJhcC10aGVtZS5taW4uY3NzIi8+CiAgICA8bGluayByZWw9InN0eWxlc2hlZXQiIGhyZWY9Imh0dHBzOi8vbWF4Y2RuLmJvb3RzdHJhcGNkbi5jb20vZm9udC1hd2Vzb21lLzQuNi4zL2Nzcy9mb250LWF3ZXNvbWUubWluLmNzcyIvPgogICAgPGxpbmsgcmVsPSJzdHlsZXNoZWV0IiBocmVmPSJodHRwczovL2NkbmpzLmNsb3VkZmxhcmUuY29tL2FqYXgvbGlicy9MZWFmbGV0LmF3ZXNvbWUtbWFya2Vycy8yLjAuMi9sZWFmbGV0LmF3ZXNvbWUtbWFya2Vycy5jc3MiLz4KICAgIDxsaW5rIHJlbD0ic3R5bGVzaGVldCIgaHJlZj0iaHR0cHM6Ly9yYXdnaXQuY29tL3B5dGhvbi12aXN1YWxpemF0aW9uL2ZvbGl1bS9tYXN0ZXIvZm9saXVtL3RlbXBsYXRlcy9sZWFmbGV0LmF3ZXNvbWUucm90YXRlLmNzcyIvPgogICAgPHN0eWxlPmh0bWwsIGJvZHkge3dpZHRoOiAxMDAlO2hlaWdodDogMTAwJTttYXJnaW46IDA7cGFkZGluZzogMDt9PC9zdHlsZT4KICAgIDxzdHlsZT4jbWFwIHtwb3NpdGlvbjphYnNvbHV0ZTt0b3A6MDtib3R0b206MDtyaWdodDowO2xlZnQ6MDt9PC9zdHlsZT4KICAgIAogICAgICAgICAgICA8c3R5bGU+ICNtYXBfY2ZkZGEzNTQ0Zjg2NDRkOThkMGVkYzA2ZGZmOGE3MGQgewogICAgICAgICAgICAgICAgcG9zaXRpb24gOiByZWxhdGl2ZTsKICAgICAgICAgICAgICAgIHdpZHRoIDogMTAwLjAlOwogICAgICAgICAgICAgICAgaGVpZ2h0OiAxMDAuMCU7CiAgICAgICAgICAgICAgICBsZWZ0OiAwLjAlOwogICAgICAgICAgICAgICAgdG9wOiAwLjAlOwogICAgICAgICAgICAgICAgfQogICAgICAgICAgICA8L3N0eWxlPgogICAgICAgIAo8L2hlYWQ+Cjxib2R5PiAgICAKICAgIAogICAgICAgICAgICA8ZGl2IGNsYXNzPSJmb2xpdW0tbWFwIiBpZD0ibWFwX2NmZGRhMzU0NGY4NjQ0ZDk4ZDBlZGMwNmRmZjhhNzBkIiA+PC9kaXY+CiAgICAgICAgCjwvYm9keT4KPHNjcmlwdD4gICAgCiAgICAKCiAgICAgICAgICAgIAogICAgICAgICAgICAgICAgdmFyIGJvdW5kcyA9IG51bGw7CiAgICAgICAgICAgIAoKICAgICAgICAgICAgdmFyIG1hcF9jZmRkYTM1NDRmODY0NGQ5OGQwZWRjMDZkZmY4YTcwZCA9IEwubWFwKAogICAgICAgICAgICAgICAgICAgICAgICAgICAgICAgICAgJ21hcF9jZmRkYTM1NDRmODY0NGQ5OGQwZWRjMDZkZmY4YTcwZCcsCiAgICAgICAgICAgICAgICAgICAgICAgICAgICAgICAgICB7Y2VudGVyOiBbMzQuMDUzNjkwOSwtMTE4LjI0Mjc2NjZdLAogICAgICAgICAgICAgICAgICAgICAgICAgICAgICAgICAgem9vbTogMTAsCiAgICAgICAgICAgICAgICAgICAgICAgICAgICAgICAgICBtYXhCb3VuZHM6IGJvdW5kcywKICAgICAgICAgICAgICAgICAgICAgICAgICAgICAgICAgIGxheWVyczogW10sCiAgICAgICAgICAgICAgICAgICAgICAgICAgICAgICAgICB3b3JsZENvcHlKdW1wOiBmYWxzZSwKICAgICAgICAgICAgICAgICAgICAgICAgICAgICAgICAgIGNyczogTC5DUlMuRVBTRzM4NTcKICAgICAgICAgICAgICAgICAgICAgICAgICAgICAgICAgfSk7CiAgICAgICAgICAgIAogICAgICAgIAogICAgCiAgICAgICAgICAgIHZhciB0aWxlX2xheWVyXzAxNmJlNWRlY2Y3NTQ2YWJiMTQ1NzgzYTk2NDY0ZDRhID0gTC50aWxlTGF5ZXIoCiAgICAgICAgICAgICAgICAnaHR0cHM6Ly97c30udGlsZS5vcGVuc3RyZWV0bWFwLm9yZy97en0ve3h9L3t5fS5wbmcnLAogICAgICAgICAgICAgICAgewogICJhdHRyaWJ1dGlvbiI6IG51bGwsCiAgImRldGVjdFJldGluYSI6IGZhbHNlLAogICJtYXhab29tIjogMTgsCiAgIm1pblpvb20iOiAxLAogICJub1dyYXAiOiBmYWxzZSwKICAic3ViZG9tYWlucyI6ICJhYmMiCn0KICAgICAgICAgICAgICAgICkuYWRkVG8obWFwX2NmZGRhMzU0NGY4NjQ0ZDk4ZDBlZGMwNmRmZjhhNzBkKTsKICAgICAgICAKICAgIAogICAgICAgICAgICB2YXIgY2lyY2xlX21hcmtlcl8yOWUyYWQwMjA5OGM0NTViYjhkYWExZDgwZDRkZmYzZCA9IEwuY2lyY2xlTWFya2VyKAogICAgICAgICAgICAgICAgWzMzLjk2ODk2NDExMjk3OTkyNiwtMTE4LjI2MDYyNjgxMzcxMDQyXSwKICAgICAgICAgICAgICAgIHsKICAiYnViYmxpbmdNb3VzZUV2ZW50cyI6IHRydWUsCiAgImNvbG9yIjogImJsdWUiLAogICJkYXNoQXJyYXkiOiBudWxsLAogICJkYXNoT2Zmc2V0IjogbnVsbCwKICAiZmlsbCI6IHRydWUsCiAgImZpbGxDb2xvciI6ICIjMzE4NmNjIiwKICAiZmlsbE9wYWNpdHkiOiAwLjcsCiAgImZpbGxSdWxlIjogImV2ZW5vZGQiLAogICJsaW5lQ2FwIjogInJvdW5kIiwKICAibGluZUpvaW4iOiAicm91bmQiLAogICJvcGFjaXR5IjogMS4wLAogICJyYWRpdXMiOiA1LAogICJzdHJva2UiOiB0cnVlLAogICJ3ZWlnaHQiOiAzCn0KICAgICAgICAgICAgICAgICkuYWRkVG8obWFwX2NmZGRhMzU0NGY4NjQ0ZDk4ZDBlZGMwNmRmZjhhNzBkKTsKICAgICAgICAgICAgCiAgICAKICAgICAgICAgICAgdmFyIHBvcHVwX2M3OWU2M2E0ODgyMDQ4MTNhZmYwYjhhNmFiNDdhZjAyID0gTC5wb3B1cCh7bWF4V2lkdGg6ICczMDAnfSk7CgogICAgICAgICAgICAKICAgICAgICAgICAgICAgIHZhciBodG1sXzU5ODM3ZDk5NmU0MTRjZGM5NDA4MWQzY2M2OTI5ZTAzID0gJCgnPGRpdiBpZD0iaHRtbF81OTgzN2Q5OTZlNDE0Y2RjOTQwODFkM2NjNjkyOWUwMyIgc3R5bGU9IndpZHRoOiAxMDAuMCU7IGhlaWdodDogMTAwLjAlOyI+NzlUSCBTVCwgTG9zIEFuZ2VsZXM8L2Rpdj4nKVswXTsKICAgICAgICAgICAgICAgIHBvcHVwX2M3OWU2M2E0ODgyMDQ4MTNhZmYwYjhhNmFiNDdhZjAyLnNldENvbnRlbnQoaHRtbF81OTgzN2Q5OTZlNDE0Y2RjOTQwODFkM2NjNjkyOWUwMyk7CiAgICAgICAgICAgIAoKICAgICAgICAgICAgY2lyY2xlX21hcmtlcl8yOWUyYWQwMjA5OGM0NTViYjhkYWExZDgwZDRkZmYzZC5iaW5kUG9wdXAocG9wdXBfYzc5ZTYzYTQ4ODIwNDgxM2FmZjBiOGE2YWI0N2FmMDIpOwoKICAgICAgICAgICAgCiAgICAgICAgCiAgICAKICAgICAgICAgICAgdmFyIGNpcmNsZV9tYXJrZXJfNWU4ZWZmMjc3OGJmNDFjY2FiZWE3YjRhNjE0OWMzZGUgPSBMLmNpcmNsZU1hcmtlcigKICAgICAgICAgICAgICAgIFszMy45NDY5NDEzNjYxMjYyNywtMTE4LjI0Nzc1ODA2ODU4MDQ0XSwKICAgICAgICAgICAgICAgIHsKICAiYnViYmxpbmdNb3VzZUV2ZW50cyI6IHRydWUsCiAgImNvbG9yIjogImJsdWUiLAogICJkYXNoQXJyYXkiOiBudWxsLAogICJkYXNoT2Zmc2V0IjogbnVsbCwKICAiZmlsbCI6IHRydWUsCiAgImZpbGxDb2xvciI6ICIjMzE4NmNjIiwKICAiZmlsbE9wYWNpdHkiOiAwLjcsCiAgImZpbGxSdWxlIjogImV2ZW5vZGQiLAogICJsaW5lQ2FwIjogInJvdW5kIiwKICAibGluZUpvaW4iOiAicm91bmQiLAogICJvcGFjaXR5IjogMS4wLAogICJyYWRpdXMiOiA1LAogICJzdHJva2UiOiB0cnVlLAogICJ3ZWlnaHQiOiAzCn0KICAgICAgICAgICAgICAgICkuYWRkVG8obWFwX2NmZGRhMzU0NGY4NjQ0ZDk4ZDBlZGMwNmRmZjhhNzBkKTsKICAgICAgICAgICAgCiAgICAKICAgICAgICAgICAgdmFyIHBvcHVwXzIwYmJjYWU1M2RhZjQ5MzBiMjU1NjA1ZWY1OTI2OTA1ID0gTC5wb3B1cCh7bWF4V2lkdGg6ICczMDAnfSk7CgogICAgICAgICAgICAKICAgICAgICAgICAgICAgIHZhciBodG1sX2IxYjc3OTQwMTNlOTQ5Yjc5NGQ0MzA3NjczNzMwOGVjID0gJCgnPGRpdiBpZD0iaHRtbF9iMWI3Nzk0MDEzZTk0OWI3OTRkNDMwNzY3MzczMDhlYyIgc3R5bGU9IndpZHRoOiAxMDAuMCU7IGhlaWdodDogMTAwLjAlOyI+MTA3VEggU1QsIFdhdHRzLCBTb3V0aGVhc3QgTG9zIEFuZ2VsZXM8L2Rpdj4nKVswXTsKICAgICAgICAgICAgICAgIHBvcHVwXzIwYmJjYWU1M2RhZjQ5MzBiMjU1NjA1ZWY1OTI2OTA1LnNldENvbnRlbnQoaHRtbF9iMWI3Nzk0MDEzZTk0OWI3OTRkNDMwNzY3MzczMDhlYyk7CiAgICAgICAgICAgIAoKICAgICAgICAgICAgY2lyY2xlX21hcmtlcl81ZThlZmYyNzc4YmY0MWNjYWJlYTdiNGE2MTQ5YzNkZS5iaW5kUG9wdXAocG9wdXBfMjBiYmNhZTUzZGFmNDkzMGIyNTU2MDVlZjU5MjY5MDUpOwoKICAgICAgICAgICAgCiAgICAgICAgCiAgICAKICAgICAgICAgICAgdmFyIGNpcmNsZV9tYXJrZXJfN2JjZWI2OWU3OGFiNGYxYWFlNTVjYjdkZmNkNzMzNTEgPSBMLmNpcmNsZU1hcmtlcigKICAgICAgICAgICAgICAgIFszMy45NjQ2NTY0NDg3NDA1NCwtMTE4LjI3MzY5MDg1NzAzNjk0XSwKICAgICAgICAgICAgICAgIHsKICAiYnViYmxpbmdNb3VzZUV2ZW50cyI6IHRydWUsCiAgImNvbG9yIjogImJsdWUiLAogICJkYXNoQXJyYXkiOiBudWxsLAogICJkYXNoT2Zmc2V0IjogbnVsbCwKICAiZmlsbCI6IHRydWUsCiAgImZpbGxDb2xvciI6ICIjMzE4NmNjIiwKICAiZmlsbE9wYWNpdHkiOiAwLjcsCiAgImZpbGxSdWxlIjogImV2ZW5vZGQiLAogICJsaW5lQ2FwIjogInJvdW5kIiwKICAibGluZUpvaW4iOiAicm91bmQiLAogICJvcGFjaXR5IjogMS4wLAogICJyYWRpdXMiOiA1LAogICJzdHJva2UiOiB0cnVlLAogICJ3ZWlnaHQiOiAzCn0KICAgICAgICAgICAgICAgICkuYWRkVG8obWFwX2NmZGRhMzU0NGY4NjQ0ZDk4ZDBlZGMwNmRmZjhhNzBkKTsKICAgICAgICAgICAgCiAgICAKICAgICAgICAgICAgdmFyIHBvcHVwXzNhOGMyNTFkMGM3NjQzNjM4MjU0YzZjYzAzODE0MmQ2ID0gTC5wb3B1cCh7bWF4V2lkdGg6ICczMDAnfSk7CgogICAgICAgICAgICAKICAgICAgICAgICAgICAgIHZhciBodG1sXzNkNTRhMGNkOGFkYzQ4NGE5MTUwYzFkMWZhNzYzNTYyID0gJCgnPGRpdiBpZD0iaHRtbF8zZDU0YTBjZDhhZGM0ODRhOTE1MGMxZDFmYTc2MzU2MiIgc3R5bGU9IndpZHRoOiAxMDAuMCU7IGhlaWdodDogMTAwLjAlOyI+TUFJTiBTVCwgU291dGhlYXN0IExvcyBBbmdlbGVzPC9kaXY+JylbMF07CiAgICAgICAgICAgICAgICBwb3B1cF8zYThjMjUxZDBjNzY0MzYzODI1NGM2Y2MwMzgxNDJkNi5zZXRDb250ZW50KGh0bWxfM2Q1NGEwY2Q4YWRjNDg0YTkxNTBjMWQxZmE3NjM1NjIpOwogICAgICAgICAgICAKCiAgICAgICAgICAgIGNpcmNsZV9tYXJrZXJfN2JjZWI2OWU3OGFiNGYxYWFlNTVjYjdkZmNkNzMzNTEuYmluZFBvcHVwKHBvcHVwXzNhOGMyNTFkMGM3NjQzNjM4MjU0YzZjYzAzODE0MmQ2KTsKCiAgICAgICAgICAgIAogICAgICAgIAogICAgCiAgICAgICAgICAgIHZhciBjaXJjbGVfbWFya2VyXzlhZGJmMmU3N2QyMzQ0Zjg4OWJjMmI2MDg2ZjE0YjU0ID0gTC5jaXJjbGVNYXJrZXIoCiAgICAgICAgICAgICAgICBbMzQuMDc2ODAyNzU1OTE5MDA1LC0xMTguMzA2NjI1NzY1MTQ1OTJdLAogICAgICAgICAgICAgICAgewogICJidWJibGluZ01vdXNlRXZlbnRzIjogdHJ1ZSwKICAiY29sb3IiOiAiYmx1ZSIsCiAgImRhc2hBcnJheSI6IG51bGwsCiAgImRhc2hPZmZzZXQiOiBudWxsLAogICJmaWxsIjogdHJ1ZSwKICAiZmlsbENvbG9yIjogIiMzMTg2Y2MiLAogICJmaWxsT3BhY2l0eSI6IDAuNywKICAiZmlsbFJ1bGUiOiAiZXZlbm9kZCIsCiAgImxpbmVDYXAiOiAicm91bmQiLAogICJsaW5lSm9pbiI6ICJyb3VuZCIsCiAgIm9wYWNpdHkiOiAxLjAsCiAgInJhZGl1cyI6IDUsCiAgInN0cm9rZSI6IHRydWUsCiAgIndlaWdodCI6IDMKfQogICAgICAgICAgICAgICAgKS5hZGRUbyhtYXBfY2ZkZGEzNTQ0Zjg2NDRkOThkMGVkYzA2ZGZmOGE3MGQpOwogICAgICAgICAgICAKICAgIAogICAgICAgICAgICB2YXIgcG9wdXBfYzA4ZjQxMmFmOWE5NDdmZGI3ODY0NmJkMDRmMTc1YTMgPSBMLnBvcHVwKHttYXhXaWR0aDogJzMwMCd9KTsKCiAgICAgICAgICAgIAogICAgICAgICAgICAgICAgdmFyIGh0bWxfMjExNzEwMGQzOGQ5NDBhNGFlMWEyYzYwYzljZDZjNGUgPSAkKCc8ZGl2IGlkPSJodG1sXzIxMTcxMDBkMzhkOTQwYTRhZTFhMmM2MGM5Y2Q2YzRlIiBzdHlsZT0id2lkdGg6IDEwMC4wJTsgaGVpZ2h0OiAxMDAuMCU7Ij5CRVZFUkxZIEJMVkQsIEtvcmVhdG93bjwvZGl2PicpWzBdOwogICAgICAgICAgICAgICAgcG9wdXBfYzA4ZjQxMmFmOWE5NDdmZGI3ODY0NmJkMDRmMTc1YTMuc2V0Q29udGVudChodG1sXzIxMTcxMDBkMzhkOTQwYTRhZTFhMmM2MGM5Y2Q2YzRlKTsKICAgICAgICAgICAgCgogICAgICAgICAgICBjaXJjbGVfbWFya2VyXzlhZGJmMmU3N2QyMzQ0Zjg4OWJjMmI2MDg2ZjE0YjU0LmJpbmRQb3B1cChwb3B1cF9jMDhmNDEyYWY5YTk0N2ZkYjc4NjQ2YmQwNGYxNzVhMyk7CgogICAgICAgICAgICAKICAgICAgICAKICAgIAogICAgICAgICAgICB2YXIgY2lyY2xlX21hcmtlcl82ODJmZDdjNjlkYjc0YmU3YWY0NGY2MjZhYzIyOTFmMCA9IEwuY2lyY2xlTWFya2VyKAogICAgICAgICAgICAgICAgWzM0LjA1ODg4NjE2NDEyMjE2LC0xMTguMzA1NjU5MzI0OTA0NV0sCiAgICAgICAgICAgICAgICB7CiAgImJ1YmJsaW5nTW91c2VFdmVudHMiOiB0cnVlLAogICJjb2xvciI6ICJibHVlIiwKICAiZGFzaEFycmF5IjogbnVsbCwKICAiZGFzaE9mZnNldCI6IG51bGwsCiAgImZpbGwiOiB0cnVlLAogICJmaWxsQ29sb3IiOiAiIzMxODZjYyIsCiAgImZpbGxPcGFjaXR5IjogMC43LAogICJmaWxsUnVsZSI6ICJldmVub2RkIiwKICAibGluZUNhcCI6ICJyb3VuZCIsCiAgImxpbmVKb2luIjogInJvdW5kIiwKICAib3BhY2l0eSI6IDEuMCwKICAicmFkaXVzIjogNSwKICAic3Ryb2tlIjogdHJ1ZSwKICAid2VpZ2h0IjogMwp9CiAgICAgICAgICAgICAgICApLmFkZFRvKG1hcF9jZmRkYTM1NDRmODY0NGQ5OGQwZWRjMDZkZmY4YTcwZCk7CiAgICAgICAgICAgIAogICAgCiAgICAgICAgICAgIHZhciBwb3B1cF9iZGUyODBlOTE0MWQ0OWU4YTVmMDIyZjU5ZWU3MGQ2ZCA9IEwucG9wdXAoe21heFdpZHRoOiAnMzAwJ30pOwoKICAgICAgICAgICAgCiAgICAgICAgICAgICAgICB2YXIgaHRtbF9jMjUwZTMwMjk0N2Q0MjNmYTgyMWNiMzg2MjJmNDUxYSA9ICQoJzxkaXYgaWQ9Imh0bWxfYzI1MGUzMDI5NDdkNDIzZmE4MjFjYjM4NjIyZjQ1MWEiIHN0eWxlPSJ3aWR0aDogMTAwLjAlOyBoZWlnaHQ6IDEwMC4wJTsiPjhUSCBTVCwgS29yZWF0b3duPC9kaXY+JylbMF07CiAgICAgICAgICAgICAgICBwb3B1cF9iZGUyODBlOTE0MWQ0OWU4YTVmMDIyZjU5ZWU3MGQ2ZC5zZXRDb250ZW50KGh0bWxfYzI1MGUzMDI5NDdkNDIzZmE4MjFjYjM4NjIyZjQ1MWEpOwogICAgICAgICAgICAKCiAgICAgICAgICAgIGNpcmNsZV9tYXJrZXJfNjgyZmQ3YzY5ZGI3NGJlN2FmNDRmNjI2YWMyMjkxZjAuYmluZFBvcHVwKHBvcHVwX2JkZTI4MGU5MTQxZDQ5ZThhNWYwMjJmNTllZTcwZDZkKTsKCiAgICAgICAgICAgIAogICAgICAgIAogICAgCiAgICAgICAgICAgIHZhciBjaXJjbGVfbWFya2VyX2IzMzUxMjlhODM3ODQ0YWI4MmU1ODdlZWI3MjQxMDI2ID0gTC5jaXJjbGVNYXJrZXIoCiAgICAgICAgICAgICAgICBbMzQuMDQ4MjM2NTAyMTU3OTgsLTExOC4yOTQzODE3MDk1MTM0NF0sCiAgICAgICAgICAgICAgICB7CiAgImJ1YmJsaW5nTW91c2VFdmVudHMiOiB0cnVlLAogICJjb2xvciI6ICJibHVlIiwKICAiZGFzaEFycmF5IjogbnVsbCwKICAiZGFzaE9mZnNldCI6IG51bGwsCiAgImZpbGwiOiB0cnVlLAogICJmaWxsQ29sb3IiOiAiIzMxODZjYyIsCiAgImZpbGxPcGFjaXR5IjogMC43LAogICJmaWxsUnVsZSI6ICJldmVub2RkIiwKICAibGluZUNhcCI6ICJyb3VuZCIsCiAgImxpbmVKb2luIjogInJvdW5kIiwKICAib3BhY2l0eSI6IDEuMCwKICAicmFkaXVzIjogNSwKICAic3Ryb2tlIjogdHJ1ZSwKICAid2VpZ2h0IjogMwp9CiAgICAgICAgICAgICAgICApLmFkZFRvKG1hcF9jZmRkYTM1NDRmODY0NGQ5OGQwZWRjMDZkZmY4YTcwZCk7CiAgICAgICAgICAgIAogICAgCiAgICAgICAgICAgIHZhciBwb3B1cF85OTJjYjE2MjQ5ZTY0N2E3YTVmY2EzNWVhYTUxOWJlYiA9IEwucG9wdXAoe21heFdpZHRoOiAnMzAwJ30pOwoKICAgICAgICAgICAgCiAgICAgICAgICAgICAgICB2YXIgaHRtbF8yZWMwNjk2NmRlMGM0ZjAyYWUxMTkzNjE1M2I1NmUwNSA9ICQoJzxkaXYgaWQ9Imh0bWxfMmVjMDY5NjZkZTBjNGYwMmFlMTE5MzYxNTNiNTZlMDUiIHN0eWxlPSJ3aWR0aDogMTAwLjAlOyBoZWlnaHQ6IDEwMC4wJTsiPlBJQ08gQkxWRCwgUGljby1VbmlvbiwgS29yZWF0b3duPC9kaXY+JylbMF07CiAgICAgICAgICAgICAgICBwb3B1cF85OTJjYjE2MjQ5ZTY0N2E3YTVmY2EzNWVhYTUxOWJlYi5zZXRDb250ZW50KGh0bWxfMmVjMDY5NjZkZTBjNGYwMmFlMTE5MzYxNTNiNTZlMDUpOwogICAgICAgICAgICAKCiAgICAgICAgICAgIGNpcmNsZV9tYXJrZXJfYjMzNTEyOWE4Mzc4NDRhYjgyZTU4N2VlYjcyNDEwMjYuYmluZFBvcHVwKHBvcHVwXzk5MmNiMTYyNDllNjQ3YTdhNWZjYTM1ZWFhNTE5YmViKTsKCiAgICAgICAgICAgIAogICAgICAgIAogICAgCiAgICAgICAgICAgIHZhciBjaXJjbGVfbWFya2VyXzk5YTI0ZDJiMzhhODRmZmM5ZWEwZTFhNzk4OGQ4ODA0ID0gTC5jaXJjbGVNYXJrZXIoCiAgICAgICAgICAgICAgICBbMzQuMDI4NjI2OTc1OTM4NDE1LC0xMTguMjg3ODM2MjUyMTY1ODVdLAogICAgICAgICAgICAgICAgewogICJidWJibGluZ01vdXNlRXZlbnRzIjogdHJ1ZSwKICAiY29sb3IiOiAiYmx1ZSIsCiAgImRhc2hBcnJheSI6IG51bGwsCiAgImRhc2hPZmZzZXQiOiBudWxsLAogICJmaWxsIjogdHJ1ZSwKICAiZmlsbENvbG9yIjogIiMzMTg2Y2MiLAogICJmaWxsT3BhY2l0eSI6IDAuNywKICAiZmlsbFJ1bGUiOiAiZXZlbm9kZCIsCiAgImxpbmVDYXAiOiAicm91bmQiLAogICJsaW5lSm9pbiI6ICJyb3VuZCIsCiAgIm9wYWNpdHkiOiAxLjAsCiAgInJhZGl1cyI6IDUsCiAgInN0cm9rZSI6IHRydWUsCiAgIndlaWdodCI6IDMKfQogICAgICAgICAgICAgICAgKS5hZGRUbyhtYXBfY2ZkZGEzNTQ0Zjg2NDRkOThkMGVkYzA2ZGZmOGE3MGQpOwogICAgICAgICAgICAKICAgIAogICAgICAgICAgICB2YXIgcG9wdXBfOTdhM2QxMmZhY2VhNDgyMGEyYmI1NDFkMGNkMDkxZWQgPSBMLnBvcHVwKHttYXhXaWR0aDogJzMwMCd9KTsKCiAgICAgICAgICAgIAogICAgICAgICAgICAgICAgdmFyIGh0bWxfYjg2NWJkNGViNzQ5NDc3NGI4NjliYzk0N2U3YmRmNWEgPSAkKCc8ZGl2IGlkPSJodG1sX2I4NjViZDRlYjc0OTQ3NzRiODY5YmM5NDdlN2JkZjVhIiBzdHlsZT0id2lkdGg6IDEwMC4wJTsgaGVpZ2h0OiAxMDAuMCU7Ij4zMFRIIFNULCBMb3MgQW5nZWxlczwvZGl2PicpWzBdOwogICAgICAgICAgICAgICAgcG9wdXBfOTdhM2QxMmZhY2VhNDgyMGEyYmI1NDFkMGNkMDkxZWQuc2V0Q29udGVudChodG1sX2I4NjViZDRlYjc0OTQ3NzRiODY5YmM5NDdlN2JkZjVhKTsKICAgICAgICAgICAgCgogICAgICAgICAgICBjaXJjbGVfbWFya2VyXzk5YTI0ZDJiMzhhODRmZmM5ZWEwZTFhNzk4OGQ4ODA0LmJpbmRQb3B1cChwb3B1cF85N2EzZDEyZmFjZWE0ODIwYTJiYjU0MWQwY2QwOTFlZCk7CgogICAgICAgICAgICAKICAgICAgICAKICAgIAogICAgICAgICAgICB2YXIgY2lyY2xlX21hcmtlcl9lYjUwZWEyMTA3N2M0NWIzYjEwMTA0ZjE2Y2ZiZjNiMSA9IEwuY2lyY2xlTWFya2VyKAogICAgICAgICAgICAgICAgWzM0LjAxMDM5NTc4NzYwMjE3LC0xMTguMzM2MDg0MDU0NzU4MTZdLAogICAgICAgICAgICAgICAgewogICJidWJibGluZ01vdXNlRXZlbnRzIjogdHJ1ZSwKICAiY29sb3IiOiAiYmx1ZSIsCiAgImRhc2hBcnJheSI6IG51bGwsCiAgImRhc2hPZmZzZXQiOiBudWxsLAogICJmaWxsIjogdHJ1ZSwKICAiZmlsbENvbG9yIjogIiMzMTg2Y2MiLAogICJmaWxsT3BhY2l0eSI6IDAuNywKICAiZmlsbFJ1bGUiOiAiZXZlbm9kZCIsCiAgImxpbmVDYXAiOiAicm91bmQiLAogICJsaW5lSm9pbiI6ICJyb3VuZCIsCiAgIm9wYWNpdHkiOiAxLjAsCiAgInJhZGl1cyI6IDUsCiAgInN0cm9rZSI6IHRydWUsCiAgIndlaWdodCI6IDMKfQogICAgICAgICAgICAgICAgKS5hZGRUbyhtYXBfY2ZkZGEzNTQ0Zjg2NDRkOThkMGVkYzA2ZGZmOGE3MGQpOwogICAgICAgICAgICAKICAgIAogICAgICAgICAgICB2YXIgcG9wdXBfNGM1YjMzN2Y5NWE0NDI4Zjk5YzBmYjVkM2IzN2QyOGYgPSBMLnBvcHVwKHttYXhXaWR0aDogJzMwMCd9KTsKCiAgICAgICAgICAgIAogICAgICAgICAgICAgICAgdmFyIGh0bWxfN2QxZDY3OTM5YWVkNDE3ZDk5NTNkYzJlYWQyMTZlOTYgPSAkKCc8ZGl2IGlkPSJodG1sXzdkMWQ2NzkzOWFlZDQxN2Q5OTUzZGMyZWFkMjE2ZTk2IiBzdHlsZT0id2lkdGg6IDEwMC4wJTsgaGVpZ2h0OiAxMDAuMCU7Ij5MRUlNRVJUIEJMVkQsIENyZW5zaGF3PC9kaXY+JylbMF07CiAgICAgICAgICAgICAgICBwb3B1cF80YzViMzM3Zjk1YTQ0MjhmOTljMGZiNWQzYjM3ZDI4Zi5zZXRDb250ZW50KGh0bWxfN2QxZDY3OTM5YWVkNDE3ZDk5NTNkYzJlYWQyMTZlOTYpOwogICAgICAgICAgICAKCiAgICAgICAgICAgIGNpcmNsZV9tYXJrZXJfZWI1MGVhMjEwNzdjNDViM2IxMDEwNGYxNmNmYmYzYjEuYmluZFBvcHVwKHBvcHVwXzRjNWIzMzdmOTVhNDQyOGY5OWMwZmI1ZDNiMzdkMjhmKTsKCiAgICAgICAgICAgIAogICAgICAgIAogICAgCiAgICAgICAgICAgIHZhciBjaXJjbGVfbWFya2VyX2M5MzMwYjU2MjQ2NjRhZmZiNzcwNTNlNDg1N2MyZjE2ID0gTC5jaXJjbGVNYXJrZXIoCiAgICAgICAgICAgICAgICBbMzQuMDYxODA2NjAxOTQxNzI2LC0xMTguMzA0OTAxNDI4NTcxMl0sCiAgICAgICAgICAgICAgICB7CiAgImJ1YmJsaW5nTW91c2VFdmVudHMiOiB0cnVlLAogICJjb2xvciI6ICJibHVlIiwKICAiZGFzaEFycmF5IjogbnVsbCwKICAiZGFzaE9mZnNldCI6IG51bGwsCiAgImZpbGwiOiB0cnVlLAogICJmaWxsQ29sb3IiOiAiIzMxODZjYyIsCiAgImZpbGxPcGFjaXR5IjogMC43LAogICJmaWxsUnVsZSI6ICJldmVub2RkIiwKICAibGluZUNhcCI6ICJyb3VuZCIsCiAgImxpbmVKb2luIjogInJvdW5kIiwKICAib3BhY2l0eSI6IDEuMCwKICAicmFkaXVzIjogNSwKICAic3Ryb2tlIjogdHJ1ZSwKICAid2VpZ2h0IjogMwp9CiAgICAgICAgICAgICAgICApLmFkZFRvKG1hcF9jZmRkYTM1NDRmODY0NGQ5OGQwZWRjMDZkZmY4YTcwZCk7CiAgICAgICAgICAgIAogICAgCiAgICAgICAgICAgIHZhciBwb3B1cF9hNzA4ZjNkZDVhMmU0ZWE0OGUxMTQ3YWY3MDUxNTMwOSA9IEwucG9wdXAoe21heFdpZHRoOiAnMzAwJ30pOwoKICAgICAgICAgICAgCiAgICAgICAgICAgICAgICB2YXIgaHRtbF84NGM2NDVjYTBlN2Y0NDkzYTNlZWM2YzRjN2RmYzM1MyA9ICQoJzxkaXYgaWQ9Imh0bWxfODRjNjQ1Y2EwZTdmNDQ5M2EzZWVjNmM0YzdkZmMzNTMiIHN0eWxlPSJ3aWR0aDogMTAwLjAlOyBoZWlnaHQ6IDEwMC4wJTsiPldJTFNISVJFIEJMVkQsIEtvcmVhdG93bjwvZGl2PicpWzBdOwogICAgICAgICAgICAgICAgcG9wdXBfYTcwOGYzZGQ1YTJlNGVhNDhlMTE0N2FmNzA1MTUzMDkuc2V0Q29udGVudChodG1sXzg0YzY0NWNhMGU3ZjQ0OTNhM2VlYzZjNGM3ZGZjMzUzKTsKICAgICAgICAgICAgCgogICAgICAgICAgICBjaXJjbGVfbWFya2VyX2M5MzMwYjU2MjQ2NjRhZmZiNzcwNTNlNDg1N2MyZjE2LmJpbmRQb3B1cChwb3B1cF9hNzA4ZjNkZDVhMmU0ZWE0OGUxMTQ3YWY3MDUxNTMwOSk7CgogICAgICAgICAgICAKICAgICAgICAKICAgIAogICAgICAgICAgICB2YXIgY2lyY2xlX21hcmtlcl9hZDI2MWJmZmNmOTQ0OGZjYmFhY2E1MjU2OTM2OGNhNCA9IEwuY2lyY2xlTWFya2VyKAogICAgICAgICAgICAgICAgWzM0LjAwNzM2OTE0NTY5ODM1NSwtMTE4LjI1ODgxNjY0NTk5OTI3XSwKICAgICAgICAgICAgICAgIHsKICAiYnViYmxpbmdNb3VzZUV2ZW50cyI6IHRydWUsCiAgImNvbG9yIjogImJsdWUiLAogICJkYXNoQXJyYXkiOiBudWxsLAogICJkYXNoT2Zmc2V0IjogbnVsbCwKICAiZmlsbCI6IHRydWUsCiAgImZpbGxDb2xvciI6ICIjMzE4NmNjIiwKICAiZmlsbE9wYWNpdHkiOiAwLjcsCiAgImZpbGxSdWxlIjogImV2ZW5vZGQiLAogICJsaW5lQ2FwIjogInJvdW5kIiwKICAibGluZUpvaW4iOiAicm91bmQiLAogICJvcGFjaXR5IjogMS4wLAogICJyYWRpdXMiOiA1LAogICJzdHJva2UiOiB0cnVlLAogICJ3ZWlnaHQiOiAzCn0KICAgICAgICAgICAgICAgICkuYWRkVG8obWFwX2NmZGRhMzU0NGY4NjQ0ZDk4ZDBlZGMwNmRmZjhhNzBkKTsKICAgICAgICAgICAgCiAgICAKICAgICAgICAgICAgdmFyIHBvcHVwXzcyY2I4N2U4NTk1MDRiNDc5NDBlY2YwNTM2ZTM5ODZiID0gTC5wb3B1cCh7bWF4V2lkdGg6ICczMDAnfSk7CgogICAgICAgICAgICAKICAgICAgICAgICAgICAgIHZhciBodG1sX2ExMzdjYzgwNTI1NzRhN2FiMzEwMGY0YjVkYTJlNWY0ID0gJCgnPGRpdiBpZD0iaHRtbF9hMTM3Y2M4MDUyNTc0YTdhYjMxMDBmNGI1ZGEyZTVmNCIgc3R5bGU9IndpZHRoOiAxMDAuMCU7IGhlaWdodDogMTAwLjAlOyI+Q0VOVFJBTCBBVkUsIFNvdXRoZWFzdCBMb3MgQW5nZWxlczwvZGl2PicpWzBdOwogICAgICAgICAgICAgICAgcG9wdXBfNzJjYjg3ZTg1OTUwNGI0Nzk0MGVjZjA1MzZlMzk4NmIuc2V0Q29udGVudChodG1sX2ExMzdjYzgwNTI1NzRhN2FiMzEwMGY0YjVkYTJlNWY0KTsKICAgICAgICAgICAgCgogICAgICAgICAgICBjaXJjbGVfbWFya2VyX2FkMjYxYmZmY2Y5NDQ4ZmNiYWFjYTUyNTY5MzY4Y2E0LmJpbmRQb3B1cChwb3B1cF83MmNiODdlODU5NTA0YjQ3OTQwZWNmMDUzNmUzOTg2Yik7CgogICAgICAgICAgICAKICAgICAgICAKICAgIAogICAgICAgICAgICB2YXIgY2lyY2xlX21hcmtlcl9jYzc3YWRiZTM4Mjg0ZTZiOTY4Nzk4NjMzYzg2MThhNSA9IEwuY2lyY2xlTWFya2VyKAogICAgICAgICAgICAgICAgWzM0LjA2MDMyNDcyNDMyNjEzLC0xMTguMjM5ODczMTc3NzM0NzhdLAogICAgICAgICAgICAgICAgewogICJidWJibGluZ01vdXNlRXZlbnRzIjogdHJ1ZSwKICAiY29sb3IiOiAiYmx1ZSIsCiAgImRhc2hBcnJheSI6IG51bGwsCiAgImRhc2hPZmZzZXQiOiBudWxsLAogICJmaWxsIjogdHJ1ZSwKICAiZmlsbENvbG9yIjogIiMzMTg2Y2MiLAogICJmaWxsT3BhY2l0eSI6IDAuNywKICAiZmlsbFJ1bGUiOiAiZXZlbm9kZCIsCiAgImxpbmVDYXAiOiAicm91bmQiLAogICJsaW5lSm9pbiI6ICJyb3VuZCIsCiAgIm9wYWNpdHkiOiAxLjAsCiAgInJhZGl1cyI6IDUsCiAgInN0cm9rZSI6IHRydWUsCiAgIndlaWdodCI6IDMKfQogICAgICAgICAgICAgICAgKS5hZGRUbyhtYXBfY2ZkZGEzNTQ0Zjg2NDRkOThkMGVkYzA2ZGZmOGE3MGQpOwogICAgICAgICAgICAKICAgIAogICAgICAgICAgICB2YXIgcG9wdXBfZTU5Y2UxNDIxNTQ3NDE3YTkyM2M1MTZlMjNhZTk2NjUgPSBMLnBvcHVwKHttYXhXaWR0aDogJzMwMCd9KTsKCiAgICAgICAgICAgIAogICAgICAgICAgICAgICAgdmFyIGh0bWxfZmFjNDkxN2YzN2JmNGUyNWIwMzE0MmVjNTgyMTIyMTYgPSAkKCc8ZGl2IGlkPSJodG1sX2ZhYzQ5MTdmMzdiZjRlMjViMDMxNDJlYzU4MjEyMjE2IiBzdHlsZT0id2lkdGg6IDEwMC4wJTsgaGVpZ2h0OiAxMDAuMCU7Ij4xU1QgU1QsIENoaW5hdG93bjwvZGl2PicpWzBdOwogICAgICAgICAgICAgICAgcG9wdXBfZTU5Y2UxNDIxNTQ3NDE3YTkyM2M1MTZlMjNhZTk2NjUuc2V0Q29udGVudChodG1sX2ZhYzQ5MTdmMzdiZjRlMjViMDMxNDJlYzU4MjEyMjE2KTsKICAgICAgICAgICAgCgogICAgICAgICAgICBjaXJjbGVfbWFya2VyX2NjNzdhZGJlMzgyODRlNmI5Njg3OTg2MzNjODYxOGE1LmJpbmRQb3B1cChwb3B1cF9lNTljZTE0MjE1NDc0MTdhOTIzYzUxNmUyM2FlOTY2NSk7CgogICAgICAgICAgICAKICAgICAgICAKICAgIAogICAgICAgICAgICB2YXIgY2lyY2xlX21hcmtlcl8wYWM3NzBkNTVlNjI0MmI3OTQ2NmQ0M2Y5M2ZjOTJkMyA9IEwuY2lyY2xlTWFya2VyKAogICAgICAgICAgICAgICAgWzM0LjA0NDA0NjY3MDQwMzU0NiwtMTE4LjI0MzM4NjA5ODY1NDZdLAogICAgICAgICAgICAgICAgewogICJidWJibGluZ01vdXNlRXZlbnRzIjogdHJ1ZSwKICAiY29sb3IiOiAiYmx1ZSIsCiAgImRhc2hBcnJheSI6IG51bGwsCiAgImRhc2hPZmZzZXQiOiBudWxsLAogICJmaWxsIjogdHJ1ZSwKICAiZmlsbENvbG9yIjogIiMzMTg2Y2MiLAogICJmaWxsT3BhY2l0eSI6IDAuNywKICAiZmlsbFJ1bGUiOiAiZXZlbm9kZCIsCiAgImxpbmVDYXAiOiAicm91bmQiLAogICJsaW5lSm9pbiI6ICJyb3VuZCIsCiAgIm9wYWNpdHkiOiAxLjAsCiAgInJhZGl1cyI6IDUsCiAgInN0cm9rZSI6IHRydWUsCiAgIndlaWdodCI6IDMKfQogICAgICAgICAgICAgICAgKS5hZGRUbyhtYXBfY2ZkZGEzNTQ0Zjg2NDRkOThkMGVkYzA2ZGZmOGE3MGQpOwogICAgICAgICAgICAKICAgIAogICAgICAgICAgICB2YXIgcG9wdXBfYzQ4MTBjNTBlZWNkNDk4ZWIwZjc5NzA2ZTkxYTA1ZTggPSBMLnBvcHVwKHttYXhXaWR0aDogJzMwMCd9KTsKCiAgICAgICAgICAgIAogICAgICAgICAgICAgICAgdmFyIGh0bWxfYWJjZWRkYjI3MGVlNGEwYTg4ZTI2MzhiMDc2Njk4NzUgPSAkKCc8ZGl2IGlkPSJodG1sX2FiY2VkZGIyNzBlZTRhMGE4OGUyNjM4YjA3NjY5ODc1IiBzdHlsZT0id2lkdGg6IDEwMC4wJTsgaGVpZ2h0OiAxMDAuMCU7Ij41VEggU1QsIFdob2xlc2FsZSBEaXN0cmljdCwgRG93bnRvd24gTG9zIEFuZ2VsZXM8L2Rpdj4nKVswXTsKICAgICAgICAgICAgICAgIHBvcHVwX2M0ODEwYzUwZWVjZDQ5OGViMGY3OTcwNmU5MWEwNWU4LnNldENvbnRlbnQoaHRtbF9hYmNlZGRiMjcwZWU0YTBhODhlMjYzOGIwNzY2OTg3NSk7CiAgICAgICAgICAgIAoKICAgICAgICAgICAgY2lyY2xlX21hcmtlcl8wYWM3NzBkNTVlNjI0MmI3OTQ2NmQ0M2Y5M2ZjOTJkMy5iaW5kUG9wdXAocG9wdXBfYzQ4MTBjNTBlZWNkNDk4ZWIwZjc5NzA2ZTkxYTA1ZTgpOwoKICAgICAgICAgICAgCiAgICAgICAgCiAgICAKICAgICAgICAgICAgdmFyIGNpcmNsZV9tYXJrZXJfNjNjZTk5NWZiZTU3NDk1MjlhZjVmYjgwMTc5OThjMTMgPSBMLmNpcmNsZU1hcmtlcigKICAgICAgICAgICAgICAgIFszNC4wNDMwMjYzNzk4MDQ5NywtMTE4LjI1MTk2ODkyNzEzNzE2XSwKICAgICAgICAgICAgICAgIHsKICAiYnViYmxpbmdNb3VzZUV2ZW50cyI6IHRydWUsCiAgImNvbG9yIjogImJsdWUiLAogICJkYXNoQXJyYXkiOiBudWxsLAogICJkYXNoT2Zmc2V0IjogbnVsbCwKICAiZmlsbCI6IHRydWUsCiAgImZpbGxDb2xvciI6ICIjMzE4NmNjIiwKICAiZmlsbE9wYWNpdHkiOiAwLjcsCiAgImZpbGxSdWxlIjogImV2ZW5vZGQiLAogICJsaW5lQ2FwIjogInJvdW5kIiwKICAibGluZUpvaW4iOiAicm91bmQiLAogICJvcGFjaXR5IjogMS4wLAogICJyYWRpdXMiOiA1LAogICJzdHJva2UiOiB0cnVlLAogICJ3ZWlnaHQiOiAzCn0KICAgICAgICAgICAgICAgICkuYWRkVG8obWFwX2NmZGRhMzU0NGY4NjQ0ZDk4ZDBlZGMwNmRmZjhhNzBkKTsKICAgICAgICAgICAgCiAgICAKICAgICAgICAgICAgdmFyIHBvcHVwX2JkNDFhNDcwYTE2ZDRmNWY4YzM1ZjRlNmJiNGM5ODYwID0gTC5wb3B1cCh7bWF4V2lkdGg6ICczMDAnfSk7CgogICAgICAgICAgICAKICAgICAgICAgICAgICAgIHZhciBodG1sXzkzZDZmN2NlMWMyYzQ2NDBiNDljNzdjYTY5MWEwMGNmID0gJCgnPGRpdiBpZD0iaHRtbF85M2Q2ZjdjZTFjMmM0NjQwYjQ5Yzc3Y2E2OTFhMDBjZiIgc3R5bGU9IndpZHRoOiAxMDAuMCU7IGhlaWdodDogMTAwLjAlOyI+N1RIIFNULCBHYWxsZXJ5IFJvdywgRmFzaGlvbiBEaXN0cmljdCwgRG93bnRvd24gTG9zIEFuZ2VsZXM8L2Rpdj4nKVswXTsKICAgICAgICAgICAgICAgIHBvcHVwX2JkNDFhNDcwYTE2ZDRmNWY4YzM1ZjRlNmJiNGM5ODYwLnNldENvbnRlbnQoaHRtbF85M2Q2ZjdjZTFjMmM0NjQwYjQ5Yzc3Y2E2OTFhMDBjZik7CiAgICAgICAgICAgIAoKICAgICAgICAgICAgY2lyY2xlX21hcmtlcl82M2NlOTk1ZmJlNTc0OTUyOWFmNWZiODAxNzk5OGMxMy5iaW5kUG9wdXAocG9wdXBfYmQ0MWE0NzBhMTZkNGY1ZjhjMzVmNGU2YmI0Yzk4NjApOwoKICAgICAgICAgICAgCiAgICAgICAgCiAgICAKICAgICAgICAgICAgdmFyIGNpcmNsZV9tYXJrZXJfZmMxNTYyYTM2M2FlNGFiNzlkNWRkMGE0Nzg2OTNmMDUgPSBMLmNpcmNsZU1hcmtlcigKICAgICAgICAgICAgICAgIFszNC4wMzkzNjM2MjMyMTA3MywtMTE4LjI2NDc1ODQxNzczMV0sCiAgICAgICAgICAgICAgICB7CiAgImJ1YmJsaW5nTW91c2VFdmVudHMiOiB0cnVlLAogICJjb2xvciI6ICJibHVlIiwKICAiZGFzaEFycmF5IjogbnVsbCwKICAiZGFzaE9mZnNldCI6IG51bGwsCiAgImZpbGwiOiB0cnVlLAogICJmaWxsQ29sb3IiOiAiIzMxODZjYyIsCiAgImZpbGxPcGFjaXR5IjogMC43LAogICJmaWxsUnVsZSI6ICJldmVub2RkIiwKICAibGluZUNhcCI6ICJyb3VuZCIsCiAgImxpbmVKb2luIjogInJvdW5kIiwKICAib3BhY2l0eSI6IDEuMCwKICAicmFkaXVzIjogNSwKICAic3Ryb2tlIjogdHJ1ZSwKICAid2VpZ2h0IjogMwp9CiAgICAgICAgICAgICAgICApLmFkZFRvKG1hcF9jZmRkYTM1NDRmODY0NGQ5OGQwZWRjMDZkZmY4YTcwZCk7CiAgICAgICAgICAgIAogICAgCiAgICAgICAgICAgIHZhciBwb3B1cF9kOWE3MGQ5NmI4MzU0MDUyYWI3NTEyYTljZmQ4NzNkOCA9IEwucG9wdXAoe21heFdpZHRoOiAnMzAwJ30pOwoKICAgICAgICAgICAgCiAgICAgICAgICAgICAgICB2YXIgaHRtbF85NzAxNjZlNzM0NGM0MzUzYjRjMzdkNDNhZDY2NTMyYyA9ICQoJzxkaXYgaWQ9Imh0bWxfOTcwMTY2ZTczNDRjNDM1M2I0YzM3ZDQzYWQ2NjUzMmMiIHN0eWxlPSJ3aWR0aDogMTAwLjAlOyBoZWlnaHQ6IDEwMC4wJTsiPlBJQ08gQkxWRCwgU291dGggcGFyaywgRG93bnRvd24gTG9zIEFuZ2VsZXM8L2Rpdj4nKVswXTsKICAgICAgICAgICAgICAgIHBvcHVwX2Q5YTcwZDk2YjgzNTQwNTJhYjc1MTJhOWNmZDg3M2Q4LnNldENvbnRlbnQoaHRtbF85NzAxNjZlNzM0NGM0MzUzYjRjMzdkNDNhZDY2NTMyYyk7CiAgICAgICAgICAgIAoKICAgICAgICAgICAgY2lyY2xlX21hcmtlcl9mYzE1NjJhMzYzYWU0YWI3OWQ1ZGQwYTQ3ODY5M2YwNS5iaW5kUG9wdXAocG9wdXBfZDlhNzBkOTZiODM1NDA1MmFiNzUxMmE5Y2ZkODczZDgpOwoKICAgICAgICAgICAgCiAgICAgICAgCiAgICAKICAgICAgICAgICAgdmFyIGNpcmNsZV9tYXJrZXJfZDkyYzQ5YjJmZjk3NDgyZGFjZjcyOGNiOTMxMmI4YzAgPSBMLmNpcmNsZU1hcmtlcigKICAgICAgICAgICAgICAgIFszNC4wMzAxMjUxNDY4NzY4NCwtMTE4LjM1Mjc2NDI5MTAxODc0XSwKICAgICAgICAgICAgICAgIHsKICAiYnViYmxpbmdNb3VzZUV2ZW50cyI6IHRydWUsCiAgImNvbG9yIjogImJsdWUiLAogICJkYXNoQXJyYXkiOiBudWxsLAogICJkYXNoT2Zmc2V0IjogbnVsbCwKICAiZmlsbCI6IHRydWUsCiAgImZpbGxDb2xvciI6ICIjMzE4NmNjIiwKICAiZmlsbE9wYWNpdHkiOiAwLjcsCiAgImZpbGxSdWxlIjogImV2ZW5vZGQiLAogICJsaW5lQ2FwIjogInJvdW5kIiwKICAibGluZUpvaW4iOiAicm91bmQiLAogICJvcGFjaXR5IjogMS4wLAogICJyYWRpdXMiOiA1LAogICJzdHJva2UiOiB0cnVlLAogICJ3ZWlnaHQiOiAzCn0KICAgICAgICAgICAgICAgICkuYWRkVG8obWFwX2NmZGRhMzU0NGY4NjQ0ZDk4ZDBlZGMwNmRmZjhhNzBkKTsKICAgICAgICAgICAgCiAgICAKICAgICAgICAgICAgdmFyIHBvcHVwX2ZmM2NmNWRmYWNhYzQxYWViOTI0YmI5Njc4YzEzODI3ID0gTC5wb3B1cCh7bWF4V2lkdGg6ICczMDAnfSk7CgogICAgICAgICAgICAKICAgICAgICAgICAgICAgIHZhciBodG1sX2NhN2NmOTViZGZkNDQ5ZDlhYTQzYTYyNmNjZTlhZTU1ID0gJCgnPGRpdiBpZD0iaHRtbF9jYTdjZjk1YmRmZDQ0OWQ5YWE0M2E2MjZjY2U5YWU1NSIgc3R5bGU9IndpZHRoOiAxMDAuMCU7IGhlaWdodDogMTAwLjAlOyI+QURBTVMgQkxWRCwgV2VzdCBBZGFtczwvZGl2PicpWzBdOwogICAgICAgICAgICAgICAgcG9wdXBfZmYzY2Y1ZGZhY2FjNDFhZWI5MjRiYjk2NzhjMTM4Mjcuc2V0Q29udGVudChodG1sX2NhN2NmOTViZGZkNDQ5ZDlhYTQzYTYyNmNjZTlhZTU1KTsKICAgICAgICAgICAgCgogICAgICAgICAgICBjaXJjbGVfbWFya2VyX2Q5MmM0OWIyZmY5NzQ4MmRhY2Y3MjhjYjkzMTJiOGMwLmJpbmRQb3B1cChwb3B1cF9mZjNjZjVkZmFjYWM0MWFlYjkyNGJiOTY3OGMxMzgyNyk7CgogICAgICAgICAgICAKICAgICAgICAKICAgIAogICAgICAgICAgICB2YXIgY2lyY2xlX21hcmtlcl8wYjZlZjc2MjlkNGU0ZDdmOWRkMWI4ZjQ1MzI4NmVjMyA9IEwuY2lyY2xlTWFya2VyKAogICAgICAgICAgICAgICAgWzM0LjA0ODU3MzU0NDI2MzcwNCwtMTE4LjM0MDQ3NTAwMzk3ODEzXSwKICAgICAgICAgICAgICAgIHsKICAiYnViYmxpbmdNb3VzZUV2ZW50cyI6IHRydWUsCiAgImNvbG9yIjogImJsdWUiLAogICJkYXNoQXJyYXkiOiBudWxsLAogICJkYXNoT2Zmc2V0IjogbnVsbCwKICAiZmlsbCI6IHRydWUsCiAgImZpbGxDb2xvciI6ICIjMzE4NmNjIiwKICAiZmlsbE9wYWNpdHkiOiAwLjcsCiAgImZpbGxSdWxlIjogImV2ZW5vZGQiLAogICJsaW5lQ2FwIjogInJvdW5kIiwKICAibGluZUpvaW4iOiAicm91bmQiLAogICJvcGFjaXR5IjogMS4wLAogICJyYWRpdXMiOiA1LAogICJzdHJva2UiOiB0cnVlLAogICJ3ZWlnaHQiOiAzCn0KICAgICAgICAgICAgICAgICkuYWRkVG8obWFwX2NmZGRhMzU0NGY4NjQ0ZDk4ZDBlZGMwNmRmZjhhNzBkKTsKICAgICAgICAgICAgCiAgICAKICAgICAgICAgICAgdmFyIHBvcHVwXzMyMTRiM2IzMmQ5MDQyOTViMGJkOTgwNTFiNGJhMzgzID0gTC5wb3B1cCh7bWF4V2lkdGg6ICczMDAnfSk7CgogICAgICAgICAgICAKICAgICAgICAgICAgICAgIHZhciBodG1sX2RiNDYyMGZkYmIxZDQyZThhNDI1OTQ1YTcyZWYwNjY3ID0gJCgnPGRpdiBpZD0iaHRtbF9kYjQ2MjBmZGJiMWQ0MmU4YTQyNTk0NWE3MmVmMDY2NyIgc3R5bGU9IndpZHRoOiAxMDAuMCU7IGhlaWdodDogMTAwLjAlOyI+UElDTyBCTFZELCBNaWQtV2lsc2hpcmU8L2Rpdj4nKVswXTsKICAgICAgICAgICAgICAgIHBvcHVwXzMyMTRiM2IzMmQ5MDQyOTViMGJkOTgwNTFiNGJhMzgzLnNldENvbnRlbnQoaHRtbF9kYjQ2MjBmZGJiMWQ0MmU4YTQyNTk0NWE3MmVmMDY2Nyk7CiAgICAgICAgICAgIAoKICAgICAgICAgICAgY2lyY2xlX21hcmtlcl8wYjZlZjc2MjlkNGU0ZDdmOWRkMWI4ZjQ1MzI4NmVjMy5iaW5kUG9wdXAocG9wdXBfMzIxNGIzYjMyZDkwNDI5NWIwYmQ5ODA1MWI0YmEzODMpOwoKICAgICAgICAgICAgCiAgICAgICAgCiAgICAKICAgICAgICAgICAgdmFyIGNpcmNsZV9tYXJrZXJfN2I3OTlhNWMyNzUzNDc4M2ExNGE4ZDBiYmRiZWQxZjAgPSBMLmNpcmNsZU1hcmtlcigKICAgICAgICAgICAgICAgIFszNC4wNjY0MjUwMjk3MjYzOSwtMTE4LjMwNjIwNzA1NzA3NDgzXSwKICAgICAgICAgICAgICAgIHsKICAiYnViYmxpbmdNb3VzZUV2ZW50cyI6IHRydWUsCiAgImNvbG9yIjogImJsdWUiLAogICJkYXNoQXJyYXkiOiBudWxsLAogICJkYXNoT2Zmc2V0IjogbnVsbCwKICAiZmlsbCI6IHRydWUsCiAgImZpbGxDb2xvciI6ICIjMzE4NmNjIiwKICAiZmlsbE9wYWNpdHkiOiAwLjcsCiAgImZpbGxSdWxlIjogImV2ZW5vZGQiLAogICJsaW5lQ2FwIjogInJvdW5kIiwKICAibGluZUpvaW4iOiAicm91bmQiLAogICJvcGFjaXR5IjogMS4wLAogICJyYWRpdXMiOiA1LAogICJzdHJva2UiOiB0cnVlLAogICJ3ZWlnaHQiOiAzCn0KICAgICAgICAgICAgICAgICkuYWRkVG8obWFwX2NmZGRhMzU0NGY4NjQ0ZDk4ZDBlZGMwNmRmZjhhNzBkKTsKICAgICAgICAgICAgCiAgICAKICAgICAgICAgICAgdmFyIHBvcHVwXzJiMDA5ODQyZjYzNjRmZjdiY2YzZTVmMTczYjM1YzkwID0gTC5wb3B1cCh7bWF4V2lkdGg6ICczMDAnfSk7CgogICAgICAgICAgICAKICAgICAgICAgICAgICAgIHZhciBodG1sXzgwNGI2NWJmYzM5MDQwMTY4ODhlZDdiYzdjYTBjNDU0ID0gJCgnPGRpdiBpZD0iaHRtbF84MDRiNjViZmMzOTA0MDE2ODg4ZWQ3YmM3Y2EwYzQ1NCIgc3R5bGU9IndpZHRoOiAxMDAuMCU7IGhlaWdodDogMTAwLjAlOyI+M1JEIFNULCBLb3JlYXRvd248L2Rpdj4nKVswXTsKICAgICAgICAgICAgICAgIHBvcHVwXzJiMDA5ODQyZjYzNjRmZjdiY2YzZTVmMTczYjM1YzkwLnNldENvbnRlbnQoaHRtbF84MDRiNjViZmMzOTA0MDE2ODg4ZWQ3YmM3Y2EwYzQ1NCk7CiAgICAgICAgICAgIAoKICAgICAgICAgICAgY2lyY2xlX21hcmtlcl83Yjc5OWE1YzI3NTM0NzgzYTE0YThkMGJiZGJlZDFmMC5iaW5kUG9wdXAocG9wdXBfMmIwMDk4NDJmNjM2NGZmN2JjZjNlNWYxNzNiMzVjOTApOwoKICAgICAgICAgICAgCiAgICAgICAgCiAgICAKICAgICAgICAgICAgdmFyIGNpcmNsZV9tYXJrZXJfYmFkYjExNDg1NzFiNDVkOWEyOWVmZjdlY2JlNDM2ODkgPSBMLmNpcmNsZU1hcmtlcigKICAgICAgICAgICAgICAgIFszNC4wMzA2NzE2NTMwMTIwOSwtMTE4LjI0MTgyODQxMTI0NDk0XSwKICAgICAgICAgICAgICAgIHsKICAiYnViYmxpbmdNb3VzZUV2ZW50cyI6IHRydWUsCiAgImNvbG9yIjogImJsdWUiLAogICJkYXNoQXJyYXkiOiBudWxsLAogICJkYXNoT2Zmc2V0IjogbnVsbCwKICAiZmlsbCI6IHRydWUsCiAgImZpbGxDb2xvciI6ICIjMzE4NmNjIiwKICAiZmlsbE9wYWNpdHkiOiAwLjcsCiAgImZpbGxSdWxlIjogImV2ZW5vZGQiLAogICJsaW5lQ2FwIjogInJvdW5kIiwKICAibGluZUpvaW4iOiAicm91bmQiLAogICJvcGFjaXR5IjogMS4wLAogICJyYWRpdXMiOiA1LAogICJzdHJva2UiOiB0cnVlLAogICJ3ZWlnaHQiOiAzCn0KICAgICAgICAgICAgICAgICkuYWRkVG8obWFwX2NmZGRhMzU0NGY4NjQ0ZDk4ZDBlZGMwNmRmZjhhNzBkKTsKICAgICAgICAgICAgCiAgICAKICAgICAgICAgICAgdmFyIHBvcHVwX2UxNDllNmQyNDI1NDQxMDI5MWVlNmIxMWYxZDcwZTZkID0gTC5wb3B1cCh7bWF4V2lkdGg6ICczMDAnfSk7CgogICAgICAgICAgICAKICAgICAgICAgICAgICAgIHZhciBodG1sX2M2Zjc5ZGRlODY4ODQ0MzRiZjJiYmNmZWVlYjkyY2M4ID0gJCgnPGRpdiBpZD0iaHRtbF9jNmY3OWRkZTg2ODg0NDM0YmYyYmJjZmVlZWI5MmNjOCIgc3R5bGU9IndpZHRoOiAxMDAuMCU7IGhlaWdodDogMTAwLjAlOyI+V0FTSElOR1RPTiBCTFZELCBXaG9sZXNhbGUgRGlzdHJpY3QsIERvd250b3duIExvcyBBbmdlbGVzPC9kaXY+JylbMF07CiAgICAgICAgICAgICAgICBwb3B1cF9lMTQ5ZTZkMjQyNTQ0MTAyOTFlZTZiMTFmMWQ3MGU2ZC5zZXRDb250ZW50KGh0bWxfYzZmNzlkZGU4Njg4NDQzNGJmMmJiY2ZlZWViOTJjYzgpOwogICAgICAgICAgICAKCiAgICAgICAgICAgIGNpcmNsZV9tYXJrZXJfYmFkYjExNDg1NzFiNDVkOWEyOWVmZjdlY2JlNDM2ODkuYmluZFBvcHVwKHBvcHVwX2UxNDllNmQyNDI1NDQxMDI5MWVlNmIxMWYxZDcwZTZkKTsKCiAgICAgICAgICAgIAogICAgICAgIAogICAgCiAgICAgICAgICAgIHZhciBjaXJjbGVfbWFya2VyXzllZjE4ZjUxODVmODRmNTc4ZTlhNWQwODVjNzMzMzE4ID0gTC5jaXJjbGVNYXJrZXIoCiAgICAgICAgICAgICAgICBbMzQuMDI1OTUyODc0MDc5NTMsLTExOC4yMDcwMzExMjA2Nzg5M10sCiAgICAgICAgICAgICAgICB7CiAgImJ1YmJsaW5nTW91c2VFdmVudHMiOiB0cnVlLAogICJjb2xvciI6ICJibHVlIiwKICAiZGFzaEFycmF5IjogbnVsbCwKICAiZGFzaE9mZnNldCI6IG51bGwsCiAgImZpbGwiOiB0cnVlLAogICJmaWxsQ29sb3IiOiAiIzMxODZjYyIsCiAgImZpbGxPcGFjaXR5IjogMC43LAogICJmaWxsUnVsZSI6ICJldmVub2RkIiwKICAibGluZUNhcCI6ICJyb3VuZCIsCiAgImxpbmVKb2luIjogInJvdW5kIiwKICAib3BhY2l0eSI6IDEuMCwKICAicmFkaXVzIjogNSwKICAic3Ryb2tlIjogdHJ1ZSwKICAid2VpZ2h0IjogMwp9CiAgICAgICAgICAgICAgICApLmFkZFRvKG1hcF9jZmRkYTM1NDRmODY0NGQ5OGQwZWRjMDZkZmY4YTcwZCk7CiAgICAgICAgICAgIAogICAgCiAgICAgICAgICAgIHZhciBwb3B1cF83ZmVjNWNjNDAzMWE0MjUxYjZkZTcxMDM3M2Y5YmNjOSA9IEwucG9wdXAoe21heFdpZHRoOiAnMzAwJ30pOwoKICAgICAgICAgICAgCiAgICAgICAgICAgICAgICB2YXIgaHRtbF8xODVhMTFmMTU1Njg0ZTE5YWI3NDlmNjc2MDc1ZjBhYyA9ICQoJzxkaXYgaWQ9Imh0bWxfMTg1YTExZjE1NTY4NGUxOWFiNzQ5ZjY3NjA3NWYwYWMiIHN0eWxlPSJ3aWR0aDogMTAwLjAlOyBoZWlnaHQ6IDEwMC4wJTsiPldISVRUSUVSIEJMVkQsIEJveWxlIEhlaWdodHM8L2Rpdj4nKVswXTsKICAgICAgICAgICAgICAgIHBvcHVwXzdmZWM1Y2M0MDMxYTQyNTFiNmRlNzEwMzczZjliY2M5LnNldENvbnRlbnQoaHRtbF8xODVhMTFmMTU1Njg0ZTE5YWI3NDlmNjc2MDc1ZjBhYyk7CiAgICAgICAgICAgIAoKICAgICAgICAgICAgY2lyY2xlX21hcmtlcl85ZWYxOGY1MTg1Zjg0ZjU3OGU5YTVkMDg1YzczMzMxOC5iaW5kUG9wdXAocG9wdXBfN2ZlYzVjYzQwMzFhNDI1MWI2ZGU3MTAzNzNmOWJjYzkpOwoKICAgICAgICAgICAgCiAgICAgICAgCiAgICAKICAgICAgICAgICAgdmFyIGNpcmNsZV9tYXJrZXJfZWY2OWIxOGY0M2IxNDI3M2I4MzYxYTQ5ZGRlMWUwMDAgPSBMLmNpcmNsZU1hcmtlcigKICAgICAgICAgICAgICAgIFszNC4wNjE2MjM3MTc0NTIzNywtMTE4LjQzNzMyOTE5NDIyOTM1XSwKICAgICAgICAgICAgICAgIHsKICAiYnViYmxpbmdNb3VzZUV2ZW50cyI6IHRydWUsCiAgImNvbG9yIjogImJsdWUiLAogICJkYXNoQXJyYXkiOiBudWxsLAogICJkYXNoT2Zmc2V0IjogbnVsbCwKICAiZmlsbCI6IHRydWUsCiAgImZpbGxDb2xvciI6ICIjMzE4NmNjIiwKICAiZmlsbE9wYWNpdHkiOiAwLjcsCiAgImZpbGxSdWxlIjogImV2ZW5vZGQiLAogICJsaW5lQ2FwIjogInJvdW5kIiwKICAibGluZUpvaW4iOiAicm91bmQiLAogICJvcGFjaXR5IjogMS4wLAogICJyYWRpdXMiOiA1LAogICJzdHJva2UiOiB0cnVlLAogICJ3ZWlnaHQiOiAzCn0KICAgICAgICAgICAgICAgICkuYWRkVG8obWFwX2NmZGRhMzU0NGY4NjQ0ZDk4ZDBlZGMwNmRmZjhhNzBkKTsKICAgICAgICAgICAgCiAgICAKICAgICAgICAgICAgdmFyIHBvcHVwXzJhMWFiOGEzMWQyNzQzN2I5M2QyMDdkNjBiMjNkZmIwID0gTC5wb3B1cCh7bWF4V2lkdGg6ICczMDAnfSk7CgogICAgICAgICAgICAKICAgICAgICAgICAgICAgIHZhciBodG1sXzU1Njc5Y2FjNGQyZTQwMzJhMjA3MjZhYTc2NDQ2NjIwID0gJCgnPGRpdiBpZD0iaHRtbF81NTY3OWNhYzRkMmU0MDMyYTIwNzI2YWE3NjQ0NjYyMCIgc3R5bGU9IndpZHRoOiAxMDAuMCU7IGhlaWdodDogMTAwLjAlOyI+V0VTVFdPT0QgQkxWRCwgV2VzdHdvb2Q8L2Rpdj4nKVswXTsKICAgICAgICAgICAgICAgIHBvcHVwXzJhMWFiOGEzMWQyNzQzN2I5M2QyMDdkNjBiMjNkZmIwLnNldENvbnRlbnQoaHRtbF81NTY3OWNhYzRkMmU0MDMyYTIwNzI2YWE3NjQ0NjYyMCk7CiAgICAgICAgICAgIAoKICAgICAgICAgICAgY2lyY2xlX21hcmtlcl9lZjY5YjE4ZjQzYjE0MjczYjgzNjFhNDlkZGUxZTAwMC5iaW5kUG9wdXAocG9wdXBfMmExYWI4YTMxZDI3NDM3YjkzZDIwN2Q2MGIyM2RmYjApOwoKICAgICAgICAgICAgCiAgICAgICAgCiAgICAKICAgICAgICAgICAgdmFyIGNpcmNsZV9tYXJrZXJfOTFlNDUwOGNjNWZkNDA4YThkYWM2MDkzM2NjMzUwYzIgPSBMLmNpcmNsZU1hcmtlcigKICAgICAgICAgICAgICAgIFszNC4wNDUwNjE1MDkzNjE5MzYsLTExOC40NDQ0NTI5MzQ2NTc2NV0sCiAgICAgICAgICAgICAgICB7CiAgImJ1YmJsaW5nTW91c2VFdmVudHMiOiB0cnVlLAogICJjb2xvciI6ICJibHVlIiwKICAiZGFzaEFycmF5IjogbnVsbCwKICAiZGFzaE9mZnNldCI6IG51bGwsCiAgImZpbGwiOiB0cnVlLAogICJmaWxsQ29sb3IiOiAiIzMxODZjYyIsCiAgImZpbGxPcGFjaXR5IjogMC43LAogICJmaWxsUnVsZSI6ICJldmVub2RkIiwKICAibGluZUNhcCI6ICJyb3VuZCIsCiAgImxpbmVKb2luIjogInJvdW5kIiwKICAib3BhY2l0eSI6IDEuMCwKICAicmFkaXVzIjogNSwKICAic3Ryb2tlIjogdHJ1ZSwKICAid2VpZ2h0IjogMwp9CiAgICAgICAgICAgICAgICApLmFkZFRvKG1hcF9jZmRkYTM1NDRmODY0NGQ5OGQwZWRjMDZkZmY4YTcwZCk7CiAgICAgICAgICAgIAogICAgCiAgICAgICAgICAgIHZhciBwb3B1cF8wZDQyNWZhMTM0NzI0N2MwYWQyNGRkNTIwZTMzZDU3MSA9IEwucG9wdXAoe21heFdpZHRoOiAnMzAwJ30pOwoKICAgICAgICAgICAgCiAgICAgICAgICAgICAgICB2YXIgaHRtbF9jMTAwMjAyNDE2OTk0OTI5OWQ5ZTAxNDU2ODMyMmJlZiA9ICQoJzxkaXYgaWQ9Imh0bWxfYzEwMDIwMjQxNjk5NDkyOTlkOWUwMTQ1NjgzMjJiZWYiIHN0eWxlPSJ3aWR0aDogMTAwLjAlOyBoZWlnaHQ6IDEwMC4wJTsiPlNBTlRBIE1PTklDQSBCTFZELCBXZXN0IExvcyBBbmdlbGVzPC9kaXY+JylbMF07CiAgICAgICAgICAgICAgICBwb3B1cF8wZDQyNWZhMTM0NzI0N2MwYWQyNGRkNTIwZTMzZDU3MS5zZXRDb250ZW50KGh0bWxfYzEwMDIwMjQxNjk5NDkyOTlkOWUwMTQ1NjgzMjJiZWYpOwogICAgICAgICAgICAKCiAgICAgICAgICAgIGNpcmNsZV9tYXJrZXJfOTFlNDUwOGNjNWZkNDA4YThkYWM2MDkzM2NjMzUwYzIuYmluZFBvcHVwKHBvcHVwXzBkNDI1ZmExMzQ3MjQ3YzBhZDI0ZGQ1MjBlMzNkNTcxKTsKCiAgICAgICAgICAgIAogICAgICAgIAogICAgCiAgICAgICAgICAgIHZhciBjaXJjbGVfbWFya2VyX2U0NzE4Y2ZlNmRhYTQ5ZjJhZDRiNzFkMTk4MWQxM2MyID0gTC5jaXJjbGVNYXJrZXIoCiAgICAgICAgICAgICAgICBbMzQuMDc4NTE1MzUxNTA3MTYsLTExOC4yNjQ4OTg1OTc3NTEwNl0sCiAgICAgICAgICAgICAgICB7CiAgImJ1YmJsaW5nTW91c2VFdmVudHMiOiB0cnVlLAogICJjb2xvciI6ICJibHVlIiwKICAiZGFzaEFycmF5IjogbnVsbCwKICAiZGFzaE9mZnNldCI6IG51bGwsCiAgImZpbGwiOiB0cnVlLAogICJmaWxsQ29sb3IiOiAiIzMxODZjYyIsCiAgImZpbGxPcGFjaXR5IjogMC43LAogICJmaWxsUnVsZSI6ICJldmVub2RkIiwKICAibGluZUNhcCI6ICJyb3VuZCIsCiAgImxpbmVKb2luIjogInJvdW5kIiwKICAib3BhY2l0eSI6IDEuMCwKICAicmFkaXVzIjogNSwKICAic3Ryb2tlIjogdHJ1ZSwKICAid2VpZ2h0IjogMwp9CiAgICAgICAgICAgICAgICApLmFkZFRvKG1hcF9jZmRkYTM1NDRmODY0NGQ5OGQwZWRjMDZkZmY4YTcwZCk7CiAgICAgICAgICAgIAogICAgCiAgICAgICAgICAgIHZhciBwb3B1cF9jMjY3OWM1OTFiZjg0MzRmYWMwYmI4OTUxZTc1M2E2MiA9IEwucG9wdXAoe21heFdpZHRoOiAnMzAwJ30pOwoKICAgICAgICAgICAgCiAgICAgICAgICAgICAgICB2YXIgaHRtbF9mZjY5OTZjOTg2MWM0MWJiODViYTY1MTVjZTQ5Y2E3NSA9ICQoJzxkaXYgaWQ9Imh0bWxfZmY2OTk2Yzk4NjFjNDFiYjg1YmE2NTE1Y2U0OWNhNzUiIHN0eWxlPSJ3aWR0aDogMTAwLjAlOyBoZWlnaHQ6IDEwMC4wJTsiPlNVTlNFVCBCTFZELCBFY2hvIFBhcms8L2Rpdj4nKVswXTsKICAgICAgICAgICAgICAgIHBvcHVwX2MyNjc5YzU5MWJmODQzNGZhYzBiYjg5NTFlNzUzYTYyLnNldENvbnRlbnQoaHRtbF9mZjY5OTZjOTg2MWM0MWJiODViYTY1MTVjZTQ5Y2E3NSk7CiAgICAgICAgICAgIAoKICAgICAgICAgICAgY2lyY2xlX21hcmtlcl9lNDcxOGNmZTZkYWE0OWYyYWQ0YjcxZDE5ODFkMTNjMi5iaW5kUG9wdXAocG9wdXBfYzI2NzljNTkxYmY4NDM0ZmFjMGJiODk1MWU3NTNhNjIpOwoKICAgICAgICAgICAgCiAgICAgICAgCiAgICAKICAgICAgICAgICAgdmFyIGNpcmNsZV9tYXJrZXJfMzU3YTI1NTNlM2I4NDhhNTk5MzM4ZDNkMTA4M2ExMGYgPSBMLmNpcmNsZU1hcmtlcigKICAgICAgICAgICAgICAgIFszNC4xMDUyMjUxMTAwNDA3MDYsLTExOC4yODk1OTgwMzU1Njg4N10sCiAgICAgICAgICAgICAgICB7CiAgImJ1YmJsaW5nTW91c2VFdmVudHMiOiB0cnVlLAogICJjb2xvciI6ICJibHVlIiwKICAiZGFzaEFycmF5IjogbnVsbCwKICAiZGFzaE9mZnNldCI6IG51bGwsCiAgImZpbGwiOiB0cnVlLAogICJmaWxsQ29sb3IiOiAiIzMxODZjYyIsCiAgImZpbGxPcGFjaXR5IjogMC43LAogICJmaWxsUnVsZSI6ICJldmVub2RkIiwKICAibGluZUNhcCI6ICJyb3VuZCIsCiAgImxpbmVKb2luIjogInJvdW5kIiwKICAib3BhY2l0eSI6IDEuMCwKICAicmFkaXVzIjogNSwKICAic3Ryb2tlIjogdHJ1ZSwKICAid2VpZ2h0IjogMwp9CiAgICAgICAgICAgICAgICApLmFkZFRvKG1hcF9jZmRkYTM1NDRmODY0NGQ5OGQwZWRjMDZkZmY4YTcwZCk7CiAgICAgICAgICAgIAogICAgCiAgICAgICAgICAgIHZhciBwb3B1cF8zMGM5OTAzNjYwNGU0ZjU4ODg1NzExMWI1NjU1Nzc5YiA9IEwucG9wdXAoe21heFdpZHRoOiAnMzAwJ30pOwoKICAgICAgICAgICAgCiAgICAgICAgICAgICAgICB2YXIgaHRtbF9iNjA4ZmUwYjRkZDk0OTU1YTNlMjVhMTM3ZDhjZmRjZCA9ICQoJzxkaXYgaWQ9Imh0bWxfYjYwOGZlMGI0ZGQ5NDk1NWEzZTI1YTEzN2Q4Y2ZkY2QiIHN0eWxlPSJ3aWR0aDogMTAwLjAlOyBoZWlnaHQ6IDEwMC4wJTsiPkxPUyBGRUxJWiBCTFZELCBHcmlmZml0aCBQYXJrPC9kaXY+JylbMF07CiAgICAgICAgICAgICAgICBwb3B1cF8zMGM5OTAzNjYwNGU0ZjU4ODg1NzExMWI1NjU1Nzc5Yi5zZXRDb250ZW50KGh0bWxfYjYwOGZlMGI0ZGQ5NDk1NWEzZTI1YTEzN2Q4Y2ZkY2QpOwogICAgICAgICAgICAKCiAgICAgICAgICAgIGNpcmNsZV9tYXJrZXJfMzU3YTI1NTNlM2I4NDhhNTk5MzM4ZDNkMTA4M2ExMGYuYmluZFBvcHVwKHBvcHVwXzMwYzk5MDM2NjA0ZTRmNTg4ODU3MTExYjU2NTU3NzliKTsKCiAgICAgICAgICAgIAogICAgICAgIAogICAgCiAgICAgICAgICAgIHZhciBjaXJjbGVfbWFya2VyX2JkOTJiOWUzYmIzZDRjMWJiNzRiNjgxNGYwNGQ2ZjZjID0gTC5jaXJjbGVNYXJrZXIoCiAgICAgICAgICAgICAgICBbMzQuMDg5OTI5OTY1MjE1MTcsLTExOC4yOTQxMjc0NzM5MTEzN10sCiAgICAgICAgICAgICAgICB7CiAgImJ1YmJsaW5nTW91c2VFdmVudHMiOiB0cnVlLAogICJjb2xvciI6ICJibHVlIiwKICAiZGFzaEFycmF5IjogbnVsbCwKICAiZGFzaE9mZnNldCI6IG51bGwsCiAgImZpbGwiOiB0cnVlLAogICJmaWxsQ29sb3IiOiAiIzMxODZjYyIsCiAgImZpbGxPcGFjaXR5IjogMC43LAogICJmaWxsUnVsZSI6ICJldmVub2RkIiwKICAibGluZUNhcCI6ICJyb3VuZCIsCiAgImxpbmVKb2luIjogInJvdW5kIiwKICAib3BhY2l0eSI6IDEuMCwKICAicmFkaXVzIjogNSwKICAic3Ryb2tlIjogdHJ1ZSwKICAid2VpZ2h0IjogMwp9CiAgICAgICAgICAgICAgICApLmFkZFRvKG1hcF9jZmRkYTM1NDRmODY0NGQ5OGQwZWRjMDZkZmY4YTcwZCk7CiAgICAgICAgICAgIAogICAgCiAgICAgICAgICAgIHZhciBwb3B1cF9kYzc2ZjcxMmViOWM0YTVjYjNlM2Q3MGVkNDdjZWI3YSA9IEwucG9wdXAoe21heFdpZHRoOiAnMzAwJ30pOwoKICAgICAgICAgICAgCiAgICAgICAgICAgICAgICB2YXIgaHRtbF8wZmFlMmRhNzY1Zjc0NmEwODkyY2NmODU0MjVmNDZjNiA9ICQoJzxkaXYgaWQ9Imh0bWxfMGZhZTJkYTc2NWY3NDZhMDg5MmNjZjg1NDI1ZjQ2YzYiIHN0eWxlPSJ3aWR0aDogMTAwLjAlOyBoZWlnaHQ6IDEwMC4wJTsiPkZPVU5UQUlOIEFWRSwgRWFzdCBIb2xseXdvb2Q8L2Rpdj4nKVswXTsKICAgICAgICAgICAgICAgIHBvcHVwX2RjNzZmNzEyZWI5YzRhNWNiM2UzZDcwZWQ0N2NlYjdhLnNldENvbnRlbnQoaHRtbF8wZmFlMmRhNzY1Zjc0NmEwODkyY2NmODU0MjVmNDZjNik7CiAgICAgICAgICAgIAoKICAgICAgICAgICAgY2lyY2xlX21hcmtlcl9iZDkyYjllM2JiM2Q0YzFiYjc0YjY4MTRmMDRkNmY2Yy5iaW5kUG9wdXAocG9wdXBfZGM3NmY3MTJlYjljNGE1Y2IzZTNkNzBlZDQ3Y2ViN2EpOwoKICAgICAgICAgICAgCiAgICAgICAgCiAgICAKICAgICAgICAgICAgdmFyIGNpcmNsZV9tYXJrZXJfYjkxNGU0NjExN2ZjNDVkZmIyNmQ2NWQ5NzRhM2JlMTkgPSBMLmNpcmNsZU1hcmtlcigKICAgICAgICAgICAgICAgIFszNC4wNzg4ODk3NjA3OTQ0NCwtMTE4LjIxMjA4ODc4NDk3MzY3XSwKICAgICAgICAgICAgICAgIHsKICAiYnViYmxpbmdNb3VzZUV2ZW50cyI6IHRydWUsCiAgImNvbG9yIjogImJsdWUiLAogICJkYXNoQXJyYXkiOiBudWxsLAogICJkYXNoT2Zmc2V0IjogbnVsbCwKICAiZmlsbCI6IHRydWUsCiAgImZpbGxDb2xvciI6ICIjMzE4NmNjIiwKICAiZmlsbE9wYWNpdHkiOiAwLjcsCiAgImZpbGxSdWxlIjogImV2ZW5vZGQiLAogICJsaW5lQ2FwIjogInJvdW5kIiwKICAibGluZUpvaW4iOiAicm91bmQiLAogICJvcGFjaXR5IjogMS4wLAogICJyYWRpdXMiOiA1LAogICJzdHJva2UiOiB0cnVlLAogICJ3ZWlnaHQiOiAzCn0KICAgICAgICAgICAgICAgICkuYWRkVG8obWFwX2NmZGRhMzU0NGY4NjQ0ZDk4ZDBlZGMwNmRmZjhhNzBkKTsKICAgICAgICAgICAgCiAgICAKICAgICAgICAgICAgdmFyIHBvcHVwXzAwZmQ1MzRjYjQ1MzRmMGI5OGRhYzJkNWQ3YWZjYTk5ID0gTC5wb3B1cCh7bWF4V2lkdGg6ICczMDAnfSk7CgogICAgICAgICAgICAKICAgICAgICAgICAgICAgIHZhciBodG1sXzZjZDMzYzQ2YTNiZjQ0MmM5YjYwNWY0YWY4NWVjNTBlID0gJCgnPGRpdiBpZD0iaHRtbF82Y2QzM2M0NmEzYmY0NDJjOWI2MDVmNGFmODVlYzUwZSIgc3R5bGU9IndpZHRoOiAxMDAuMCU7IGhlaWdodDogMTAwLjAlOyI+R1JJRkZJTiBBVkUsIExpbmNvbG4gSGVpZ2h0cywgTm9ydGhlYXN0IExvcyBBbmdlbGVzPC9kaXY+JylbMF07CiAgICAgICAgICAgICAgICBwb3B1cF8wMGZkNTM0Y2I0NTM0ZjBiOThkYWMyZDVkN2FmY2E5OS5zZXRDb250ZW50KGh0bWxfNmNkMzNjNDZhM2JmNDQyYzliNjA1ZjRhZjg1ZWM1MGUpOwogICAgICAgICAgICAKCiAgICAgICAgICAgIGNpcmNsZV9tYXJrZXJfYjkxNGU0NjExN2ZjNDVkZmIyNmQ2NWQ5NzRhM2JlMTkuYmluZFBvcHVwKHBvcHVwXzAwZmQ1MzRjYjQ1MzRmMGI5OGRhYzJkNWQ3YWZjYTk5KTsKCiAgICAgICAgICAgIAogICAgICAgIAogICAgCiAgICAgICAgICAgIHZhciBjaXJjbGVfbWFya2VyXzMwNWNjOTIzNWE2ODRhYWNhMTY4ZjlkODJhNDI0YjFlID0gTC5jaXJjbGVNYXJrZXIoCiAgICAgICAgICAgICAgICBbMzQuMDgxODE5OTczNTI0NTgsLTExOC4xNzc1OTc5OTY5MDA0Ml0sCiAgICAgICAgICAgICAgICB7CiAgImJ1YmJsaW5nTW91c2VFdmVudHMiOiB0cnVlLAogICJjb2xvciI6ICJibHVlIiwKICAiZGFzaEFycmF5IjogbnVsbCwKICAiZGFzaE9mZnNldCI6IG51bGwsCiAgImZpbGwiOiB0cnVlLAogICJmaWxsQ29sb3IiOiAiIzMxODZjYyIsCiAgImZpbGxPcGFjaXR5IjogMC43LAogICJmaWxsUnVsZSI6ICJldmVub2RkIiwKICAibGluZUNhcCI6ICJyb3VuZCIsCiAgImxpbmVKb2luIjogInJvdW5kIiwKICAib3BhY2l0eSI6IDEuMCwKICAicmFkaXVzIjogNSwKICAic3Ryb2tlIjogdHJ1ZSwKICAid2VpZ2h0IjogMwp9CiAgICAgICAgICAgICAgICApLmFkZFRvKG1hcF9jZmRkYTM1NDRmODY0NGQ5OGQwZWRjMDZkZmY4YTcwZCk7CiAgICAgICAgICAgIAogICAgCiAgICAgICAgICAgIHZhciBwb3B1cF8yM2NkZjNlYWVjNDI0MjY1YmY5MTdhMDgwZTM1ZmQzOCA9IEwucG9wdXAoe21heFdpZHRoOiAnMzAwJ30pOwoKICAgICAgICAgICAgCiAgICAgICAgICAgICAgICB2YXIgaHRtbF8zM2I0ZjgzOTE1Yzg0N2IzYmIxMGRmOTQyN2RmMmJmYyA9ICQoJzxkaXYgaWQ9Imh0bWxfMzNiNGY4MzkxNWM4NDdiM2JiMTBkZjk0MjdkZjJiZmMiIHN0eWxlPSJ3aWR0aDogMTAwLjAlOyBoZWlnaHQ6IDEwMC4wJTsiPkhVTlRJTkdUT04gRFIsIEVsIFNlcmVubywgTm9ydGhlYXN0IExvcyBBbmdlbGVzPC9kaXY+JylbMF07CiAgICAgICAgICAgICAgICBwb3B1cF8yM2NkZjNlYWVjNDI0MjY1YmY5MTdhMDgwZTM1ZmQzOC5zZXRDb250ZW50KGh0bWxfMzNiNGY4MzkxNWM4NDdiM2JiMTBkZjk0MjdkZjJiZmMpOwogICAgICAgICAgICAKCiAgICAgICAgICAgIGNpcmNsZV9tYXJrZXJfMzA1Y2M5MjM1YTY4NGFhY2ExNjhmOWQ4MmE0MjRiMWUuYmluZFBvcHVwKHBvcHVwXzIzY2RmM2VhZWM0MjQyNjViZjkxN2EwODBlMzVmZDM4KTsKCiAgICAgICAgICAgIAogICAgICAgIAogICAgCiAgICAgICAgICAgIHZhciBjaXJjbGVfbWFya2VyXzAwMmVkYjc1NzAyZTRjMjY4ZmVmNjdhOTcyYmI5MWQwID0gTC5jaXJjbGVNYXJrZXIoCiAgICAgICAgICAgICAgICBbMzQuMDQ4ODE1Nzk0MDUxMiwtMTE4LjIwODc4ODY1MTkzOTc0XSwKICAgICAgICAgICAgICAgIHsKICAiYnViYmxpbmdNb3VzZUV2ZW50cyI6IHRydWUsCiAgImNvbG9yIjogImJsdWUiLAogICJkYXNoQXJyYXkiOiBudWxsLAogICJkYXNoT2Zmc2V0IjogbnVsbCwKICAiZmlsbCI6IHRydWUsCiAgImZpbGxDb2xvciI6ICIjMzE4NmNjIiwKICAiZmlsbE9wYWNpdHkiOiAwLjcsCiAgImZpbGxSdWxlIjogImV2ZW5vZGQiLAogICJsaW5lQ2FwIjogInJvdW5kIiwKICAibGluZUpvaW4iOiAicm91bmQiLAogICJvcGFjaXR5IjogMS4wLAogICJyYWRpdXMiOiA1LAogICJzdHJva2UiOiB0cnVlLAogICJ3ZWlnaHQiOiAzCn0KICAgICAgICAgICAgICAgICkuYWRkVG8obWFwX2NmZGRhMzU0NGY4NjQ0ZDk4ZDBlZGMwNmRmZjhhNzBkKTsKICAgICAgICAgICAgCiAgICAKICAgICAgICAgICAgdmFyIHBvcHVwXzQ0NzI0MjNjZThiNTQ1MTFiYTIxM2JkYjUyZTU1Y2YwID0gTC5wb3B1cCh7bWF4V2lkdGg6ICczMDAnfSk7CgogICAgICAgICAgICAKICAgICAgICAgICAgICAgIHZhciBodG1sX2IzOTNhZDJhYmIyMjRlZjc5YWEyNjc3ZTg5NDI5YTgwID0gJCgnPGRpdiBpZD0iaHRtbF9iMzkzYWQyYWJiMjI0ZWY3OWFhMjY3N2U4OTQyOWE4MCIgc3R5bGU9IndpZHRoOiAxMDAuMCU7IGhlaWdodDogMTAwLjAlOyI+Q0VTQVIgRSBDSEFWRVogQVZFLCBBcnJveW8gU2VjbywgQm95bGUgSGVpZ2h0czwvZGl2PicpWzBdOwogICAgICAgICAgICAgICAgcG9wdXBfNDQ3MjQyM2NlOGI1NDUxMWJhMjEzYmRiNTJlNTVjZjAuc2V0Q29udGVudChodG1sX2IzOTNhZDJhYmIyMjRlZjc5YWEyNjc3ZTg5NDI5YTgwKTsKICAgICAgICAgICAgCgogICAgICAgICAgICBjaXJjbGVfbWFya2VyXzAwMmVkYjc1NzAyZTRjMjY4ZmVmNjdhOTcyYmI5MWQwLmJpbmRQb3B1cChwb3B1cF80NDcyNDIzY2U4YjU0NTExYmEyMTNiZGI1MmU1NWNmMCk7CgogICAgICAgICAgICAKICAgICAgICAKICAgIAogICAgICAgICAgICB2YXIgY2lyY2xlX21hcmtlcl9mNTY2ZDUwODU2ZmU0MTIxYjZjNjY4NDY0OGJmNWE1NCA9IEwuY2lyY2xlTWFya2VyKAogICAgICAgICAgICAgICAgWzM0LjAzMDU1MjY3MDk0OTA4NSwtMTE4LjM5OTE2MTYyNzY0MjEyXSwKICAgICAgICAgICAgICAgIHsKICAiYnViYmxpbmdNb3VzZUV2ZW50cyI6IHRydWUsCiAgImNvbG9yIjogImJsdWUiLAogICJkYXNoQXJyYXkiOiBudWxsLAogICJkYXNoT2Zmc2V0IjogbnVsbCwKICAiZmlsbCI6IHRydWUsCiAgImZpbGxDb2xvciI6ICIjMzE4NmNjIiwKICAiZmlsbE9wYWNpdHkiOiAwLjcsCiAgImZpbGxSdWxlIjogImV2ZW5vZGQiLAogICJsaW5lQ2FwIjogInJvdW5kIiwKICAibGluZUpvaW4iOiAicm91bmQiLAogICJvcGFjaXR5IjogMS4wLAogICJyYWRpdXMiOiA1LAogICJzdHJva2UiOiB0cnVlLAogICJ3ZWlnaHQiOiAzCn0KICAgICAgICAgICAgICAgICkuYWRkVG8obWFwX2NmZGRhMzU0NGY4NjQ0ZDk4ZDBlZGMwNmRmZjhhNzBkKTsKICAgICAgICAgICAgCiAgICAKICAgICAgICAgICAgdmFyIHBvcHVwXzc1ZjhiMGI2YTBkYzQ2ODc5OWNiMDYyZjIzYTgyMTA4ID0gTC5wb3B1cCh7bWF4V2lkdGg6ICczMDAnfSk7CgogICAgICAgICAgICAKICAgICAgICAgICAgICAgIHZhciBodG1sX2JjNWFkZjkyYTdlODQwZTk5ZDk0ZTI1YzdkYjY4OWM4ID0gJCgnPGRpdiBpZD0iaHRtbF9iYzVhZGY5MmE3ZTg0MGU5OWQ5NGUyNWM3ZGI2ODljOCIgc3R5bGU9IndpZHRoOiAxMDAuMCU7IGhlaWdodDogMTAwLjAlOyI+VkVOSUNFIEJMVkQsIFBhbG1zPC9kaXY+JylbMF07CiAgICAgICAgICAgICAgICBwb3B1cF83NWY4YjBiNmEwZGM0Njg3OTljYjA2MmYyM2E4MjEwOC5zZXRDb250ZW50KGh0bWxfYmM1YWRmOTJhN2U4NDBlOTlkOTRlMjVjN2RiNjg5YzgpOwogICAgICAgICAgICAKCiAgICAgICAgICAgIGNpcmNsZV9tYXJrZXJfZjU2NmQ1MDg1NmZlNDEyMWI2YzY2ODQ2NDhiZjVhNTQuYmluZFBvcHVwKHBvcHVwXzc1ZjhiMGI2YTBkYzQ2ODc5OWNiMDYyZjIzYTgyMTA4KTsKCiAgICAgICAgICAgIAogICAgICAgIAogICAgCiAgICAgICAgICAgIHZhciBjaXJjbGVfbWFya2VyXzM4NTMwNTRiMzE2YTQ3NzJhZTBlOGQ2MDBmZTBjNDlkID0gTC5jaXJjbGVNYXJrZXIoCiAgICAgICAgICAgICAgICBbMzQuMDUyNjQ4NTMwODg4OTQsLTExOC4zODI1MTMzMTI0MDU5NV0sCiAgICAgICAgICAgICAgICB7CiAgImJ1YmJsaW5nTW91c2VFdmVudHMiOiB0cnVlLAogICJjb2xvciI6ICJibHVlIiwKICAiZGFzaEFycmF5IjogbnVsbCwKICAiZGFzaE9mZnNldCI6IG51bGwsCiAgImZpbGwiOiB0cnVlLAogICJmaWxsQ29sb3IiOiAiIzMxODZjYyIsCiAgImZpbGxPcGFjaXR5IjogMC43LAogICJmaWxsUnVsZSI6ICJldmVub2RkIiwKICAibGluZUNhcCI6ICJyb3VuZCIsCiAgImxpbmVKb2luIjogInJvdW5kIiwKICAib3BhY2l0eSI6IDEuMCwKICAicmFkaXVzIjogNSwKICAic3Ryb2tlIjogdHJ1ZSwKICAid2VpZ2h0IjogMwp9CiAgICAgICAgICAgICAgICApLmFkZFRvKG1hcF9jZmRkYTM1NDRmODY0NGQ5OGQwZWRjMDZkZmY4YTcwZCk7CiAgICAgICAgICAgIAogICAgCiAgICAgICAgICAgIHZhciBwb3B1cF9lMzg1YmQ3MGZjMzA0ZmI3OTE4MDI3Y2Q5YjA2OGE0ZCA9IEwucG9wdXAoe21heFdpZHRoOiAnMzAwJ30pOwoKICAgICAgICAgICAgCiAgICAgICAgICAgICAgICB2YXIgaHRtbF9mYjNhMzZlMDU5NTY0NjU2YmUzMTg4ZDRjNzRkMjdiOCA9ICQoJzxkaXYgaWQ9Imh0bWxfZmIzYTM2ZTA1OTU2NDY1NmJlMzE4OGQ0Yzc0ZDI3YjgiIHN0eWxlPSJ3aWR0aDogMTAwLjAlOyBoZWlnaHQ6IDEwMC4wJTsiPlBJQ08gQkxWRCwgV2VzdCBMb3MgQW5nZWxlczwvZGl2PicpWzBdOwogICAgICAgICAgICAgICAgcG9wdXBfZTM4NWJkNzBmYzMwNGZiNzkxODAyN2NkOWIwNjhhNGQuc2V0Q29udGVudChodG1sX2ZiM2EzNmUwNTk1NjQ2NTZiZTMxODhkNGM3NGQyN2I4KTsKICAgICAgICAgICAgCgogICAgICAgICAgICBjaXJjbGVfbWFya2VyXzM4NTMwNTRiMzE2YTQ3NzJhZTBlOGQ2MDBmZTBjNDlkLmJpbmRQb3B1cChwb3B1cF9lMzg1YmQ3MGZjMzA0ZmI3OTE4MDI3Y2Q5YjA2OGE0ZCk7CgogICAgICAgICAgICAKICAgICAgICAKICAgIAogICAgICAgICAgICB2YXIgY2lyY2xlX21hcmtlcl9iOWM5Yzc4MzE1YmE0NDczOWJiM2RiYTIyMTFhOWViZiA9IEwuY2lyY2xlTWFya2VyKAogICAgICAgICAgICAgICAgWzM0LjA3MTMwMDU4NjAyNDcxLC0xMTguMzQ5ODAwNzgyMDQzMl0sCiAgICAgICAgICAgICAgICB7CiAgImJ1YmJsaW5nTW91c2VFdmVudHMiOiB0cnVlLAogICJjb2xvciI6ICJibHVlIiwKICAiZGFzaEFycmF5IjogbnVsbCwKICAiZGFzaE9mZnNldCI6IG51bGwsCiAgImZpbGwiOiB0cnVlLAogICJmaWxsQ29sb3IiOiAiIzMxODZjYyIsCiAgImZpbGxPcGFjaXR5IjogMC43LAogICJmaWxsUnVsZSI6ICJldmVub2RkIiwKICAibGluZUNhcCI6ICJyb3VuZCIsCiAgImxpbmVKb2luIjogInJvdW5kIiwKICAib3BhY2l0eSI6IDEuMCwKICAicmFkaXVzIjogNSwKICAic3Ryb2tlIjogdHJ1ZSwKICAid2VpZ2h0IjogMwp9CiAgICAgICAgICAgICAgICApLmFkZFRvKG1hcF9jZmRkYTM1NDRmODY0NGQ5OGQwZWRjMDZkZmY4YTcwZCk7CiAgICAgICAgICAgIAogICAgCiAgICAgICAgICAgIHZhciBwb3B1cF9kZTE1MjM1NWE4MDY0NTAzODhlZmY3MzBmZWRjZTJjZiA9IEwucG9wdXAoe21heFdpZHRoOiAnMzAwJ30pOwoKICAgICAgICAgICAgCiAgICAgICAgICAgICAgICB2YXIgaHRtbF8xZjRjNTUzNjBkMmQ0NjBkOWY3NzBiMjE5MGQ0ZmFlNSA9ICQoJzxkaXYgaWQ9Imh0bWxfMWY0YzU1MzYwZDJkNDYwZDlmNzcwYjIxOTBkNGZhZTUiIHN0eWxlPSJ3aWR0aDogMTAwLjAlOyBoZWlnaHQ6IDEwMC4wJTsiPlNZQ0FNT1JFIEFWRSwgTWlkLVdpbHNoaXJlPC9kaXY+JylbMF07CiAgICAgICAgICAgICAgICBwb3B1cF9kZTE1MjM1NWE4MDY0NTAzODhlZmY3MzBmZWRjZTJjZi5zZXRDb250ZW50KGh0bWxfMWY0YzU1MzYwZDJkNDYwZDlmNzcwYjIxOTBkNGZhZTUpOwogICAgICAgICAgICAKCiAgICAgICAgICAgIGNpcmNsZV9tYXJrZXJfYjljOWM3ODMxNWJhNDQ3MzliYjNkYmEyMjExYTllYmYuYmluZFBvcHVwKHBvcHVwX2RlMTUyMzU1YTgwNjQ1MDM4OGVmZjczMGZlZGNlMmNmKTsKCiAgICAgICAgICAgIAogICAgICAgIAogICAgCiAgICAgICAgICAgIHZhciBjaXJjbGVfbWFya2VyX2VjOGE3ODI3ZDhlNjRlYzY5NzYzNWIzMDI1OWI1ZTkzID0gTC5jaXJjbGVNYXJrZXIoCiAgICAgICAgICAgICAgICBbMzQuMTA5NjIzMTQ4NTY1OTYsLTExOC4yNjAyNTgyNTA4ODU4OF0sCiAgICAgICAgICAgICAgICB7CiAgImJ1YmJsaW5nTW91c2VFdmVudHMiOiB0cnVlLAogICJjb2xvciI6ICJibHVlIiwKICAiZGFzaEFycmF5IjogbnVsbCwKICAiZGFzaE9mZnNldCI6IG51bGwsCiAgImZpbGwiOiB0cnVlLAogICJmaWxsQ29sb3IiOiAiIzMxODZjYyIsCiAgImZpbGxPcGFjaXR5IjogMC43LAogICJmaWxsUnVsZSI6ICJldmVub2RkIiwKICAibGluZUNhcCI6ICJyb3VuZCIsCiAgImxpbmVKb2luIjogInJvdW5kIiwKICAib3BhY2l0eSI6IDEuMCwKICAicmFkaXVzIjogNSwKICAic3Ryb2tlIjogdHJ1ZSwKICAid2VpZ2h0IjogMwp9CiAgICAgICAgICAgICAgICApLmFkZFRvKG1hcF9jZmRkYTM1NDRmODY0NGQ5OGQwZWRjMDZkZmY4YTcwZCk7CiAgICAgICAgICAgIAogICAgCiAgICAgICAgICAgIHZhciBwb3B1cF9jNmM0YzhkNjkxNzg0M2UxYTVjMGMxNmUzZWJiYjc3YyA9IEwucG9wdXAoe21heFdpZHRoOiAnMzAwJ30pOwoKICAgICAgICAgICAgCiAgICAgICAgICAgICAgICB2YXIgaHRtbF8yMDgyOGVmMTMwNDI0YmE5YmZkNmRiMmFiMGZlMWYxYSA9ICQoJzxkaXYgaWQ9Imh0bWxfMjA4MjhlZjEzMDQyNGJhOWJmZDZkYjJhYjBmZTFmMWEiIHN0eWxlPSJ3aWR0aDogMTAwLjAlOyBoZWlnaHQ6IDEwMC4wJTsiPkdMRU5EQUxFIEJMVkQsIEF0d2F0ZXIgVmlsbGFnZSwgTm9ydGhlYXN0IExvcyBBbmdlbGVzPC9kaXY+JylbMF07CiAgICAgICAgICAgICAgICBwb3B1cF9jNmM0YzhkNjkxNzg0M2UxYTVjMGMxNmUzZWJiYjc3Yy5zZXRDb250ZW50KGh0bWxfMjA4MjhlZjEzMDQyNGJhOWJmZDZkYjJhYjBmZTFmMWEpOwogICAgICAgICAgICAKCiAgICAgICAgICAgIGNpcmNsZV9tYXJrZXJfZWM4YTc4MjdkOGU2NGVjNjk3NjM1YjMwMjU5YjVlOTMuYmluZFBvcHVwKHBvcHVwX2M2YzRjOGQ2OTE3ODQzZTFhNWMwYzE2ZTNlYmJiNzdjKTsKCiAgICAgICAgICAgIAogICAgICAgIAogICAgCiAgICAgICAgICAgIHZhciBjaXJjbGVfbWFya2VyX2QwMjIyZjlmYjAzNjRhYzY5ODJmNWEwMDk5OGEyOGJhID0gTC5jaXJjbGVNYXJrZXIoCiAgICAgICAgICAgICAgICBbMzQuMTM1MTE2MTE5ODczODQsLTExOC4yMDgxODA0OTk0NzQwNV0sCiAgICAgICAgICAgICAgICB7CiAgImJ1YmJsaW5nTW91c2VFdmVudHMiOiB0cnVlLAogICJjb2xvciI6ICJibHVlIiwKICAiZGFzaEFycmF5IjogbnVsbCwKICAiZGFzaE9mZnNldCI6IG51bGwsCiAgImZpbGwiOiB0cnVlLAogICJmaWxsQ29sb3IiOiAiIzMxODZjYyIsCiAgImZpbGxPcGFjaXR5IjogMC43LAogICJmaWxsUnVsZSI6ICJldmVub2RkIiwKICAibGluZUNhcCI6ICJyb3VuZCIsCiAgImxpbmVKb2luIjogInJvdW5kIiwKICAib3BhY2l0eSI6IDEuMCwKICAicmFkaXVzIjogNSwKICAic3Ryb2tlIjogdHJ1ZSwKICAid2VpZ2h0IjogMwp9CiAgICAgICAgICAgICAgICApLmFkZFRvKG1hcF9jZmRkYTM1NDRmODY0NGQ5OGQwZWRjMDZkZmY4YTcwZCk7CiAgICAgICAgICAgIAogICAgCiAgICAgICAgICAgIHZhciBwb3B1cF84ZTdkY2M5MTc0NjA0ZTJmYTE2YmE5ZjQ4ZmZiMDEzMSA9IEwucG9wdXAoe21heFdpZHRoOiAnMzAwJ30pOwoKICAgICAgICAgICAgCiAgICAgICAgICAgICAgICB2YXIgaHRtbF9hMjJlZGRkZDFkZjk0NmU2OGIzYTAxY2RmNDc5OWIyNCA9ICQoJzxkaXYgaWQ9Imh0bWxfYTIyZWRkZGQxZGY5NDZlNjhiM2EwMWNkZjQ3OTliMjQiIHN0eWxlPSJ3aWR0aDogMTAwLjAlOyBoZWlnaHQ6IDEwMC4wJTsiPkNPTE9SQURPIEJMVkQsIEVhZ2xlIFJvY2ssIE5vcnRoZWFzdCBMb3MgQW5nZWxlczwvZGl2PicpWzBdOwogICAgICAgICAgICAgICAgcG9wdXBfOGU3ZGNjOTE3NDYwNGUyZmExNmJhOWY0OGZmYjAxMzEuc2V0Q29udGVudChodG1sX2EyMmVkZGRkMWRmOTQ2ZTY4YjNhMDFjZGY0Nzk5YjI0KTsKICAgICAgICAgICAgCgogICAgICAgICAgICBjaXJjbGVfbWFya2VyX2QwMjIyZjlmYjAzNjRhYzY5ODJmNWEwMDk5OGEyOGJhLmJpbmRQb3B1cChwb3B1cF84ZTdkY2M5MTc0NjA0ZTJmYTE2YmE5ZjQ4ZmZiMDEzMSk7CgogICAgICAgICAgICAKICAgICAgICAKICAgIAogICAgICAgICAgICB2YXIgY2lyY2xlX21hcmtlcl8xYWQ1ZmM4MzM4M2Y0Y2Q1YjI1MjhjMzQ1ZDIyNmVjOCA9IEwuY2lyY2xlTWFya2VyKAogICAgICAgICAgICAgICAgWzM0LjExNjM3ODA4NjczNDc2LC0xMTguMTkzMjU4NTUyODc1ODNdLAogICAgICAgICAgICAgICAgewogICJidWJibGluZ01vdXNlRXZlbnRzIjogdHJ1ZSwKICAiY29sb3IiOiAiYmx1ZSIsCiAgImRhc2hBcnJheSI6IG51bGwsCiAgImRhc2hPZmZzZXQiOiBudWxsLAogICJmaWxsIjogdHJ1ZSwKICAiZmlsbENvbG9yIjogIiMzMTg2Y2MiLAogICJmaWxsT3BhY2l0eSI6IDAuNywKICAiZmlsbFJ1bGUiOiAiZXZlbm9kZCIsCiAgImxpbmVDYXAiOiAicm91bmQiLAogICJsaW5lSm9pbiI6ICJyb3VuZCIsCiAgIm9wYWNpdHkiOiAxLjAsCiAgInJhZGl1cyI6IDUsCiAgInN0cm9rZSI6IHRydWUsCiAgIndlaWdodCI6IDMKfQogICAgICAgICAgICAgICAgKS5hZGRUbyhtYXBfY2ZkZGEzNTQ0Zjg2NDRkOThkMGVkYzA2ZGZmOGE3MGQpOwogICAgICAgICAgICAKICAgIAogICAgICAgICAgICB2YXIgcG9wdXBfM2UzYTIwODJjMDQxNDI2Njg2ODAyZTY3Nzk0YmJmZDcgPSBMLnBvcHVwKHttYXhXaWR0aDogJzMwMCd9KTsKCiAgICAgICAgICAgIAogICAgICAgICAgICAgICAgdmFyIGh0bWxfNTY2ZjQ2OGQ4YTkwNDVjOGJlNzliMmQyZTE1ZWMzZGMgPSAkKCc8ZGl2IGlkPSJodG1sXzU2NmY0NjhkOGE5MDQ1YzhiZTc5YjJkMmUxNWVjM2RjIiBzdHlsZT0id2lkdGg6IDEwMC4wJTsgaGVpZ2h0OiAxMDAuMCU7Ij5GSUdVRVJPQSBTVCwgSGlnaGxhbmQgUGFyaywgTm9ydGhlYXN0IExvcyBBbmdlbGVzPC9kaXY+JylbMF07CiAgICAgICAgICAgICAgICBwb3B1cF8zZTNhMjA4MmMwNDE0MjY2ODY4MDJlNjc3OTRiYmZkNy5zZXRDb250ZW50KGh0bWxfNTY2ZjQ2OGQ4YTkwNDVjOGJlNzliMmQyZTE1ZWMzZGMpOwogICAgICAgICAgICAKCiAgICAgICAgICAgIGNpcmNsZV9tYXJrZXJfMWFkNWZjODMzODNmNGNkNWIyNTI4YzM0NWQyMjZlYzguYmluZFBvcHVwKHBvcHVwXzNlM2EyMDgyYzA0MTQyNjY4NjgwMmU2Nzc5NGJiZmQ3KTsKCiAgICAgICAgICAgIAogICAgICAgIAogICAgCiAgICAgICAgICAgIHZhciBjaXJjbGVfbWFya2VyXzdmODk4MjFmYzQ0NTRmZDQ5ZWI3NGFlNDgxZDQ3YTk1ID0gTC5jaXJjbGVNYXJrZXIoCiAgICAgICAgICAgICAgICBbMzMuOTg1NzUxOTM1MzIwMDQ2LC0xMTguMzI5NjQ2NzA1MDQ0OTVdLAogICAgICAgICAgICAgICAgewogICJidWJibGluZ01vdXNlRXZlbnRzIjogdHJ1ZSwKICAiY29sb3IiOiAiYmx1ZSIsCiAgImRhc2hBcnJheSI6IG51bGwsCiAgImRhc2hPZmZzZXQiOiBudWxsLAogICJmaWxsIjogdHJ1ZSwKICAiZmlsbENvbG9yIjogIiMzMTg2Y2MiLAogICJmaWxsT3BhY2l0eSI6IDAuNywKICAiZmlsbFJ1bGUiOiAiZXZlbm9kZCIsCiAgImxpbmVDYXAiOiAicm91bmQiLAogICJsaW5lSm9pbiI6ICJyb3VuZCIsCiAgIm9wYWNpdHkiOiAxLjAsCiAgInJhZGl1cyI6IDUsCiAgInN0cm9rZSI6IHRydWUsCiAgIndlaWdodCI6IDMKfQogICAgICAgICAgICAgICAgKS5hZGRUbyhtYXBfY2ZkZGEzNTQ0Zjg2NDRkOThkMGVkYzA2ZGZmOGE3MGQpOwogICAgICAgICAgICAKICAgIAogICAgICAgICAgICB2YXIgcG9wdXBfMDE4ZDE5ZjYxZjQ5NDUxZjhlNTg3Y2JmYzZkMjc0NTAgPSBMLnBvcHVwKHttYXhXaWR0aDogJzMwMCd9KTsKCiAgICAgICAgICAgIAogICAgICAgICAgICAgICAgdmFyIGh0bWxfNDVlNTVjOThiMTkwNGI3OWFlNjI0NDBlYTUzMzBjYzcgPSAkKCc8ZGl2IGlkPSJodG1sXzQ1ZTU1Yzk4YjE5MDRiNzlhZTYyNDQwZWE1MzMwY2M3IiBzdHlsZT0id2lkdGg6IDEwMC4wJTsgaGVpZ2h0OiAxMDAuMCU7Ij5DUkVOU0hBVyBCTFZELCBMb3MgQW5nZWxlczwvZGl2PicpWzBdOwogICAgICAgICAgICAgICAgcG9wdXBfMDE4ZDE5ZjYxZjQ5NDUxZjhlNTg3Y2JmYzZkMjc0NTAuc2V0Q29udGVudChodG1sXzQ1ZTU1Yzk4YjE5MDRiNzlhZTYyNDQwZWE1MzMwY2M3KTsKICAgICAgICAgICAgCgogICAgICAgICAgICBjaXJjbGVfbWFya2VyXzdmODk4MjFmYzQ0NTRmZDQ5ZWI3NGFlNDgxZDQ3YTk1LmJpbmRQb3B1cChwb3B1cF8wMThkMTlmNjFmNDk0NTFmOGU1ODdjYmZjNmQyNzQ1MCk7CgogICAgICAgICAgICAKICAgICAgICAKICAgIAogICAgICAgICAgICB2YXIgY2lyY2xlX21hcmtlcl9kZGMyMmIzYTVmNmM0ZTQyOTczOTk4M2I1YTc5Y2FkMCA9IEwuY2lyY2xlTWFya2VyKAogICAgICAgICAgICAgICAgWzMzLjk2MzA4NTAwMjM3NzQ5LC0xMTguMjg5OTkwMDQ4NzQwMjhdLAogICAgICAgICAgICAgICAgewogICJidWJibGluZ01vdXNlRXZlbnRzIjogdHJ1ZSwKICAiY29sb3IiOiAiYmx1ZSIsCiAgImRhc2hBcnJheSI6IG51bGwsCiAgImRhc2hPZmZzZXQiOiBudWxsLAogICJmaWxsIjogdHJ1ZSwKICAiZmlsbENvbG9yIjogIiMzMTg2Y2MiLAogICJmaWxsT3BhY2l0eSI6IDAuNywKICAiZmlsbFJ1bGUiOiAiZXZlbm9kZCIsCiAgImxpbmVDYXAiOiAicm91bmQiLAogICJsaW5lSm9pbiI6ICJyb3VuZCIsCiAgIm9wYWNpdHkiOiAxLjAsCiAgInJhZGl1cyI6IDUsCiAgInN0cm9rZSI6IHRydWUsCiAgIndlaWdodCI6IDMKfQogICAgICAgICAgICAgICAgKS5hZGRUbyhtYXBfY2ZkZGEzNTQ0Zjg2NDRkOThkMGVkYzA2ZGZmOGE3MGQpOwogICAgICAgICAgICAKICAgIAogICAgICAgICAgICB2YXIgcG9wdXBfNjA0OWU4ZDdlNDFhNDQwZmIwYzk0ZjdjY2U2NzUwZjUgPSBMLnBvcHVwKHttYXhXaWR0aDogJzMwMCd9KTsKCiAgICAgICAgICAgIAogICAgICAgICAgICAgICAgdmFyIGh0bWxfMWRhNjcxMTA4Nzk2NDIwZWI0MzNjZjc5MjNlYTAzMjggPSAkKCc8ZGl2IGlkPSJodG1sXzFkYTY3MTEwODc5NjQyMGViNDMzY2Y3OTIzZWEwMzI4IiBzdHlsZT0id2lkdGg6IDEwMC4wJTsgaGVpZ2h0OiAxMDAuMCU7Ij5IT09WRVIgU1QsIExvcyBBbmdlbGVzPC9kaXY+JylbMF07CiAgICAgICAgICAgICAgICBwb3B1cF82MDQ5ZThkN2U0MWE0NDBmYjBjOTRmN2NjZTY3NTBmNS5zZXRDb250ZW50KGh0bWxfMWRhNjcxMTA4Nzk2NDIwZWI0MzNjZjc5MjNlYTAzMjgpOwogICAgICAgICAgICAKCiAgICAgICAgICAgIGNpcmNsZV9tYXJrZXJfZGRjMjJiM2E1ZjZjNGU0Mjk3Mzk5ODNiNWE3OWNhZDAuYmluZFBvcHVwKHBvcHVwXzYwNDllOGQ3ZTQxYTQ0MGZiMGM5NGY3Y2NlNjc1MGY1KTsKCiAgICAgICAgICAgIAogICAgICAgIAogICAgCiAgICAgICAgICAgIHZhciBjaXJjbGVfbWFya2VyX2QwOGU5YjhmY2ZiMTQxZGNiMzRjYjZmNmYwOWFjZDgyID0gTC5jaXJjbGVNYXJrZXIoCiAgICAgICAgICAgICAgICBbMzMuOTYyODA5NTU2MzE4Mzc2LC0xMTguMzk1MDYxNzYzMjc5NjZdLAogICAgICAgICAgICAgICAgewogICJidWJibGluZ01vdXNlRXZlbnRzIjogdHJ1ZSwKICAiY29sb3IiOiAiYmx1ZSIsCiAgImRhc2hBcnJheSI6IG51bGwsCiAgImRhc2hPZmZzZXQiOiBudWxsLAogICJmaWxsIjogdHJ1ZSwKICAiZmlsbENvbG9yIjogIiMzMTg2Y2MiLAogICJmaWxsT3BhY2l0eSI6IDAuNywKICAiZmlsbFJ1bGUiOiAiZXZlbm9kZCIsCiAgImxpbmVDYXAiOiAicm91bmQiLAogICJsaW5lSm9pbiI6ICJyb3VuZCIsCiAgIm9wYWNpdHkiOiAxLjAsCiAgInJhZGl1cyI6IDUsCiAgInN0cm9rZSI6IHRydWUsCiAgIndlaWdodCI6IDMKfQogICAgICAgICAgICAgICAgKS5hZGRUbyhtYXBfY2ZkZGEzNTQ0Zjg2NDRkOThkMGVkYzA2ZGZmOGE3MGQpOwogICAgICAgICAgICAKICAgIAogICAgICAgICAgICB2YXIgcG9wdXBfOTdjNWE3YjRlMzA2NGUwYTg5ZmI1NzFlZDQ4MzEzMDYgPSBMLnBvcHVwKHttYXhXaWR0aDogJzMwMCd9KTsKCiAgICAgICAgICAgIAogICAgICAgICAgICAgICAgdmFyIGh0bWxfNTlhNjdhMWMxZWI2NGQxM2FjZmMzOGUwYTAxNjNlYjIgPSAkKCc8ZGl2IGlkPSJodG1sXzU5YTY3YTFjMWViNjRkMTNhY2ZjMzhlMGEwMTYzZWIyIiBzdHlsZT0id2lkdGg6IDEwMC4wJTsgaGVpZ2h0OiAxMDAuMCU7Ij5SQU1TR0FURSBBVkUsIFBsYXlhIERlbCBSZXk8L2Rpdj4nKVswXTsKICAgICAgICAgICAgICAgIHBvcHVwXzk3YzVhN2I0ZTMwNjRlMGE4OWZiNTcxZWQ0ODMxMzA2LnNldENvbnRlbnQoaHRtbF81OWE2N2ExYzFlYjY0ZDEzYWNmYzM4ZTBhMDE2M2ViMik7CiAgICAgICAgICAgIAoKICAgICAgICAgICAgY2lyY2xlX21hcmtlcl9kMDhlOWI4ZmNmYjE0MWRjYjM0Y2I2ZjZmMDlhY2Q4Mi5iaW5kUG9wdXAocG9wdXBfOTdjNWE3YjRlMzA2NGUwYTg5ZmI1NzFlZDQ4MzEzMDYpOwoKICAgICAgICAgICAgCiAgICAgICAgCiAgICAKICAgICAgICAgICAgdmFyIGNpcmNsZV9tYXJrZXJfZWVkYTY4MDUzNTYzNGViMTkyNmQyZDhlZWQxN2ZkNzUgPSBMLmNpcmNsZU1hcmtlcigKICAgICAgICAgICAgICAgIFszNC4xMDM0NTE3OTkxMzksLTExOC4zNjQ0NTUzOTA3OTMzMl0sCiAgICAgICAgICAgICAgICB7CiAgImJ1YmJsaW5nTW91c2VFdmVudHMiOiB0cnVlLAogICJjb2xvciI6ICJibHVlIiwKICAiZGFzaEFycmF5IjogbnVsbCwKICAiZGFzaE9mZnNldCI6IG51bGwsCiAgImZpbGwiOiB0cnVlLAogICJmaWxsQ29sb3IiOiAiIzMxODZjYyIsCiAgImZpbGxPcGFjaXR5IjogMC43LAogICJmaWxsUnVsZSI6ICJldmVub2RkIiwKICAibGluZUNhcCI6ICJyb3VuZCIsCiAgImxpbmVKb2luIjogInJvdW5kIiwKICAib3BhY2l0eSI6IDEuMCwKICAicmFkaXVzIjogNSwKICAic3Ryb2tlIjogdHJ1ZSwKICAid2VpZ2h0IjogMwp9CiAgICAgICAgICAgICAgICApLmFkZFRvKG1hcF9jZmRkYTM1NDRmODY0NGQ5OGQwZWRjMDZkZmY4YTcwZCk7CiAgICAgICAgICAgIAogICAgCiAgICAgICAgICAgIHZhciBwb3B1cF9iMmI0NmM2ZDNlMGE0M2EwYjNkMmIzMzFlZjBkMTQ5ZCA9IEwucG9wdXAoe21heFdpZHRoOiAnMzAwJ30pOwoKICAgICAgICAgICAgCiAgICAgICAgICAgICAgICB2YXIgaHRtbF81NDViNGFmZjA1MTA0Y2M5OTBhMmIxZWU3ZTA1NTkwMCA9ICQoJzxkaXYgaWQ9Imh0bWxfNTQ1YjRhZmYwNTEwNGNjOTkwYTJiMWVlN2UwNTU5MDAiIHN0eWxlPSJ3aWR0aDogMTAwLjAlOyBoZWlnaHQ6IDEwMC4wJTsiPk1FTFJPU0UgQVZFLCBIb2xseXdvb2QgSGlsbHM8L2Rpdj4nKVswXTsKICAgICAgICAgICAgICAgIHBvcHVwX2IyYjQ2YzZkM2UwYTQzYTBiM2QyYjMzMWVmMGQxNDlkLnNldENvbnRlbnQoaHRtbF81NDViNGFmZjA1MTA0Y2M5OTBhMmIxZWU3ZTA1NTkwMCk7CiAgICAgICAgICAgIAoKICAgICAgICAgICAgY2lyY2xlX21hcmtlcl9lZWRhNjgwNTM1NjM0ZWIxOTI2ZDJkOGVlZDE3ZmQ3NS5iaW5kUG9wdXAocG9wdXBfYjJiNDZjNmQzZTBhNDNhMGIzZDJiMzMxZWYwZDE0OWQpOwoKICAgICAgICAgICAgCiAgICAgICAgCiAgICAKICAgICAgICAgICAgdmFyIGNpcmNsZV9tYXJrZXJfOTg1MWU3ZTU3MGRlNDc0NzhiNmI2OWMwZTU2OGIwYjEgPSBMLmNpcmNsZU1hcmtlcigKICAgICAgICAgICAgICAgIFszNC4wNzE0Mjc2NTk5Mzc5NDYsLTExOC4zNzA2NDg4NDQ3MjEwNV0sCiAgICAgICAgICAgICAgICB7CiAgImJ1YmJsaW5nTW91c2VFdmVudHMiOiB0cnVlLAogICJjb2xvciI6ICJibHVlIiwKICAiZGFzaEFycmF5IjogbnVsbCwKICAiZGFzaE9mZnNldCI6IG51bGwsCiAgImZpbGwiOiB0cnVlLAogICJmaWxsQ29sb3IiOiAiIzMxODZjYyIsCiAgImZpbGxPcGFjaXR5IjogMC43LAogICJmaWxsUnVsZSI6ICJldmVub2RkIiwKICAibGluZUNhcCI6ICJyb3VuZCIsCiAgImxpbmVKb2luIjogInJvdW5kIiwKICAib3BhY2l0eSI6IDEuMCwKICAicmFkaXVzIjogNSwKICAic3Ryb2tlIjogdHJ1ZSwKICAid2VpZ2h0IjogMwp9CiAgICAgICAgICAgICAgICApLmFkZFRvKG1hcF9jZmRkYTM1NDRmODY0NGQ5OGQwZWRjMDZkZmY4YTcwZCk7CiAgICAgICAgICAgIAogICAgCiAgICAgICAgICAgIHZhciBwb3B1cF8yNDMxOGM2ZDQwZDE0MjQyOThiNTgwYWQwMjg1MDEyMiA9IEwucG9wdXAoe21heFdpZHRoOiAnMzAwJ30pOwoKICAgICAgICAgICAgCiAgICAgICAgICAgICAgICB2YXIgaHRtbF8xYmZlZjY3MTliZTQ0NjA1YmJmMjM5ZmQyZjVjMGFmZiA9ICQoJzxkaXYgaWQ9Imh0bWxfMWJmZWY2NzE5YmU0NDYwNWJiZjIzOWZkMmY1YzBhZmYiIHN0eWxlPSJ3aWR0aDogMTAwLjAlOyBoZWlnaHQ6IDEwMC4wJTsiPjNSRCBTVCwgTWlkLVdpbHNoaXJlPC9kaXY+JylbMF07CiAgICAgICAgICAgICAgICBwb3B1cF8yNDMxOGM2ZDQwZDE0MjQyOThiNTgwYWQwMjg1MDEyMi5zZXRDb250ZW50KGh0bWxfMWJmZWY2NzE5YmU0NDYwNWJiZjIzOWZkMmY1YzBhZmYpOwogICAgICAgICAgICAKCiAgICAgICAgICAgIGNpcmNsZV9tYXJrZXJfOTg1MWU3ZTU3MGRlNDc0NzhiNmI2OWMwZTU2OGIwYjEuYmluZFBvcHVwKHBvcHVwXzI0MzE4YzZkNDBkMTQyNDI5OGI1ODBhZDAyODUwMTIyKTsKCiAgICAgICAgICAgIAogICAgICAgIAogICAgCiAgICAgICAgICAgIHZhciBjaXJjbGVfbWFya2VyX2RhMTIxZTA4YjE3YjQwNTk5ZGVlM2U0ZmU2YjZjZDA1ID0gTC5jaXJjbGVNYXJrZXIoCiAgICAgICAgICAgICAgICBbMzQuMDY4MjY2ODc0MTE3MjksLTExOC40Nzg4MTYyOTMyNTU0OF0sCiAgICAgICAgICAgICAgICB7CiAgImJ1YmJsaW5nTW91c2VFdmVudHMiOiB0cnVlLAogICJjb2xvciI6ICJibHVlIiwKICAiZGFzaEFycmF5IjogbnVsbCwKICAiZGFzaE9mZnNldCI6IG51bGwsCiAgImZpbGwiOiB0cnVlLAogICJmaWxsQ29sb3IiOiAiIzMxODZjYyIsCiAgImZpbGxPcGFjaXR5IjogMC43LAogICJmaWxsUnVsZSI6ICJldmVub2RkIiwKICAibGluZUNhcCI6ICJyb3VuZCIsCiAgImxpbmVKb2luIjogInJvdW5kIiwKICAib3BhY2l0eSI6IDEuMCwKICAicmFkaXVzIjogNSwKICAic3Ryb2tlIjogdHJ1ZSwKICAid2VpZ2h0IjogMwp9CiAgICAgICAgICAgICAgICApLmFkZFRvKG1hcF9jZmRkYTM1NDRmODY0NGQ5OGQwZWRjMDZkZmY4YTcwZCk7CiAgICAgICAgICAgIAogICAgCiAgICAgICAgICAgIHZhciBwb3B1cF82NmYwMTY0ODg3YTA0NTkxYTQxZGIzNDkyY2U3OTZkMSA9IEwucG9wdXAoe21heFdpZHRoOiAnMzAwJ30pOwoKICAgICAgICAgICAgCiAgICAgICAgICAgICAgICB2YXIgaHRtbF80MzY5YzE1NzNhZjQ0ZTVkOWNhMWNmOWJmNDkxYzAyYyA9ICQoJzxkaXYgaWQ9Imh0bWxfNDM2OWMxNTczYWY0NGU1ZDljYTFjZjliZjQ5MWMwMmMiIHN0eWxlPSJ3aWR0aDogMTAwLjAlOyBoZWlnaHQ6IDEwMC4wJTsiPk1BTkRFVklMTEUgQ0FOWU9OIFJPQUQsIEJyZW50d29vZDwvZGl2PicpWzBdOwogICAgICAgICAgICAgICAgcG9wdXBfNjZmMDE2NDg4N2EwNDU5MWE0MWRiMzQ5MmNlNzk2ZDEuc2V0Q29udGVudChodG1sXzQzNjljMTU3M2FmNDRlNWQ5Y2ExY2Y5YmY0OTFjMDJjKTsKICAgICAgICAgICAgCgogICAgICAgICAgICBjaXJjbGVfbWFya2VyX2RhMTIxZTA4YjE3YjQwNTk5ZGVlM2U0ZmU2YjZjZDA1LmJpbmRQb3B1cChwb3B1cF82NmYwMTY0ODg3YTA0NTkxYTQxZGIzNDkyY2U3OTZkMSk7CgogICAgICAgICAgICAKICAgICAgICAKICAgIAogICAgICAgICAgICB2YXIgY2lyY2xlX21hcmtlcl8zZTI1OTAyOWRmZTI0ZTlhYWQwOGJmY2QyMGY4MjExMSA9IEwuY2lyY2xlTWFya2VyKAogICAgICAgICAgICAgICAgWzMzLjk4MjE4MDc3MjA1ODgyNSwtMTE4LjM2NTU5ODMwODgyMzU0XSwKICAgICAgICAgICAgICAgIHsKICAiYnViYmxpbmdNb3VzZUV2ZW50cyI6IHRydWUsCiAgImNvbG9yIjogImJsdWUiLAogICJkYXNoQXJyYXkiOiBudWxsLAogICJkYXNoT2Zmc2V0IjogbnVsbCwKICAiZmlsbCI6IHRydWUsCiAgImZpbGxDb2xvciI6ICIjMzE4NmNjIiwKICAiZmlsbE9wYWNpdHkiOiAwLjcsCiAgImZpbGxSdWxlIjogImV2ZW5vZGQiLAogICJsaW5lQ2FwIjogInJvdW5kIiwKICAibGluZUpvaW4iOiAicm91bmQiLAogICJvcGFjaXR5IjogMS4wLAogICJyYWRpdXMiOiA1LAogICJzdHJva2UiOiB0cnVlLAogICJ3ZWlnaHQiOiAzCn0KICAgICAgICAgICAgICAgICkuYWRkVG8obWFwX2NmZGRhMzU0NGY4NjQ0ZDk4ZDBlZGMwNmRmZjhhNzBkKTsKICAgICAgICAgICAgCiAgICAKICAgICAgICAgICAgdmFyIHBvcHVwXzVlNzY3MDZjNTU3YjQwYzNhZmExYWFlZTc2NTlmMjEzID0gTC5wb3B1cCh7bWF4V2lkdGg6ICczMDAnfSk7CgogICAgICAgICAgICAKICAgICAgICAgICAgICAgIHZhciBodG1sX2IzMTIxMjY1YTM5MzQ5MTY4ZWViNzIyMmNiMDE3NzE4ID0gJCgnPGRpdiBpZD0iaHRtbF9iMzEyMTI2NWEzOTM0OTE2OGVlYjcyMjJjYjAxNzcxOCIgc3R5bGU9IndpZHRoOiAxMDAuMCU7IGhlaWdodDogMTAwLjAlOyI+NjNSRCBTVCwgTG9zIEFuZ2VsZXM8L2Rpdj4nKVswXTsKICAgICAgICAgICAgICAgIHBvcHVwXzVlNzY3MDZjNTU3YjQwYzNhZmExYWFlZTc2NTlmMjEzLnNldENvbnRlbnQoaHRtbF9iMzEyMTI2NWEzOTM0OTE2OGVlYjcyMjJjYjAxNzcxOCk7CiAgICAgICAgICAgIAoKICAgICAgICAgICAgY2lyY2xlX21hcmtlcl8zZTI1OTAyOWRmZTI0ZTlhYWQwOGJmY2QyMGY4MjExMS5iaW5kUG9wdXAocG9wdXBfNWU3NjcwNmM1NTdiNDBjM2FmYTFhYWVlNzY1OWYyMTMpOwoKICAgICAgICAgICAgCiAgICAgICAgCiAgICAKICAgICAgICAgICAgdmFyIGNpcmNsZV9tYXJrZXJfZjM2OGY1YTE3ZmNhNGFjZmE0M2Q0ZTRiMDI3OTNmNzMgPSBMLmNpcmNsZU1hcmtlcigKICAgICAgICAgICAgICAgIFszMy45MzI5NzgxNzA3MTU3MiwtMTE4LjI0NzM4ODg2MjMzODM0XSwKICAgICAgICAgICAgICAgIHsKICAiYnViYmxpbmdNb3VzZUV2ZW50cyI6IHRydWUsCiAgImNvbG9yIjogImJsdWUiLAogICJkYXNoQXJyYXkiOiBudWxsLAogICJkYXNoT2Zmc2V0IjogbnVsbCwKICAiZmlsbCI6IHRydWUsCiAgImZpbGxDb2xvciI6ICIjMzE4NmNjIiwKICAiZmlsbE9wYWNpdHkiOiAwLjcsCiAgImZpbGxSdWxlIjogImV2ZW5vZGQiLAogICJsaW5lQ2FwIjogInJvdW5kIiwKICAibGluZUpvaW4iOiAicm91bmQiLAogICJvcGFjaXR5IjogMS4wLAogICJyYWRpdXMiOiA1LAogICJzdHJva2UiOiB0cnVlLAogICJ3ZWlnaHQiOiAzCn0KICAgICAgICAgICAgICAgICkuYWRkVG8obWFwX2NmZGRhMzU0NGY4NjQ0ZDk4ZDBlZGMwNmRmZjhhNzBkKTsKICAgICAgICAgICAgCiAgICAKICAgICAgICAgICAgdmFyIHBvcHVwXzczMTExMjZjZTZiZjQ3NjZhNmFmMGU2ODM0ODU1ZWZjID0gTC5wb3B1cCh7bWF4V2lkdGg6ICczMDAnfSk7CgogICAgICAgICAgICAKICAgICAgICAgICAgICAgIHZhciBodG1sXzhmNzU0OGJkNWRiYjRjZWRhYWM4NjM5N2UwOTk2ZDU5ID0gJCgnPGRpdiBpZD0iaHRtbF84Zjc1NDhiZDVkYmI0Y2VkYWFjODYzOTdlMDk5NmQ1OSIgc3R5bGU9IndpZHRoOiAxMDAuMCU7IGhlaWdodDogMTAwLjAlOyI+MTA4VEggU1QsIExvcyBBbmdlbGVzPC9kaXY+JylbMF07CiAgICAgICAgICAgICAgICBwb3B1cF83MzExMTI2Y2U2YmY0NzY2YTZhZjBlNjgzNDg1NWVmYy5zZXRDb250ZW50KGh0bWxfOGY3NTQ4YmQ1ZGJiNGNlZGFhYzg2Mzk3ZTA5OTZkNTkpOwogICAgICAgICAgICAKCiAgICAgICAgICAgIGNpcmNsZV9tYXJrZXJfZjM2OGY1YTE3ZmNhNGFjZmE0M2Q0ZTRiMDI3OTNmNzMuYmluZFBvcHVwKHBvcHVwXzczMTExMjZjZTZiZjQ3NjZhNmFmMGU2ODM0ODU1ZWZjKTsKCiAgICAgICAgICAgIAogICAgICAgIAogICAgCiAgICAgICAgICAgIHZhciBjaXJjbGVfbWFya2VyXzhjZjA5ZTZmYmI1MDQ3MGJhZjIwZThlYmQxYzI4NmNkID0gTC5jaXJjbGVNYXJrZXIoCiAgICAgICAgICAgICAgICBbMzMuOTMwNzU2MDg5Mjg1NjQsLTExOC4yNzM5NjUxNDA2MjQ5NF0sCiAgICAgICAgICAgICAgICB7CiAgImJ1YmJsaW5nTW91c2VFdmVudHMiOiB0cnVlLAogICJjb2xvciI6ICJibHVlIiwKICAiZGFzaEFycmF5IjogbnVsbCwKICAiZGFzaE9mZnNldCI6IG51bGwsCiAgImZpbGwiOiB0cnVlLAogICJmaWxsQ29sb3IiOiAiIzMxODZjYyIsCiAgImZpbGxPcGFjaXR5IjogMC43LAogICJmaWxsUnVsZSI6ICJldmVub2RkIiwKICAibGluZUNhcCI6ICJyb3VuZCIsCiAgImxpbmVKb2luIjogInJvdW5kIiwKICAib3BhY2l0eSI6IDEuMCwKICAicmFkaXVzIjogNSwKICAic3Ryb2tlIjogdHJ1ZSwKICAid2VpZ2h0IjogMwp9CiAgICAgICAgICAgICAgICApLmFkZFRvKG1hcF9jZmRkYTM1NDRmODY0NGQ5OGQwZWRjMDZkZmY4YTcwZCk7CiAgICAgICAgICAgIAogICAgCiAgICAgICAgICAgIHZhciBwb3B1cF9lMzUxNmQ1Y2ZiOWU0NThmODIyOGI2YWI2MTJkMzIzNSA9IEwucG9wdXAoe21heFdpZHRoOiAnMzAwJ30pOwoKICAgICAgICAgICAgCiAgICAgICAgICAgICAgICB2YXIgaHRtbF84MThlYWQzNDk5OWY0MWNmYjFlYTk5MjJhM2Q0MDkwYiA9ICQoJzxkaXYgaWQ9Imh0bWxfODE4ZWFkMzQ5OTlmNDFjZmIxZWE5OTIyYTNkNDA5MGIiIHN0eWxlPSJ3aWR0aDogMTAwLjAlOyBoZWlnaHQ6IDEwMC4wJTsiPkZJR1VFUk9BIFNULCBMb3MgQW5nZWxlczwvZGl2PicpWzBdOwogICAgICAgICAgICAgICAgcG9wdXBfZTM1MTZkNWNmYjllNDU4ZjgyMjhiNmFiNjEyZDMyMzUuc2V0Q29udGVudChodG1sXzgxOGVhZDM0OTk5ZjQxY2ZiMWVhOTkyMmEzZDQwOTBiKTsKICAgICAgICAgICAgCgogICAgICAgICAgICBjaXJjbGVfbWFya2VyXzhjZjA5ZTZmYmI1MDQ3MGJhZjIwZThlYmQxYzI4NmNkLmJpbmRQb3B1cChwb3B1cF9lMzUxNmQ1Y2ZiOWU0NThmODIyOGI2YWI2MTJkMzIzNSk7CgogICAgICAgICAgICAKICAgICAgICAKICAgIAogICAgICAgICAgICB2YXIgY2lyY2xlX21hcmtlcl84YTJkNGM0OTM1Yzc0OWMwOGRiZGUzNjgxNGUyM2ViNSA9IEwuY2lyY2xlTWFya2VyKAogICAgICAgICAgICAgICAgWzM0LjA0MDExMjYzNjg1NjMzLC0xMTguMTk2Nzg1ODIzODQ4NTNdLAogICAgICAgICAgICAgICAgewogICJidWJibGluZ01vdXNlRXZlbnRzIjogdHJ1ZSwKICAiY29sb3IiOiAiYmx1ZSIsCiAgImRhc2hBcnJheSI6IG51bGwsCiAgImRhc2hPZmZzZXQiOiBudWxsLAogICJmaWxsIjogdHJ1ZSwKICAiZmlsbENvbG9yIjogIiMzMTg2Y2MiLAogICJmaWxsT3BhY2l0eSI6IDAuNywKICAiZmlsbFJ1bGUiOiAiZXZlbm9kZCIsCiAgImxpbmVDYXAiOiAicm91bmQiLAogICJsaW5lSm9pbiI6ICJyb3VuZCIsCiAgIm9wYWNpdHkiOiAxLjAsCiAgInJhZGl1cyI6IDUsCiAgInN0cm9rZSI6IHRydWUsCiAgIndlaWdodCI6IDMKfQogICAgICAgICAgICAgICAgKS5hZGRUbyhtYXBfY2ZkZGEzNTQ0Zjg2NDRkOThkMGVkYzA2ZGZmOGE3MGQpOwogICAgICAgICAgICAKICAgIAogICAgICAgICAgICB2YXIgcG9wdXBfN2Q5NGU4MDBlOThiNGVhZjgzOGIwMDJiZjNhNjc3MTIgPSBMLnBvcHVwKHttYXhXaWR0aDogJzMwMCd9KTsKCiAgICAgICAgICAgIAogICAgICAgICAgICAgICAgdmFyIGh0bWxfMTIyYjBjYTZiMDExNDI1MWFjZWFiNjVlY2UyODQ0OTEgPSAkKCc8ZGl2IGlkPSJodG1sXzEyMmIwY2E2YjAxMTQyNTFhY2VhYjY1ZWNlMjg0NDkxIiBzdHlsZT0id2lkdGg6IDEwMC4wJTsgaGVpZ2h0OiAxMDAuMCU7Ij40VEggU1QsIEVhc3QgTG9zIEFuZ2VsZXM8L2Rpdj4nKVswXTsKICAgICAgICAgICAgICAgIHBvcHVwXzdkOTRlODAwZTk4YjRlYWY4MzhiMDAyYmYzYTY3NzEyLnNldENvbnRlbnQoaHRtbF8xMjJiMGNhNmIwMTE0MjUxYWNlYWI2NWVjZTI4NDQ5MSk7CiAgICAgICAgICAgIAoKICAgICAgICAgICAgY2lyY2xlX21hcmtlcl84YTJkNGM0OTM1Yzc0OWMwOGRiZGUzNjgxNGUyM2ViNS5iaW5kUG9wdXAocG9wdXBfN2Q5NGU4MDBlOThiNGVhZjgzOGIwMDJiZjNhNjc3MTIpOwoKICAgICAgICAgICAgCiAgICAgICAgCiAgICAKICAgICAgICAgICAgdmFyIGNpcmNsZV9tYXJrZXJfYmUzNzg1MzhjNzg0NDJkYzhmODA0NmQyMDg4ZjU2NTIgPSBMLmNpcmNsZU1hcmtlcigKICAgICAgICAgICAgICAgIFszNC4wMzU3NzQ0NzgxNDI2MiwtMTE4LjQyNzk2NTkwNDYyMjcxXSwKICAgICAgICAgICAgICAgIHsKICAiYnViYmxpbmdNb3VzZUV2ZW50cyI6IHRydWUsCiAgImNvbG9yIjogImJsdWUiLAogICJkYXNoQXJyYXkiOiBudWxsLAogICJkYXNoT2Zmc2V0IjogbnVsbCwKICAiZmlsbCI6IHRydWUsCiAgImZpbGxDb2xvciI6ICIjMzE4NmNjIiwKICAiZmlsbE9wYWNpdHkiOiAwLjcsCiAgImZpbGxSdWxlIjogImV2ZW5vZGQiLAogICJsaW5lQ2FwIjogInJvdW5kIiwKICAibGluZUpvaW4iOiAicm91bmQiLAogICJvcGFjaXR5IjogMS4wLAogICJyYWRpdXMiOiA1LAogICJzdHJva2UiOiB0cnVlLAogICJ3ZWlnaHQiOiAzCn0KICAgICAgICAgICAgICAgICkuYWRkVG8obWFwX2NmZGRhMzU0NGY4NjQ0ZDk4ZDBlZGMwNmRmZjhhNzBkKTsKICAgICAgICAgICAgCiAgICAKICAgICAgICAgICAgdmFyIHBvcHVwXzg5OTAwZmMxZWYxNDQxNzFhZjQ1ZGYyNjkyY2ZjYWYzID0gTC5wb3B1cCh7bWF4V2lkdGg6ICczMDAnfSk7CgogICAgICAgICAgICAKICAgICAgICAgICAgICAgIHZhciBodG1sX2ZiY2ViMmFhOWMzYTQwMDJiMTgzODVjODk4MTE5Njg4ID0gJCgnPGRpdiBpZD0iaHRtbF9mYmNlYjJhYTljM2E0MDAyYjE4Mzg1Yzg5ODExOTY4OCIgc3R5bGU9IndpZHRoOiAxMDAuMCU7IGhlaWdodDogMTAwLjAlOyI+UElDTyBCTFZELCBDZW50dXJ5IENpdHksIFdlc3QgTG9zIEFuZ2VsZXM8L2Rpdj4nKVswXTsKICAgICAgICAgICAgICAgIHBvcHVwXzg5OTAwZmMxZWYxNDQxNzFhZjQ1ZGYyNjkyY2ZjYWYzLnNldENvbnRlbnQoaHRtbF9mYmNlYjJhYTljM2E0MDAyYjE4Mzg1Yzg5ODExOTY4OCk7CiAgICAgICAgICAgIAoKICAgICAgICAgICAgY2lyY2xlX21hcmtlcl9iZTM3ODUzOGM3ODQ0MmRjOGY4MDQ2ZDIwODhmNTY1Mi5iaW5kUG9wdXAocG9wdXBfODk5MDBmYzFlZjE0NDE3MWFmNDVkZjI2OTJjZmNhZjMpOwoKICAgICAgICAgICAgCiAgICAgICAgCiAgICAKICAgICAgICAgICAgdmFyIGNpcmNsZV9tYXJrZXJfNWM5NDUyNTFjZjJiNDY3ZGE0OWZkMTQ3MGI5Y2Y5NzggPSBMLmNpcmNsZU1hcmtlcigKICAgICAgICAgICAgICAgIFszNC4xMDc2MTY5MjY1NDA4MiwtMTE4LjIyNTM0OTg0MjM4NjQ4XSwKICAgICAgICAgICAgICAgIHsKICAiYnViYmxpbmdNb3VzZUV2ZW50cyI6IHRydWUsCiAgImNvbG9yIjogImJsdWUiLAogICJkYXNoQXJyYXkiOiBudWxsLAogICJkYXNoT2Zmc2V0IjogbnVsbCwKICAiZmlsbCI6IHRydWUsCiAgImZpbGxDb2xvciI6ICIjMzE4NmNjIiwKICAiZmlsbE9wYWNpdHkiOiAwLjcsCiAgImZpbGxSdWxlIjogImV2ZW5vZGQiLAogICJsaW5lQ2FwIjogInJvdW5kIiwKICAibGluZUpvaW4iOiAicm91bmQiLAogICJvcGFjaXR5IjogMS4wLAogICJyYWRpdXMiOiA1LAogICJzdHJva2UiOiB0cnVlLAogICJ3ZWlnaHQiOiAzCn0KICAgICAgICAgICAgICAgICkuYWRkVG8obWFwX2NmZGRhMzU0NGY4NjQ0ZDk4ZDBlZGMwNmRmZjhhNzBkKTsKICAgICAgICAgICAgCiAgICAKICAgICAgICAgICAgdmFyIHBvcHVwXzVmMWI4NWE1ZTIxNjQ1MDBhMmY5ODI3MzMwYTNkNDY2ID0gTC5wb3B1cCh7bWF4V2lkdGg6ICczMDAnfSk7CgogICAgICAgICAgICAKICAgICAgICAgICAgICAgIHZhciBodG1sXzVkOWJmNjA1NTc4ZDQxMDlhNDRhZGViNTlmOGQwOTFmID0gJCgnPGRpdiBpZD0iaHRtbF81ZDliZjYwNTU3OGQ0MTA5YTQ0YWRlYjU5ZjhkMDkxZiIgc3R5bGU9IndpZHRoOiAxMDAuMCU7IGhlaWdodDogMTAwLjAlOyI+VkVSRFVHTyBST0FELCBNb3VudCBXYXNoaW5ndG9uLCBHbGFzc2VsbCBQYXJrLCBOb3J0aGVhc3QgTG9zIEFuZ2VsZXM8L2Rpdj4nKVswXTsKICAgICAgICAgICAgICAgIHBvcHVwXzVmMWI4NWE1ZTIxNjQ1MDBhMmY5ODI3MzMwYTNkNDY2LnNldENvbnRlbnQoaHRtbF81ZDliZjYwNTU3OGQ0MTA5YTQ0YWRlYjU5ZjhkMDkxZik7CiAgICAgICAgICAgIAoKICAgICAgICAgICAgY2lyY2xlX21hcmtlcl81Yzk0NTI1MWNmMmI0NjdkYTQ5ZmQxNDcwYjljZjk3OC5iaW5kUG9wdXAocG9wdXBfNWYxYjg1YTVlMjE2NDUwMGEyZjk4MjczMzBhM2Q0NjYpOwoKICAgICAgICAgICAgCiAgICAgICAgCiAgICAKICAgICAgICAgICAgdmFyIGNpcmNsZV9tYXJrZXJfYmJlMWExODk4YjhmNDUwNjliZGIxNzRjYjEwZGY4ODMgPSBMLmNpcmNsZU1hcmtlcigKICAgICAgICAgICAgICAgIFszNC4wMDI5NDU2MDc3NzA3NSwtMTE4LjQzMjE4OTM1Mjg5NjYxXSwKICAgICAgICAgICAgICAgIHsKICAiYnViYmxpbmdNb3VzZUV2ZW50cyI6IHRydWUsCiAgImNvbG9yIjogImJsdWUiLAogICJkYXNoQXJyYXkiOiBudWxsLAogICJkYXNoT2Zmc2V0IjogbnVsbCwKICAiZmlsbCI6IHRydWUsCiAgImZpbGxDb2xvciI6ICIjMzE4NmNjIiwKICAiZmlsbE9wYWNpdHkiOiAwLjcsCiAgImZpbGxSdWxlIjogImV2ZW5vZGQiLAogICJsaW5lQ2FwIjogInJvdW5kIiwKICAibGluZUpvaW4iOiAicm91bmQiLAogICJvcGFjaXR5IjogMS4wLAogICJyYWRpdXMiOiA1LAogICJzdHJva2UiOiB0cnVlLAogICJ3ZWlnaHQiOiAzCn0KICAgICAgICAgICAgICAgICkuYWRkVG8obWFwX2NmZGRhMzU0NGY4NjQ0ZDk4ZDBlZGMwNmRmZjhhNzBkKTsKICAgICAgICAgICAgCiAgICAKICAgICAgICAgICAgdmFyIHBvcHVwXzM2NTk0ZmQ3MGI0MzRjMDA4MjRhOGM0ZWIwMmZlNDRkID0gTC5wb3B1cCh7bWF4V2lkdGg6ICczMDAnfSk7CgogICAgICAgICAgICAKICAgICAgICAgICAgICAgIHZhciBodG1sX2Y0ZTI1ZDRmNjljYjQ0ZGZiZTQyNDQyNjI4MWQxMzhmID0gJCgnPGRpdiBpZD0iaHRtbF9mNGUyNWQ0ZjY5Y2I0NGRmYmU0MjQ0MjYyODFkMTM4ZiIgc3R5bGU9IndpZHRoOiAxMDAuMCU7IGhlaWdodDogMTAwLjAlOyI+Q0VOVElORUxBIEFWRSwgTWFyIFZpc3RhPC9kaXY+JylbMF07CiAgICAgICAgICAgICAgICBwb3B1cF8zNjU5NGZkNzBiNDM0YzAwODI0YThjNGViMDJmZTQ0ZC5zZXRDb250ZW50KGh0bWxfZjRlMjVkNGY2OWNiNDRkZmJlNDI0NDI2MjgxZDEzOGYpOwogICAgICAgICAgICAKCiAgICAgICAgICAgIGNpcmNsZV9tYXJrZXJfYmJlMWExODk4YjhmNDUwNjliZGIxNzRjYjEwZGY4ODMuYmluZFBvcHVwKHBvcHVwXzM2NTk0ZmQ3MGI0MzRjMDA4MjRhOGM0ZWIwMmZlNDRkKTsKCiAgICAgICAgICAgIAogICAgICAgIAogICAgCiAgICAgICAgICAgIHZhciBjaXJjbGVfbWFya2VyXzZmY2M3YzdmMjE1NDRjZTlhYmI0NTY1ZDExYzFiMjBkID0gTC5jaXJjbGVNYXJrZXIoCiAgICAgICAgICAgICAgICBbMzQuMDU1NTk1OTE3MjY2MTgsLTExOC40MTI3NDE3NjI1ODk4Nl0sCiAgICAgICAgICAgICAgICB7CiAgImJ1YmJsaW5nTW91c2VFdmVudHMiOiB0cnVlLAogICJjb2xvciI6ICJibHVlIiwKICAiZGFzaEFycmF5IjogbnVsbCwKICAiZGFzaE9mZnNldCI6IG51bGwsCiAgImZpbGwiOiB0cnVlLAogICJmaWxsQ29sb3IiOiAiIzMxODZjYyIsCiAgImZpbGxPcGFjaXR5IjogMC43LAogICJmaWxsUnVsZSI6ICJldmVub2RkIiwKICAibGluZUNhcCI6ICJyb3VuZCIsCiAgImxpbmVKb2luIjogInJvdW5kIiwKICAib3BhY2l0eSI6IDEuMCwKICAicmFkaXVzIjogNSwKICAic3Ryb2tlIjogdHJ1ZSwKICAid2VpZ2h0IjogMwp9CiAgICAgICAgICAgICAgICApLmFkZFRvKG1hcF9jZmRkYTM1NDRmODY0NGQ5OGQwZWRjMDZkZmY4YTcwZCk7CiAgICAgICAgICAgIAogICAgCiAgICAgICAgICAgIHZhciBwb3B1cF83NWJhMjhhNTg3NzY0MWZmOGI3Zjc4ZWRmMjA3ZGI5OSA9IEwucG9wdXAoe21heFdpZHRoOiAnMzAwJ30pOwoKICAgICAgICAgICAgCiAgICAgICAgICAgICAgICB2YXIgaHRtbF82NTkwZmZiMDM2NDY0NDQ1YWFlMDQ3ZTk4YTlhMTAzMiA9ICQoJzxkaXYgaWQ9Imh0bWxfNjU5MGZmYjAzNjQ2NDQ0NWFhZTA0N2U5OGE5YTEwMzIiIHN0eWxlPSJ3aWR0aDogMTAwLjAlOyBoZWlnaHQ6IDEwMC4wJTsiPkNFTlRVUlkgSElMTCwgQ2VudHVyeSBDaXR5LCBXZXN0IExvcyBBbmdlbGVzPC9kaXY+JylbMF07CiAgICAgICAgICAgICAgICBwb3B1cF83NWJhMjhhNTg3NzY0MWZmOGI3Zjc4ZWRmMjA3ZGI5OS5zZXRDb250ZW50KGh0bWxfNjU5MGZmYjAzNjQ2NDQ0NWFhZTA0N2U5OGE5YTEwMzIpOwogICAgICAgICAgICAKCiAgICAgICAgICAgIGNpcmNsZV9tYXJrZXJfNmZjYzdjN2YyMTU0NGNlOWFiYjQ1NjVkMTFjMWIyMGQuYmluZFBvcHVwKHBvcHVwXzc1YmEyOGE1ODc3NjQxZmY4YjdmNzhlZGYyMDdkYjk5KTsKCiAgICAgICAgICAgIAogICAgICAgIAogICAgCiAgICAgICAgICAgIHZhciBjaXJjbGVfbWFya2VyX2Q1MzFhNzU2OGMyNjQ5NzQ5ZjQzYWY2ZGY4ZmNlMTMwID0gTC5jaXJjbGVNYXJrZXIoCiAgICAgICAgICAgICAgICBbMzQuMTE4NDQ4ODc2NTAyNDA2LC0xMTguMzMzNzgxNjM2NDc0MTldLAogICAgICAgICAgICAgICAgewogICJidWJibGluZ01vdXNlRXZlbnRzIjogdHJ1ZSwKICAiY29sb3IiOiAiYmx1ZSIsCiAgImRhc2hBcnJheSI6IG51bGwsCiAgImRhc2hPZmZzZXQiOiBudWxsLAogICJmaWxsIjogdHJ1ZSwKICAiZmlsbENvbG9yIjogIiMzMTg2Y2MiLAogICJmaWxsT3BhY2l0eSI6IDAuNywKICAiZmlsbFJ1bGUiOiAiZXZlbm9kZCIsCiAgImxpbmVDYXAiOiAicm91bmQiLAogICJsaW5lSm9pbiI6ICJyb3VuZCIsCiAgIm9wYWNpdHkiOiAxLjAsCiAgInJhZGl1cyI6IDUsCiAgInN0cm9rZSI6IHRydWUsCiAgIndlaWdodCI6IDMKfQogICAgICAgICAgICAgICAgKS5hZGRUbyhtYXBfY2ZkZGEzNTQ0Zjg2NDRkOThkMGVkYzA2ZGZmOGE3MGQpOwogICAgICAgICAgICAKICAgIAogICAgICAgICAgICB2YXIgcG9wdXBfYTIzZjY1YzlmOTBkNDIwOWEzN2ZkMGU0M2U0YTc1YWEgPSBMLnBvcHVwKHttYXhXaWR0aDogJzMwMCd9KTsKCiAgICAgICAgICAgIAogICAgICAgICAgICAgICAgdmFyIGh0bWxfYzZkNDA1OGExMzVhNGVjZjhmNWZmNDYwYTEyODBkNjUgPSAkKCc8ZGl2IGlkPSJodG1sX2M2ZDQwNThhMTM1YTRlY2Y4ZjVmZjQ2MGExMjgwZDY1IiBzdHlsZT0id2lkdGg6IDEwMC4wJTsgaGVpZ2h0OiAxMDAuMCU7Ij5CRUFDSFdPT0QgRFIsIEhvbGx5d29vZCBIaWxsczwvZGl2PicpWzBdOwogICAgICAgICAgICAgICAgcG9wdXBfYTIzZjY1YzlmOTBkNDIwOWEzN2ZkMGU0M2U0YTc1YWEuc2V0Q29udGVudChodG1sX2M2ZDQwNThhMTM1YTRlY2Y4ZjVmZjQ2MGExMjgwZDY1KTsKICAgICAgICAgICAgCgogICAgICAgICAgICBjaXJjbGVfbWFya2VyX2Q1MzFhNzU2OGMyNjQ5NzQ5ZjQzYWY2ZGY4ZmNlMTMwLmJpbmRQb3B1cChwb3B1cF9hMjNmNjVjOWY5MGQ0MjA5YTM3ZmQwZTQzZTRhNzVhYSk7CgogICAgICAgICAgICAKICAgICAgICAKICAgIAogICAgICAgICAgICB2YXIgY2lyY2xlX21hcmtlcl9kZjJiYzk1ODk5NGI0OGY2YjZiMjY5NzI3M2JhNDE1NyA9IEwuY2lyY2xlTWFya2VyKAogICAgICAgICAgICAgICAgWzM0LjA5NTg4ODg3ODA5MTkzLC0xMTguMzgwNDY4NTE1OTAwOV0sCiAgICAgICAgICAgICAgICB7CiAgImJ1YmJsaW5nTW91c2VFdmVudHMiOiB0cnVlLAogICJjb2xvciI6ICJibHVlIiwKICAiZGFzaEFycmF5IjogbnVsbCwKICAiZGFzaE9mZnNldCI6IG51bGwsCiAgImZpbGwiOiB0cnVlLAogICJmaWxsQ29sb3IiOiAiIzMxODZjYyIsCiAgImZpbGxPcGFjaXR5IjogMC43LAogICJmaWxsUnVsZSI6ICJldmVub2RkIiwKICAibGluZUNhcCI6ICJyb3VuZCIsCiAgImxpbmVKb2luIjogInJvdW5kIiwKICAib3BhY2l0eSI6IDEuMCwKICAicmFkaXVzIjogNSwKICAic3Ryb2tlIjogdHJ1ZSwKICAid2VpZ2h0IjogMwp9CiAgICAgICAgICAgICAgICApLmFkZFRvKG1hcF9jZmRkYTM1NDRmODY0NGQ5OGQwZWRjMDZkZmY4YTcwZCk7CiAgICAgICAgICAgIAogICAgCiAgICAgICAgICAgIHZhciBwb3B1cF9iMmQ1NzQ4ZjdiZjg0ZDQwYTM4ZjJmNzhiODc5YWY3NSA9IEwucG9wdXAoe21heFdpZHRoOiAnMzAwJ30pOwoKICAgICAgICAgICAgCiAgICAgICAgICAgICAgICB2YXIgaHRtbF9mMWYzN2UyY2YxMmM0OTBhYjQ1OTRlMThiMWQwYjZiYiA9ICQoJzxkaXYgaWQ9Imh0bWxfZjFmMzdlMmNmMTJjNDkwYWI0NTk0ZTE4YjFkMGI2YmIiIHN0eWxlPSJ3aWR0aDogMTAwLjAlOyBoZWlnaHQ6IDEwMC4wJTsiPlNVTlNFVCBQTEFaQSBEUiwgQmV2ZXJseSBDcmVzdDwvZGl2PicpWzBdOwogICAgICAgICAgICAgICAgcG9wdXBfYjJkNTc0OGY3YmY4NGQ0MGEzOGYyZjc4Yjg3OWFmNzUuc2V0Q29udGVudChodG1sX2YxZjM3ZTJjZjEyYzQ5MGFiNDU5NGUxOGIxZDBiNmJiKTsKICAgICAgICAgICAgCgogICAgICAgICAgICBjaXJjbGVfbWFya2VyX2RmMmJjOTU4OTk0YjQ4ZjZiNmIyNjk3MjczYmE0MTU3LmJpbmRQb3B1cChwb3B1cF9iMmQ1NzQ4ZjdiZjg0ZDQwYTM4ZjJmNzhiODc5YWY3NSk7CgogICAgICAgICAgICAKICAgICAgICAKICAgIAogICAgICAgICAgICB2YXIgY2lyY2xlX21hcmtlcl84NjZkNWEwMmRlNWU0NzNhOTc2YTIyOTgzMDhhNzIyMCA9IEwuY2lyY2xlTWFya2VyKAogICAgICAgICAgICAgICAgWzM0LjA1MTcyOTQxNzk4OTM5LC0xMTguMjU0NzYxODUxODUxODddLAogICAgICAgICAgICAgICAgewogICJidWJibGluZ01vdXNlRXZlbnRzIjogdHJ1ZSwKICAiY29sb3IiOiAiYmx1ZSIsCiAgImRhc2hBcnJheSI6IG51bGwsCiAgImRhc2hPZmZzZXQiOiBudWxsLAogICJmaWxsIjogdHJ1ZSwKICAiZmlsbENvbG9yIjogIiMzMTg2Y2MiLAogICJmaWxsT3BhY2l0eSI6IDAuNywKICAiZmlsbFJ1bGUiOiAiZXZlbm9kZCIsCiAgImxpbmVDYXAiOiAicm91bmQiLAogICJsaW5lSm9pbiI6ICJyb3VuZCIsCiAgIm9wYWNpdHkiOiAxLjAsCiAgInJhZGl1cyI6IDUsCiAgInN0cm9rZSI6IHRydWUsCiAgIndlaWdodCI6IDMKfQogICAgICAgICAgICAgICAgKS5hZGRUbyhtYXBfY2ZkZGEzNTQ0Zjg2NDRkOThkMGVkYzA2ZGZmOGE3MGQpOwogICAgICAgICAgICAKICAgIAogICAgICAgICAgICB2YXIgcG9wdXBfOGQ5ZDgyNWI1NTFkNGYxOTk2NzEyZWY5ZWM3ZDQyOTkgPSBMLnBvcHVwKHttYXhXaWR0aDogJzMwMCd9KTsKCiAgICAgICAgICAgIAogICAgICAgICAgICAgICAgdmFyIGh0bWxfZDE5ZGM1YzdmY2ZmNDMxY2JjN2FiOWNkMjA1YmE1YWEgPSAkKCc8ZGl2IGlkPSJodG1sX2QxOWRjNWM3ZmNmZjQzMWNiYzdhYjljZDIwNWJhNWFhIiBzdHlsZT0id2lkdGg6IDEwMC4wJTsgaGVpZ2h0OiAxMDAuMCU7Ij5HUkFORCBBVkUsIEZpbmFuY2lhbCBEaXN0cmljdCwgRG93bnRvd24gTG9zIEFuZ2VsZXM8L2Rpdj4nKVswXTsKICAgICAgICAgICAgICAgIHBvcHVwXzhkOWQ4MjViNTUxZDRmMTk5NjcxMmVmOWVjN2Q0Mjk5LnNldENvbnRlbnQoaHRtbF9kMTlkYzVjN2ZjZmY0MzFjYmM3YWI5Y2QyMDViYTVhYSk7CiAgICAgICAgICAgIAoKICAgICAgICAgICAgY2lyY2xlX21hcmtlcl84NjZkNWEwMmRlNWU0NzNhOTc2YTIyOTgzMDhhNzIyMC5iaW5kUG9wdXAocG9wdXBfOGQ5ZDgyNWI1NTFkNGYxOTk2NzEyZWY5ZWM3ZDQyOTkpOwoKICAgICAgICAgICAgCiAgICAgICAgCiAgICAKICAgICAgICAgICAgdmFyIGNpcmNsZV9tYXJrZXJfYzM2MzJjNDlkNzljNGU5M2I5NzAyY2UwZTgxY2QyM2MgPSBMLmNpcmNsZU1hcmtlcigKICAgICAgICAgICAgICAgIFszNC4wNjEyOCwtMTE4LjQ2NjE4NV0sCiAgICAgICAgICAgICAgICB7CiAgImJ1YmJsaW5nTW91c2VFdmVudHMiOiB0cnVlLAogICJjb2xvciI6ICJibHVlIiwKICAiZGFzaEFycmF5IjogbnVsbCwKICAiZGFzaE9mZnNldCI6IG51bGwsCiAgImZpbGwiOiB0cnVlLAogICJmaWxsQ29sb3IiOiAiIzMxODZjYyIsCiAgImZpbGxPcGFjaXR5IjogMC43LAogICJmaWxsUnVsZSI6ICJldmVub2RkIiwKICAibGluZUNhcCI6ICJyb3VuZCIsCiAgImxpbmVKb2luIjogInJvdW5kIiwKICAib3BhY2l0eSI6IDEuMCwKICAicmFkaXVzIjogNSwKICAic3Ryb2tlIjogdHJ1ZSwKICAid2VpZ2h0IjogMwp9CiAgICAgICAgICAgICAgICApLmFkZFRvKG1hcF9jZmRkYTM1NDRmODY0NGQ5OGQwZWRjMDZkZmY4YTcwZCk7CiAgICAgICAgICAgIAogICAgCiAgICAgICAgICAgIHZhciBwb3B1cF83MmU4MGMwNzMwMzM0MTNlYjkwM2JhYjgwNWE3MmJhZCA9IEwucG9wdXAoe21heFdpZHRoOiAnMzAwJ30pOwoKICAgICAgICAgICAgCiAgICAgICAgICAgICAgICB2YXIgaHRtbF8zN2UwM2VkNWFiZjI0YzdiODk2Yjg3MTdiNmRjNGViMyA9ICQoJzxkaXYgaWQ9Imh0bWxfMzdlMDNlZDVhYmYyNGM3Yjg5NmI4NzE3YjZkYzRlYjMiIHN0eWxlPSJ3aWR0aDogMTAwLjAlOyBoZWlnaHQ6IDEwMC4wJTsiPkJBUlJJTkdUT04gUEwsIEJyZW50d29vZDwvZGl2PicpWzBdOwogICAgICAgICAgICAgICAgcG9wdXBfNzJlODBjMDczMDMzNDEzZWI5MDNiYWI4MDVhNzJiYWQuc2V0Q29udGVudChodG1sXzM3ZTAzZWQ1YWJmMjRjN2I4OTZiODcxN2I2ZGM0ZWIzKTsKICAgICAgICAgICAgCgogICAgICAgICAgICBjaXJjbGVfbWFya2VyX2MzNjMyYzQ5ZDc5YzRlOTNiOTcwMmNlMGU4MWNkMjNjLmJpbmRQb3B1cChwb3B1cF83MmU4MGMwNzMwMzM0MTNlYjkwM2JhYjgwNWE3MmJhZCk7CgogICAgICAgICAgICAKICAgICAgICAKICAgIAogICAgICAgICAgICB2YXIgY2lyY2xlX21hcmtlcl81MTM4NTRkYjdmYzc0ZDcyOTdlZjVmNWNkNTEyZGNmYiA9IEwuY2lyY2xlTWFya2VyKAogICAgICAgICAgICAgICAgWzM0LjEwNDgxMDE1NzIzNjcwNiwtMTE4LjQ0OTMzNjE4NTQ2NDddLAogICAgICAgICAgICAgICAgewogICJidWJibGluZ01vdXNlRXZlbnRzIjogdHJ1ZSwKICAiY29sb3IiOiAiYmx1ZSIsCiAgImRhc2hBcnJheSI6IG51bGwsCiAgImRhc2hPZmZzZXQiOiBudWxsLAogICJmaWxsIjogdHJ1ZSwKICAiZmlsbENvbG9yIjogIiMzMTg2Y2MiLAogICJmaWxsT3BhY2l0eSI6IDAuNywKICAiZmlsbFJ1bGUiOiAiZXZlbm9kZCIsCiAgImxpbmVDYXAiOiAicm91bmQiLAogICJsaW5lSm9pbiI6ICJyb3VuZCIsCiAgIm9wYWNpdHkiOiAxLjAsCiAgInJhZGl1cyI6IDUsCiAgInN0cm9rZSI6IHRydWUsCiAgIndlaWdodCI6IDMKfQogICAgICAgICAgICAgICAgKS5hZGRUbyhtYXBfY2ZkZGEzNTQ0Zjg2NDRkOThkMGVkYzA2ZGZmOGE3MGQpOwogICAgICAgICAgICAKICAgIAogICAgICAgICAgICB2YXIgcG9wdXBfZTEyM2RiMzQ2YzkwNGRlOGJiYjllODRhYTZhYWIwMzIgPSBMLnBvcHVwKHttYXhXaWR0aDogJzMwMCd9KTsKCiAgICAgICAgICAgIAogICAgICAgICAgICAgICAgdmFyIGh0bWxfM2FhZmIzZjhmYmYyNGM2MWJlZjNmOGYxZGQ5OWUzZjQgPSAkKCc8ZGl2IGlkPSJodG1sXzNhYWZiM2Y4ZmJmMjRjNjFiZWYzZjhmMWRkOTllM2Y0IiBzdHlsZT0id2lkdGg6IDEwMC4wJTsgaGVpZ2h0OiAxMDAuMCU7Ij5CRVZFUkxZIEdMRU4gQkxWRCwgQmVsIEFpcjwvZGl2PicpWzBdOwogICAgICAgICAgICAgICAgcG9wdXBfZTEyM2RiMzQ2YzkwNGRlOGJiYjllODRhYTZhYWIwMzIuc2V0Q29udGVudChodG1sXzNhYWZiM2Y4ZmJmMjRjNjFiZWYzZjhmMWRkOTllM2Y0KTsKICAgICAgICAgICAgCgogICAgICAgICAgICBjaXJjbGVfbWFya2VyXzUxMzg1NGRiN2ZjNzRkNzI5N2VmNWY1Y2Q1MTJkY2ZiLmJpbmRQb3B1cChwb3B1cF9lMTIzZGIzNDZjOTA0ZGU4YmJiOWU4NGFhNmFhYjAzMik7CgogICAgICAgICAgICAKICAgICAgICAKICAgIAogICAgICAgICAgICB2YXIgY2lyY2xlX21hcmtlcl85ZGNjN2MyMjE5Nzc0OTgzYTRmZmQzNjNmNmQyZGEzMiA9IEwuY2lyY2xlTWFya2VyKAogICAgICAgICAgICAgICAgWzM0LjAyMTQ1ODg0NzkyNjI4LC0xMTguMjg2MDM2OTU4NTI1MzJdLAogICAgICAgICAgICAgICAgewogICJidWJibGluZ01vdXNlRXZlbnRzIjogdHJ1ZSwKICAiY29sb3IiOiAiYmx1ZSIsCiAgImRhc2hBcnJheSI6IG51bGwsCiAgImRhc2hPZmZzZXQiOiBudWxsLAogICJmaWxsIjogdHJ1ZSwKICAiZmlsbENvbG9yIjogIiMzMTg2Y2MiLAogICJmaWxsT3BhY2l0eSI6IDAuNywKICAiZmlsbFJ1bGUiOiAiZXZlbm9kZCIsCiAgImxpbmVDYXAiOiAicm91bmQiLAogICJsaW5lSm9pbiI6ICJyb3VuZCIsCiAgIm9wYWNpdHkiOiAxLjAsCiAgInJhZGl1cyI6IDUsCiAgInN0cm9rZSI6IHRydWUsCiAgIndlaWdodCI6IDMKfQogICAgICAgICAgICAgICAgKS5hZGRUbyhtYXBfY2ZkZGEzNTQ0Zjg2NDRkOThkMGVkYzA2ZGZmOGE3MGQpOwogICAgICAgICAgICAKICAgIAogICAgICAgICAgICB2YXIgcG9wdXBfMWY0ZmE3MjM2NmVhNDU4ZGI2MThhM2IwNWRiOGFlMjYgPSBMLnBvcHVwKHttYXhXaWR0aDogJzMwMCd9KTsKCiAgICAgICAgICAgIAogICAgICAgICAgICAgICAgdmFyIGh0bWxfZGVhODk4NjgzZTczNDU2MTkyZjUzZjgzY2ZjMzM4OTQgPSAkKCc8ZGl2IGlkPSJodG1sX2RlYTg5ODY4M2U3MzQ1NjE5MmY1M2Y4M2NmYzMzODk0IiBzdHlsZT0id2lkdGg6IDEwMC4wJTsgaGVpZ2h0OiAxMDAuMCU7Ij5XRVNUIDM0VEggU1QsIExvcyBBbmdlbGVzPC9kaXY+JylbMF07CiAgICAgICAgICAgICAgICBwb3B1cF8xZjRmYTcyMzY2ZWE0NThkYjYxOGEzYjA1ZGI4YWUyNi5zZXRDb250ZW50KGh0bWxfZGVhODk4NjgzZTczNDU2MTkyZjUzZjgzY2ZjMzM4OTQpOwogICAgICAgICAgICAKCiAgICAgICAgICAgIGNpcmNsZV9tYXJrZXJfOWRjYzdjMjIxOTc3NDk4M2E0ZmZkMzYzZjZkMmRhMzIuYmluZFBvcHVwKHBvcHVwXzFmNGZhNzIzNjZlYTQ1OGRiNjE4YTNiMDVkYjhhZTI2KTsKCiAgICAgICAgICAgIAogICAgICAgIAogICAgCiAgICAgICAgICAgIHZhciBjaXJjbGVfbWFya2VyXzdiYzlkODZkYzZmZTRiNDliYWI2ZWFmNjFiNmU1N2ZmID0gTC5jaXJjbGVNYXJrZXIoCiAgICAgICAgICAgICAgICBbMzMuOTc0NTk1NjQwNjY4NTMsLTExOC40MTkyNjU0ODc0NjUwNV0sCiAgICAgICAgICAgICAgICB7CiAgImJ1YmJsaW5nTW91c2VFdmVudHMiOiB0cnVlLAogICJjb2xvciI6ICJibHVlIiwKICAiZGFzaEFycmF5IjogbnVsbCwKICAiZGFzaE9mZnNldCI6IG51bGwsCiAgImZpbGwiOiB0cnVlLAogICJmaWxsQ29sb3IiOiAiIzMxODZjYyIsCiAgImZpbGxPcGFjaXR5IjogMC43LAogICJmaWxsUnVsZSI6ICJldmVub2RkIiwKICAibGluZUNhcCI6ICJyb3VuZCIsCiAgImxpbmVKb2luIjogInJvdW5kIiwKICAib3BhY2l0eSI6IDEuMCwKICAicmFkaXVzIjogNSwKICAic3Ryb2tlIjogdHJ1ZSwKICAid2VpZ2h0IjogMwp9CiAgICAgICAgICAgICAgICApLmFkZFRvKG1hcF9jZmRkYTM1NDRmODY0NGQ5OGQwZWRjMDZkZmY4YTcwZCk7CiAgICAgICAgICAgIAogICAgCiAgICAgICAgICAgIHZhciBwb3B1cF82NDNmNTgzMDUzMGU0OTM0YWE3NWViZjZjNDU4NjU4MSA9IEwucG9wdXAoe21heFdpZHRoOiAnMzAwJ30pOwoKICAgICAgICAgICAgCiAgICAgICAgICAgICAgICB2YXIgaHRtbF9hNjdmNTNkYmFjNjM0OGQ4ODMzZWU2ODYzODZjOWFhYiA9ICQoJzxkaXYgaWQ9Imh0bWxfYTY3ZjUzZGJhYzYzNDhkODgzM2VlNjg2Mzg2YzlhYWIiIHN0eWxlPSJ3aWR0aDogMTAwLjAlOyBoZWlnaHQ6IDEwMC4wJTsiPkJMVUZGIENSRUVLIERSLCBQbGF5YSBEZWwgUmV5PC9kaXY+JylbMF07CiAgICAgICAgICAgICAgICBwb3B1cF82NDNmNTgzMDUzMGU0OTM0YWE3NWViZjZjNDU4NjU4MS5zZXRDb250ZW50KGh0bWxfYTY3ZjUzZGJhYzYzNDhkODgzM2VlNjg2Mzg2YzlhYWIpOwogICAgICAgICAgICAKCiAgICAgICAgICAgIGNpcmNsZV9tYXJrZXJfN2JjOWQ4NmRjNmZlNGI0OWJhYjZlYWY2MWI2ZTU3ZmYuYmluZFBvcHVwKHBvcHVwXzY0M2Y1ODMwNTMwZTQ5MzRhYTc1ZWJmNmM0NTg2NTgxKTsKCiAgICAgICAgICAgIAogICAgICAgIAo8L3NjcmlwdD4= onload=\"this.contentDocument.open();this.contentDocument.write(atob(this.getAttribute('data-html')));this.contentDocument.close();\" allowfullscreen webkitallowfullscreen mozallowfullscreen></iframe></div></div>"
      ],
      "text/plain": [
       "<folium.folium.Map at 0x7f2e9518b6a0>"
      ]
     },
     "execution_count": 43,
     "metadata": {},
     "output_type": "execute_result"
    }
   ],
   "source": [
    "# create map of LA using latitude and longitude values\n",
    "map_la = folium.Map(location=[latitude, longitude], zoom_start=10)\n",
    "\n",
    "# add markers to map\n",
    "for lat, lng, street, neighborhood in zip(la_subset['Latitude'], la_subset['Longitude'], la_subset['Street'], la_subset['Neighborhood']):\n",
    "    label = '{}, {}'.format(street, neighborhood)\n",
    "    label = folium.Popup(label, parse_html=True)\n",
    "    folium.CircleMarker(\n",
    "        [lat, lng],\n",
    "        radius=5,\n",
    "        popup=label,\n",
    "        color='blue',\n",
    "        fill=True,\n",
    "        fill_color='#3186cc',\n",
    "        fill_opacity=0.7,\n",
    "        parse_html=False).add_to(map_la)  \n",
    "    \n",
    "map_la"
   ]
  },
  {
   "cell_type": "markdown",
   "metadata": {},
   "source": [
    "Next, we are going to start utilizing the Foursquare API to explore the neighborhoods and segment them."
   ]
  },
  {
   "cell_type": "markdown",
   "metadata": {},
   "source": [
    "#### Define Foursquare Credentials and Version"
   ]
  },
  {
   "cell_type": "code",
   "execution_count": null,
   "metadata": {},
   "outputs": [],
   "source": [
    "CLIENT_ID = 'VNYEHCLUY3WPOTA0AGKBMP1GBZU2IZV1TLLI3WKKUD5SH0FP' # your Foursquare ID\n",
    "CLIENT_SECRET = input('Enter your Foursquare Client Secret: ')\n",
    "VERSION = '20180605' # Foursquare API version\n",
    "print(\"Moving on to the next step!\")"
   ]
  },
  {
   "cell_type": "markdown",
   "metadata": {},
   "source": [
    "#### Let's explore the first neighborhood in our dataframe."
   ]
  },
  {
   "cell_type": "code",
   "execution_count": null,
   "metadata": {},
   "outputs": [],
   "source": [
    "la_subset.head()"
   ]
  },
  {
   "cell_type": "markdown",
   "metadata": {},
   "source": [
    "Get the neighborhood's name."
   ]
  },
  {
   "cell_type": "code",
   "execution_count": null,
   "metadata": {},
   "outputs": [],
   "source": [
    "la_subset.loc[0,'Neighborhood']"
   ]
  },
  {
   "cell_type": "markdown",
   "metadata": {},
   "source": [
    "Get the neighborhood's latitude and longitude values."
   ]
  },
  {
   "cell_type": "code",
   "execution_count": null,
   "metadata": {},
   "outputs": [],
   "source": [
    "neighborhood_latitude = la_subset.loc[0, 'Latitude'] # neighborhood latitude value\n",
    "neighborhood_longitude = la_subset.loc[0, 'Longitude'] # neighborhood longitude value\n",
    "\n",
    "neighborhood_name = la_subset.loc[0, 'Neighborhood'] # neighborhood name\n",
    "\n",
    "print('Latitude and longitude values of {} are {}, {}.'.format(neighborhood_name, \n",
    "                                                               neighborhood_latitude, \n",
    "                                                               neighborhood_longitude))"
   ]
  },
  {
   "cell_type": "markdown",
   "metadata": {},
   "source": [
    "#### Now, let's get the top 100 venues that are in Los Angeles within a radius of 500 meters."
   ]
  },
  {
   "cell_type": "markdown",
   "metadata": {},
   "source": [
    "First, let's create the GET request URL. The URL will be called **url**."
   ]
  },
  {
   "cell_type": "code",
   "execution_count": null,
   "metadata": {},
   "outputs": [],
   "source": [
    "LIMIT = 100 # limit of number of venues returned by Foursquare API\n",
    "radius = 500 # define radius\n",
    "\n",
    "url = 'https://api.foursquare.com/v2/venues/explore?&client_id={}&client_secret={}&v={}&ll={},{}&radius={}&limit={}'.format(\n",
    "    CLIENT_ID, \n",
    "    CLIENT_SECRET, \n",
    "    VERSION, \n",
    "    neighborhood_latitude, \n",
    "    neighborhood_longitude, \n",
    "    radius, \n",
    "    LIMIT)"
   ]
  },
  {
   "cell_type": "markdown",
   "metadata": {},
   "source": [
    "Send the GET request and examine the results"
   ]
  },
  {
   "cell_type": "code",
   "execution_count": null,
   "metadata": {},
   "outputs": [],
   "source": [
    "results = requests.get(url).json()"
   ]
  },
  {
   "cell_type": "code",
   "execution_count": null,
   "metadata": {},
   "outputs": [],
   "source": [
    "# function that extracts the category of the venue\n",
    "def get_category_type(row):\n",
    "    try:\n",
    "        categories_list = row['categories']\n",
    "    except:\n",
    "        categories_list = row['venue.categories']\n",
    "        \n",
    "    if len(categories_list) == 0:\n",
    "        return None\n",
    "    else:\n",
    "        return categories_list[0]['name']"
   ]
  },
  {
   "cell_type": "markdown",
   "metadata": {},
   "source": [
    "Now we are ready to clean the json and structure it into a *pandas* dataframe."
   ]
  },
  {
   "cell_type": "code",
   "execution_count": null,
   "metadata": {},
   "outputs": [],
   "source": [
    "venues = results['response']['groups'][0]['items']\n",
    "    \n",
    "nearby_venues = json_normalize(venues) # flatten JSON\n",
    "\n",
    "# filter columns\n",
    "filtered_columns = ['venue.name', 'venue.categories', 'venue.location.lat', 'venue.location.lng']\n",
    "nearby_venues =nearby_venues.loc[:, filtered_columns]\n",
    "\n",
    "# filter the category for each row\n",
    "nearby_venues['venue.categories'] = nearby_venues.apply(get_category_type, axis=1)\n",
    "\n",
    "# clean columns\n",
    "nearby_venues.columns = [col.split(\".\")[-1] for col in nearby_venues.columns]\n",
    "\n",
    "nearby_venues.head()"
   ]
  },
  {
   "cell_type": "markdown",
   "metadata": {},
   "source": [
    "How many venues were returned by Foursquare?"
   ]
  },
  {
   "cell_type": "code",
   "execution_count": null,
   "metadata": {},
   "outputs": [],
   "source": [
    "print('{} venues were returned by Foursquare.'.format(nearby_venues.shape[0]))"
   ]
  },
  {
   "cell_type": "markdown",
   "metadata": {},
   "source": [
    "#### Let's create a function to repeat the same process to for all the neighborhoods"
   ]
  },
  {
   "cell_type": "code",
   "execution_count": null,
   "metadata": {},
   "outputs": [],
   "source": [
    "def getNearbyVenues(names, latitudes, longitudes, radius=500):\n",
    "    \n",
    "    venues_list=[]\n",
    "    for name, lat, lng in zip(names, latitudes, longitudes):\n",
    "        print(name)\n",
    "            \n",
    "        # create the API request URL\n",
    "        url = 'https://api.foursquare.com/v2/venues/explore?&client_id={}&client_secret={}&v={}&ll={},{}&radius={}&limit={}'.format(\n",
    "            CLIENT_ID, \n",
    "            CLIENT_SECRET, \n",
    "            VERSION, \n",
    "            lat, \n",
    "            lng, \n",
    "            radius, \n",
    "            LIMIT)\n",
    "            \n",
    "        # make the GET request\n",
    "        results = requests.get(url).json()[\"response\"]['groups'][0]['items']\n",
    "        \n",
    "        # return only relevant information for each nearby venue\n",
    "        venues_list.append([(\n",
    "            name, \n",
    "            lat, \n",
    "            lng, \n",
    "            v['venue']['name'], \n",
    "            v['venue']['location']['lat'], \n",
    "            v['venue']['location']['lng'],  \n",
    "            v['venue']['categories'][0]['name']) for v in results])\n",
    "\n",
    "    nearby_venues = pd.DataFrame([item for venue_list in venues_list for item in venue_list])\n",
    "    nearby_venues.columns = ['Neighborhood', \n",
    "                  'Neighborhood Latitude', \n",
    "                  'Neighborhood Longitude', \n",
    "                  'Venue', \n",
    "                  'Venue Latitude', \n",
    "                  'Venue Longitude', \n",
    "                  'Venue Category']\n",
    "    \n",
    "    return(nearby_venues)"
   ]
  },
  {
   "cell_type": "markdown",
   "metadata": {},
   "source": [
    "#### Let's now write code to run the above function on each neighborhood and create a new dataframe called *la_venues*."
   ]
  },
  {
   "cell_type": "code",
   "execution_count": null,
   "metadata": {},
   "outputs": [],
   "source": [
    "la_venues = getNearbyVenues(names=la_subset['Neighborhood'],\n",
    "                                   latitudes=la_subset['Latitude'],\n",
    "                                   longitudes=la_subset['Longitude']\n",
    "                                  )"
   ]
  },
  {
   "cell_type": "markdown",
   "metadata": {},
   "source": [
    "#### Let's check the size of the resulting dataframe"
   ]
  },
  {
   "cell_type": "code",
   "execution_count": null,
   "metadata": {},
   "outputs": [],
   "source": [
    "print(la_venues.shape)\n",
    "la_venues.head()"
   ]
  },
  {
   "cell_type": "markdown",
   "metadata": {},
   "source": [
    "Let's check how many venues were returned for each neighborhood/set of neighborhoods"
   ]
  },
  {
   "cell_type": "code",
   "execution_count": null,
   "metadata": {},
   "outputs": [],
   "source": [
    "la_venues.groupby('Neighborhood').count()"
   ]
  },
  {
   "cell_type": "markdown",
   "metadata": {},
   "source": [
    "#### Let's find out how many unique categories can be curated from all the returned venues"
   ]
  },
  {
   "cell_type": "code",
   "execution_count": null,
   "metadata": {},
   "outputs": [],
   "source": [
    "print('There are {} uniques categories.'.format(len(la_venues['Venue Category'].unique())))"
   ]
  },
  {
   "cell_type": "markdown",
   "metadata": {},
   "source": [
    "## 3. Analyzing the neighborhoods in LA"
   ]
  },
  {
   "cell_type": "markdown",
   "metadata": {},
   "source": [
    "In order to be able to use our clustering algorithm, any categorical variable we would like to consider in our model will have to be transformed into a binary format. To achieve this, we will use the pandas method **get_dummies()** "
   ]
  },
  {
   "cell_type": "code",
   "execution_count": null,
   "metadata": {},
   "outputs": [],
   "source": [
    "# one hot encoding\n",
    "la_onehot = pd.get_dummies(la_venues[['Venue Category']], prefix=\"\", prefix_sep=\"\")\n",
    "\n",
    "# add neighborhood column back to dataframe\n",
    "la_onehot['Neighborhood'] = la_venues['Neighborhood'] \n",
    "\n",
    "# move neighborhood column to the first column\n",
    "fixed_columns = [la_onehot.columns[-1]] + list(la_onehot.columns[:-1])\n",
    "la_onehot = la_onehot[fixed_columns]\n",
    "\n",
    "la_onehot.head()"
   ]
  },
  {
   "cell_type": "markdown",
   "metadata": {},
   "source": [
    "And let's examine the new dataframe size."
   ]
  },
  {
   "cell_type": "code",
   "execution_count": null,
   "metadata": {},
   "outputs": [],
   "source": [
    "la_onehot.shape"
   ]
  },
  {
   "cell_type": "markdown",
   "metadata": {},
   "source": [
    "#### Next, let's group rows by neighborhoods and by taking the mean of the frequency of occurrence of each category"
   ]
  },
  {
   "cell_type": "code",
   "execution_count": null,
   "metadata": {},
   "outputs": [],
   "source": [
    "la_grouped = la_onehot.groupby('Neighborhood').mean().reset_index()\n",
    "la_grouped"
   ]
  },
  {
   "cell_type": "markdown",
   "metadata": {},
   "source": [
    "#### Let's confirm the new size"
   ]
  },
  {
   "cell_type": "code",
   "execution_count": null,
   "metadata": {},
   "outputs": [],
   "source": [
    "la_grouped.shape"
   ]
  },
  {
   "cell_type": "markdown",
   "metadata": {},
   "source": [
    "#### Let's print the neighborhoods along with the top 5 most common venues"
   ]
  },
  {
   "cell_type": "code",
   "execution_count": null,
   "metadata": {},
   "outputs": [],
   "source": [
    "num_top_venues = 5\n",
    "\n",
    "for hood in la_grouped['Neighborhood']:\n",
    "    print(\"----\"+hood+\"----\")\n",
    "    temp = la_grouped[la_grouped['Neighborhood'] == hood].T.reset_index()\n",
    "    temp.columns = ['venue','freq']\n",
    "    temp = temp.iloc[1:]\n",
    "    temp['freq'] = temp['freq'].astype(float)\n",
    "    temp = temp.round({'freq': 2})\n",
    "    print(temp.sort_values('freq', ascending=False).reset_index(drop=True).head(num_top_venues))\n",
    "    print('\\n')"
   ]
  },
  {
   "cell_type": "markdown",
   "metadata": {},
   "source": [
    "#### Let's put that into a *pandas* dataframe"
   ]
  },
  {
   "cell_type": "markdown",
   "metadata": {},
   "source": [
    "First, let's write a function to sort the venues in descending order."
   ]
  },
  {
   "cell_type": "code",
   "execution_count": null,
   "metadata": {},
   "outputs": [],
   "source": [
    "def return_most_common_venues(row, num_top_venues):\n",
    "    row_categories = row.iloc[1:]\n",
    "    row_categories_sorted = row_categories.sort_values(ascending=False)\n",
    "    \n",
    "    return row_categories_sorted.index.values[0:num_top_venues]"
   ]
  },
  {
   "cell_type": "markdown",
   "metadata": {},
   "source": [
    "Now let's create the new dataframe and display the top 10 venues for the neighborhoods."
   ]
  },
  {
   "cell_type": "code",
   "execution_count": null,
   "metadata": {},
   "outputs": [],
   "source": [
    "num_top_venues = 10\n",
    "\n",
    "indicators = ['st', 'nd', 'rd']\n",
    "\n",
    "# create columns according to number of top venues\n",
    "columns = ['Neighborhood']\n",
    "for ind in np.arange(num_top_venues):\n",
    "    try:\n",
    "        columns.append('{}{} Most Common Venue'.format(ind+1, indicators[ind]))\n",
    "    except:\n",
    "        columns.append('{}th Most Common Venue'.format(ind+1))\n",
    "\n",
    "# create a new dataframe\n",
    "neighborhoods_venues_sorted = pd.DataFrame(columns=columns)\n",
    "neighborhoods_venues_sorted['Neighborhood'] = la_grouped['Neighborhood']\n",
    "\n",
    "for ind in np.arange(la_grouped.shape[0]):\n",
    "    neighborhoods_venues_sorted.iloc[ind, 1:] = return_most_common_venues(la_grouped.iloc[ind, :], num_top_venues)\n",
    "\n",
    "neighborhoods_venues_sorted.head()"
   ]
  },
  {
   "cell_type": "markdown",
   "metadata": {},
   "source": [
    "## 4. Clustering the neighborhoods in LA"
   ]
  },
  {
   "cell_type": "markdown",
   "metadata": {},
   "source": [
    "Our clustering algorithm of choice here will be the [KMeans](https://en.wikipedia.org/wiki/K-means_clustering). It is considered to be one of the simplest clustering models. However, despite its simplicity, *k*-means is vastly used for clustering in many data science applications and is especially useful if you need to quickly discover insights from unlabeled data.\n",
    "\n",
    "The KMeans algorithm clusters data by trying to separate samples in n groups of equal variance, minimizing a criterion known as the **inertia or within-cluster sum-of-squares**. \n",
    "\n",
    "A drawback to this algorithm is that it requires the number of clusters to be pre-specified. Therefore we will explore different numbers of k to try and find a good fit to our data.\n",
    "\n",
    "The evaluation criteria considered here will be the elbow method. The basic premise behind this method is that first of all we plot the sum of the differences between each point in a cluster and the associated cluster center. If the plot resembles an arm, then the **elbow** (the point of inflection on the curve) is a good indication that the underlying model fits best at that point."
   ]
  },
  {
   "cell_type": "code",
   "execution_count": null,
   "metadata": {},
   "outputs": [],
   "source": [
    "la_grouped_clustering = la_grouped.drop('Neighborhood', 1)\n",
    "Sum_of_squared_distances = []\n",
    "K = range(1,11)\n",
    "\n",
    "for kclusters in K:\n",
    "    kmeans = KMeans(n_clusters=kclusters, random_state=0).fit(la_grouped_clustering)\n",
    "    Sum_of_squared_distances.append(kmeans.inertia_)"
   ]
  },
  {
   "cell_type": "code",
   "execution_count": null,
   "metadata": {},
   "outputs": [],
   "source": [
    "plt.plot(K, Sum_of_squared_distances, 'bx-')\n",
    "plt.xlabel('k')\n",
    "plt.ylabel('Sum of squared distances')\n",
    "plt.title('Elbow Method For Optimal k')\n",
    "plt.show()"
   ]
  },
  {
   "cell_type": "markdown",
   "metadata": {},
   "source": [
    "From the plot above, the choice for the optimal k is not so straightforward as even though k = 3 seems to be the elbow point, the sum of squared distances is quite high there. A choice between k=4 and k=7 seems viable, so let's go with k = 5 and run *k*-means to cluster the neighborhoods into 5 clusters."
   ]
  },
  {
   "cell_type": "code",
   "execution_count": null,
   "metadata": {},
   "outputs": [],
   "source": [
    "# set number of clusters\n",
    "kclusters = 5\n",
    "\n",
    "# run k-means clustering\n",
    "kmeans = KMeans(n_clusters=kclusters, random_state=0).fit(la_grouped_clustering)"
   ]
  },
  {
   "cell_type": "code",
   "execution_count": null,
   "metadata": {},
   "outputs": [],
   "source": [
    "# check cluster labels generated for each row in the dataframe\n",
    "kmeans.labels_[0:10] "
   ]
  },
  {
   "cell_type": "code",
   "execution_count": null,
   "metadata": {},
   "outputs": [],
   "source": [
    "# add clustering labels\n",
    "neighborhoods_venues_sorted.insert(0, 'Cluster Labels', kmeans.labels_)\n",
    "\n",
    "la_merged = la_subset\n",
    "\n",
    "# merge la_grouped with la_subset to add latitude/longitude for each neighborhood\n",
    "la_merged = la_merged.join(neighborhoods_venues_sorted.set_index('Neighborhood'), on='Neighborhood')\n",
    "\n",
    "la_merged.head() # check the last columns!"
   ]
  },
  {
   "cell_type": "markdown",
   "metadata": {},
   "source": [
    "We need the cluster labels to be of type int and not contain missing values i.e. NaN values for the further analysis to work so let's quickly it out."
   ]
  },
  {
   "cell_type": "code",
   "execution_count": null,
   "metadata": {},
   "outputs": [],
   "source": [
    "la_merged['Cluster Labels'].dtypes"
   ]
  },
  {
   "cell_type": "markdown",
   "metadata": {},
   "source": [
    "The labels are type int so that's okay. Let's check for NaN values."
   ]
  },
  {
   "cell_type": "code",
   "execution_count": null,
   "metadata": {},
   "outputs": [],
   "source": [
    "la_merged['Cluster Labels'].value_counts(dropna=False)"
   ]
  },
  {
   "cell_type": "markdown",
   "metadata": {},
   "source": [
    "There are none! **Finally, let's visualize the resulting clusters!**"
   ]
  },
  {
   "cell_type": "code",
   "execution_count": null,
   "metadata": {},
   "outputs": [],
   "source": [
    "# create map\n",
    "map_clusters = folium.Map(location=[latitude, longitude], zoom_start=11)\n",
    "\n",
    "# set color scheme for the clusters\n",
    "x = np.arange(kclusters)\n",
    "ys = [i + x + (i*x)**2 for i in (range(kclusters))]\n",
    "colors_array = cm.rainbow(np.linspace(0, 1, len(ys)))\n",
    "rainbow = [colors.rgb2hex(i) for i in colors_array]\n",
    "\n",
    "# add markers to the map\n",
    "markers_colors = []\n",
    "for lat, lon, poi, cluster in zip(la_merged['Latitude'], la_merged['Longitude'], la_merged['Neighborhood'], la_merged['Cluster Labels']):\n",
    "    label = folium.Popup(str(poi) + ' Cluster ' + str(cluster), parse_html=True)\n",
    "    folium.CircleMarker(\n",
    "        [lat, lon],\n",
    "        radius=5,\n",
    "        popup=label,\n",
    "        color=rainbow[cluster-1],\n",
    "        fill=True,\n",
    "        fill_color=rainbow[cluster-1],\n",
    "        fill_opacity=0.7).add_to(map_clusters)\n",
    "       \n",
    "map_clusters"
   ]
  },
  {
   "cell_type": "markdown",
   "metadata": {},
   "source": [
    "## 5. Examining the clusters"
   ]
  },
  {
   "cell_type": "markdown",
   "metadata": {},
   "source": [
    "Let's now examine each cluster and discover the distinctive venue categories that define each cluster."
   ]
  },
  {
   "cell_type": "markdown",
   "metadata": {},
   "source": [
    "#### Cluster 1"
   ]
  },
  {
   "cell_type": "code",
   "execution_count": null,
   "metadata": {},
   "outputs": [],
   "source": [
    "la_merged.loc[la_merged['Cluster Labels'] == 0, la_merged.columns[[1] + list(range(5, la_merged.shape[1]))]]"
   ]
  },
  {
   "cell_type": "markdown",
   "metadata": {},
   "source": [
    "#### Cluster 2"
   ]
  },
  {
   "cell_type": "code",
   "execution_count": null,
   "metadata": {},
   "outputs": [],
   "source": [
    "la_merged.loc[la_merged['Cluster Labels'] == 1, la_merged.columns[[1] + list(range(5, la_merged.shape[1]))]]"
   ]
  },
  {
   "cell_type": "markdown",
   "metadata": {},
   "source": [
    "#### Cluster 3"
   ]
  },
  {
   "cell_type": "code",
   "execution_count": null,
   "metadata": {},
   "outputs": [],
   "source": [
    "la_merged.loc[la_merged['Cluster Labels'] == 2, la_merged.columns[[1] + list(range(5, la_merged.shape[1]))]]"
   ]
  },
  {
   "cell_type": "markdown",
   "metadata": {},
   "source": [
    "#### Cluster 4"
   ]
  },
  {
   "cell_type": "code",
   "execution_count": null,
   "metadata": {},
   "outputs": [],
   "source": [
    "la_merged.loc[la_merged['Cluster Labels'] == 3, la_merged.columns[[1] + list(range(5, la_merged.shape[1]))]]"
   ]
  },
  {
   "cell_type": "markdown",
   "metadata": {},
   "source": [
    "#### Cluster 5"
   ]
  },
  {
   "cell_type": "code",
   "execution_count": null,
   "metadata": {},
   "outputs": [],
   "source": [
    "la_merged.loc[la_merged['Cluster Labels'] == 4, la_merged.columns[[1] + list(range(5, la_merged.shape[1]))]]"
   ]
  }
 ],
 "metadata": {
  "kernelspec": {
   "display_name": "Python",
   "language": "python",
   "name": "conda-env-python-py"
  },
  "language_info": {
   "codemirror_mode": {
    "name": "ipython",
    "version": 3
   },
   "file_extension": ".py",
   "mimetype": "text/x-python",
   "name": "python",
   "nbconvert_exporter": "python",
   "pygments_lexer": "ipython3",
   "version": "3.6.10"
  }
 },
 "nbformat": 4,
 "nbformat_minor": 4
}
